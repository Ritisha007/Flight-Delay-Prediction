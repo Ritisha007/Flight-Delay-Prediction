{
 "cells": [
  {
   "cell_type": "code",
   "execution_count": 1,
   "id": "56e7e930",
   "metadata": {},
   "outputs": [
    {
     "name": "stderr",
     "output_type": "stream",
     "text": [
      "DEPRECATION: Loading egg at c:\\program files\\python311\\lib\\site-packages\\vboxapi-1.0-py3.11.egg is deprecated. pip 24.3 will enforce this behaviour change. A possible replacement is to use pip for package installation.. Discussion can be found at https://github.com/pypa/pip/issues/12330\n"
     ]
    }
   ],
   "source": [
    "!pip install jovian --upgrade --quiet\n"
   ]
  },
  {
   "cell_type": "code",
   "execution_count": 2,
   "id": "eac8d1cd",
   "metadata": {},
   "outputs": [],
   "source": [
    "import jovian\n"
   ]
  },
  {
   "cell_type": "code",
   "execution_count": 3,
   "id": "2a7019c3",
   "metadata": {},
   "outputs": [
    {
     "name": "stderr",
     "output_type": "stream",
     "text": [
      "DEPRECATION: Loading egg at c:\\program files\\python311\\lib\\site-packages\\vboxapi-1.0-py3.11.egg is deprecated. pip 24.3 will enforce this behaviour change. A possible replacement is to use pip for package installation.. Discussion can be found at https://github.com/pypa/pip/issues/12330\n"
     ]
    }
   ],
   "source": [
    "!pip install numpy pandas matplotlib seaborn --quiet"
   ]
  },
  {
   "cell_type": "code",
   "execution_count": 4,
   "id": "e0626ddd",
   "metadata": {},
   "outputs": [
    {
     "name": "stderr",
     "output_type": "stream",
     "text": [
      "DEPRECATION: Loading egg at c:\\program files\\python311\\lib\\site-packages\\vboxapi-1.0-py3.11.egg is deprecated. pip 24.3 will enforce this behaviour change. A possible replacement is to use pip for package installation.. Discussion can be found at https://github.com/pypa/pip/issues/12330\n",
      "  WARNING: The script slugify.exe is installed in 'C:\\Users\\RITISHA\\AppData\\Roaming\\Python\\Python311\\Scripts' which is not on PATH.\n",
      "  Consider adding this directory to PATH or, if you prefer to suppress this warning, use --no-warn-script-location.\n",
      "  WARNING: The script kaggle.exe is installed in 'C:\\Users\\RITISHA\\AppData\\Roaming\\Python\\Python311\\Scripts' which is not on PATH.\n",
      "  Consider adding this directory to PATH or, if you prefer to suppress this warning, use --no-warn-script-location.\n"
     ]
    }
   ],
   "source": [
    "!pip install opendatasets xgboost graphviz lightgbm scikit-learn --upgrade --quiet"
   ]
  },
  {
   "cell_type": "code",
   "execution_count": 5,
   "id": "7067708d",
   "metadata": {},
   "outputs": [],
   "source": [
    "import numpy as np\n",
    "import pandas as pd\n",
    "import opendatasets as od\n",
    "import os\n",
    "pd.set_option(\"display.max_columns\", 120)\n",
    "pd.set_option(\"display.max_rows\", 120)"
   ]
  },
  {
   "cell_type": "code",
   "execution_count": 6,
   "id": "b2002bed",
   "metadata": {},
   "outputs": [],
   "source": [
    "import matplotlib.pyplot as plt\n",
    "import seaborn as sns\n",
    "import matplotlib\n",
    "import os\n",
    "%matplotlib inline\n",
    "\n",
    "sns.set_style('darkgrid')\n",
    "matplotlib.rcParams['font.size'] = 14\n",
    "matplotlib.rcParams['figure.figsize'] = (10, 6)\n",
    "matplotlib.rcParams['figure.facecolor'] = '#00000000'"
   ]
  },
  {
   "cell_type": "code",
   "execution_count": 7,
   "id": "a44fd121",
   "metadata": {},
   "outputs": [
    {
     "data": {
      "application/javascript": [
       "window.require && require([\"base/js/namespace\"],function(Jupyter){Jupyter.notebook.save_checkpoint()})"
      ],
      "text/plain": [
       "<IPython.core.display.Javascript object>"
      ]
     },
     "metadata": {},
     "output_type": "display_data"
    },
    {
     "name": "stderr",
     "output_type": "stream",
     "text": [
      "\u001b[31m[jovian] Error: The current API key is invalid or expired.\u001b[0m\n"
     ]
    },
    {
     "name": "stdout",
     "output_type": "stream",
     "text": [
      "[jovian] Please enter your API key ( from https://jovian.com/ ):\u001b[0m\n",
      "API KEY: ········\n",
      "[jovian] Updating notebook \"choudhuryritu12/customeer-segmentation-dqa-and-data-cleaning-customer-address\" on https://jovian.com/\u001b[0m\n",
      "[jovian] Committed successfully! https://jovian.com/choudhuryritu12/customeer-segmentation-dqa-and-data-cleaning-customer-address\u001b[0m\n"
     ]
    },
    {
     "data": {
      "text/plain": [
       "'https://jovian.com/choudhuryritu12/customeer-segmentation-dqa-and-data-cleaning-customer-address'"
      ]
     },
     "execution_count": 7,
     "metadata": {},
     "output_type": "execute_result"
    }
   ],
   "source": [
    "jovian.commit()"
   ]
  },
  {
   "cell_type": "markdown",
   "id": "dfdfb26b",
   "metadata": {},
   "source": [
    "## Download Dataset\n",
    "The dataset can also downloaded from Kaggle directly within the Jupyter notebook using the opendatasets library. Kaggle credentials are to be provided for downloading."
   ]
  },
  {
   "cell_type": "code",
   "execution_count": 10,
   "id": "2492f73a",
   "metadata": {},
   "outputs": [],
   "source": [
    "jan_2019_df = pd.read_csv('Jan_2019_ontime.csv')"
   ]
  },
  {
   "cell_type": "code",
   "execution_count": 11,
   "id": "104c556b",
   "metadata": {},
   "outputs": [],
   "source": [
    "jan_2020_df = pd.read_csv('Jan_2020_ontime.csv')"
   ]
  },
  {
   "cell_type": "code",
   "execution_count": 12,
   "id": "58f99ff6",
   "metadata": {},
   "outputs": [
    {
     "data": {
      "text/html": [
       "<div>\n",
       "<style scoped>\n",
       "    .dataframe tbody tr th:only-of-type {\n",
       "        vertical-align: middle;\n",
       "    }\n",
       "\n",
       "    .dataframe tbody tr th {\n",
       "        vertical-align: top;\n",
       "    }\n",
       "\n",
       "    .dataframe thead th {\n",
       "        text-align: right;\n",
       "    }\n",
       "</style>\n",
       "<table border=\"1\" class=\"dataframe\">\n",
       "  <thead>\n",
       "    <tr style=\"text-align: right;\">\n",
       "      <th></th>\n",
       "      <th>DAY_OF_MONTH</th>\n",
       "      <th>DAY_OF_WEEK</th>\n",
       "      <th>OP_UNIQUE_CARRIER</th>\n",
       "      <th>OP_CARRIER_AIRLINE_ID</th>\n",
       "      <th>OP_CARRIER</th>\n",
       "      <th>TAIL_NUM</th>\n",
       "      <th>OP_CARRIER_FL_NUM</th>\n",
       "      <th>ORIGIN_AIRPORT_ID</th>\n",
       "      <th>ORIGIN_AIRPORT_SEQ_ID</th>\n",
       "      <th>ORIGIN</th>\n",
       "      <th>DEST_AIRPORT_ID</th>\n",
       "      <th>DEST_AIRPORT_SEQ_ID</th>\n",
       "      <th>DEST</th>\n",
       "      <th>DEP_TIME</th>\n",
       "      <th>DEP_DEL15</th>\n",
       "      <th>DEP_TIME_BLK</th>\n",
       "      <th>ARR_TIME</th>\n",
       "      <th>ARR_DEL15</th>\n",
       "      <th>CANCELLED</th>\n",
       "      <th>DIVERTED</th>\n",
       "      <th>DISTANCE</th>\n",
       "      <th>Unnamed: 21</th>\n",
       "    </tr>\n",
       "  </thead>\n",
       "  <tbody>\n",
       "    <tr>\n",
       "      <th>0</th>\n",
       "      <td>1</td>\n",
       "      <td>2</td>\n",
       "      <td>9E</td>\n",
       "      <td>20363</td>\n",
       "      <td>9E</td>\n",
       "      <td>N8688C</td>\n",
       "      <td>3280</td>\n",
       "      <td>11953</td>\n",
       "      <td>1195302</td>\n",
       "      <td>GNV</td>\n",
       "      <td>10397</td>\n",
       "      <td>1039707</td>\n",
       "      <td>ATL</td>\n",
       "      <td>601.0</td>\n",
       "      <td>0.0</td>\n",
       "      <td>0600-0659</td>\n",
       "      <td>722.0</td>\n",
       "      <td>0.0</td>\n",
       "      <td>0.0</td>\n",
       "      <td>0.0</td>\n",
       "      <td>300.0</td>\n",
       "      <td>NaN</td>\n",
       "    </tr>\n",
       "    <tr>\n",
       "      <th>1</th>\n",
       "      <td>1</td>\n",
       "      <td>2</td>\n",
       "      <td>9E</td>\n",
       "      <td>20363</td>\n",
       "      <td>9E</td>\n",
       "      <td>N348PQ</td>\n",
       "      <td>3281</td>\n",
       "      <td>13487</td>\n",
       "      <td>1348702</td>\n",
       "      <td>MSP</td>\n",
       "      <td>11193</td>\n",
       "      <td>1119302</td>\n",
       "      <td>CVG</td>\n",
       "      <td>1359.0</td>\n",
       "      <td>0.0</td>\n",
       "      <td>1400-1459</td>\n",
       "      <td>1633.0</td>\n",
       "      <td>0.0</td>\n",
       "      <td>0.0</td>\n",
       "      <td>0.0</td>\n",
       "      <td>596.0</td>\n",
       "      <td>NaN</td>\n",
       "    </tr>\n",
       "    <tr>\n",
       "      <th>2</th>\n",
       "      <td>1</td>\n",
       "      <td>2</td>\n",
       "      <td>9E</td>\n",
       "      <td>20363</td>\n",
       "      <td>9E</td>\n",
       "      <td>N8896A</td>\n",
       "      <td>3282</td>\n",
       "      <td>11433</td>\n",
       "      <td>1143302</td>\n",
       "      <td>DTW</td>\n",
       "      <td>11193</td>\n",
       "      <td>1119302</td>\n",
       "      <td>CVG</td>\n",
       "      <td>1215.0</td>\n",
       "      <td>0.0</td>\n",
       "      <td>1200-1259</td>\n",
       "      <td>1329.0</td>\n",
       "      <td>0.0</td>\n",
       "      <td>0.0</td>\n",
       "      <td>0.0</td>\n",
       "      <td>229.0</td>\n",
       "      <td>NaN</td>\n",
       "    </tr>\n",
       "    <tr>\n",
       "      <th>3</th>\n",
       "      <td>1</td>\n",
       "      <td>2</td>\n",
       "      <td>9E</td>\n",
       "      <td>20363</td>\n",
       "      <td>9E</td>\n",
       "      <td>N8886A</td>\n",
       "      <td>3283</td>\n",
       "      <td>15249</td>\n",
       "      <td>1524906</td>\n",
       "      <td>TLH</td>\n",
       "      <td>10397</td>\n",
       "      <td>1039707</td>\n",
       "      <td>ATL</td>\n",
       "      <td>1521.0</td>\n",
       "      <td>0.0</td>\n",
       "      <td>1500-1559</td>\n",
       "      <td>1625.0</td>\n",
       "      <td>0.0</td>\n",
       "      <td>0.0</td>\n",
       "      <td>0.0</td>\n",
       "      <td>223.0</td>\n",
       "      <td>NaN</td>\n",
       "    </tr>\n",
       "    <tr>\n",
       "      <th>4</th>\n",
       "      <td>1</td>\n",
       "      <td>2</td>\n",
       "      <td>9E</td>\n",
       "      <td>20363</td>\n",
       "      <td>9E</td>\n",
       "      <td>N8974C</td>\n",
       "      <td>3284</td>\n",
       "      <td>10397</td>\n",
       "      <td>1039707</td>\n",
       "      <td>ATL</td>\n",
       "      <td>11778</td>\n",
       "      <td>1177801</td>\n",
       "      <td>FSM</td>\n",
       "      <td>1847.0</td>\n",
       "      <td>0.0</td>\n",
       "      <td>1900-1959</td>\n",
       "      <td>1940.0</td>\n",
       "      <td>0.0</td>\n",
       "      <td>0.0</td>\n",
       "      <td>0.0</td>\n",
       "      <td>579.0</td>\n",
       "      <td>NaN</td>\n",
       "    </tr>\n",
       "  </tbody>\n",
       "</table>\n",
       "</div>"
      ],
      "text/plain": [
       "   DAY_OF_MONTH  DAY_OF_WEEK OP_UNIQUE_CARRIER  OP_CARRIER_AIRLINE_ID  \\\n",
       "0             1            2                9E                  20363   \n",
       "1             1            2                9E                  20363   \n",
       "2             1            2                9E                  20363   \n",
       "3             1            2                9E                  20363   \n",
       "4             1            2                9E                  20363   \n",
       "\n",
       "  OP_CARRIER TAIL_NUM  OP_CARRIER_FL_NUM  ORIGIN_AIRPORT_ID  \\\n",
       "0         9E   N8688C               3280              11953   \n",
       "1         9E   N348PQ               3281              13487   \n",
       "2         9E   N8896A               3282              11433   \n",
       "3         9E   N8886A               3283              15249   \n",
       "4         9E   N8974C               3284              10397   \n",
       "\n",
       "   ORIGIN_AIRPORT_SEQ_ID ORIGIN  DEST_AIRPORT_ID  DEST_AIRPORT_SEQ_ID DEST  \\\n",
       "0                1195302    GNV            10397              1039707  ATL   \n",
       "1                1348702    MSP            11193              1119302  CVG   \n",
       "2                1143302    DTW            11193              1119302  CVG   \n",
       "3                1524906    TLH            10397              1039707  ATL   \n",
       "4                1039707    ATL            11778              1177801  FSM   \n",
       "\n",
       "   DEP_TIME  DEP_DEL15 DEP_TIME_BLK  ARR_TIME  ARR_DEL15  CANCELLED  DIVERTED  \\\n",
       "0     601.0        0.0    0600-0659     722.0        0.0        0.0       0.0   \n",
       "1    1359.0        0.0    1400-1459    1633.0        0.0        0.0       0.0   \n",
       "2    1215.0        0.0    1200-1259    1329.0        0.0        0.0       0.0   \n",
       "3    1521.0        0.0    1500-1559    1625.0        0.0        0.0       0.0   \n",
       "4    1847.0        0.0    1900-1959    1940.0        0.0        0.0       0.0   \n",
       "\n",
       "   DISTANCE  Unnamed: 21  \n",
       "0     300.0          NaN  \n",
       "1     596.0          NaN  \n",
       "2     229.0          NaN  \n",
       "3     223.0          NaN  \n",
       "4     579.0          NaN  "
      ]
     },
     "execution_count": 12,
     "metadata": {},
     "output_type": "execute_result"
    }
   ],
   "source": [
    "jan_2019_df.head(5)\n"
   ]
  },
  {
   "cell_type": "code",
   "execution_count": 13,
   "id": "196328b4",
   "metadata": {},
   "outputs": [
    {
     "data": {
      "text/html": [
       "<div>\n",
       "<style scoped>\n",
       "    .dataframe tbody tr th:only-of-type {\n",
       "        vertical-align: middle;\n",
       "    }\n",
       "\n",
       "    .dataframe tbody tr th {\n",
       "        vertical-align: top;\n",
       "    }\n",
       "\n",
       "    .dataframe thead th {\n",
       "        text-align: right;\n",
       "    }\n",
       "</style>\n",
       "<table border=\"1\" class=\"dataframe\">\n",
       "  <thead>\n",
       "    <tr style=\"text-align: right;\">\n",
       "      <th></th>\n",
       "      <th>DAY_OF_MONTH</th>\n",
       "      <th>DAY_OF_WEEK</th>\n",
       "      <th>OP_UNIQUE_CARRIER</th>\n",
       "      <th>OP_CARRIER_AIRLINE_ID</th>\n",
       "      <th>OP_CARRIER</th>\n",
       "      <th>TAIL_NUM</th>\n",
       "      <th>OP_CARRIER_FL_NUM</th>\n",
       "      <th>ORIGIN_AIRPORT_ID</th>\n",
       "      <th>ORIGIN_AIRPORT_SEQ_ID</th>\n",
       "      <th>ORIGIN</th>\n",
       "      <th>DEST_AIRPORT_ID</th>\n",
       "      <th>DEST_AIRPORT_SEQ_ID</th>\n",
       "      <th>DEST</th>\n",
       "      <th>DEP_TIME</th>\n",
       "      <th>DEP_DEL15</th>\n",
       "      <th>DEP_TIME_BLK</th>\n",
       "      <th>ARR_TIME</th>\n",
       "      <th>ARR_DEL15</th>\n",
       "      <th>CANCELLED</th>\n",
       "      <th>DIVERTED</th>\n",
       "      <th>DISTANCE</th>\n",
       "      <th>Unnamed: 21</th>\n",
       "    </tr>\n",
       "  </thead>\n",
       "  <tbody>\n",
       "    <tr>\n",
       "      <th>0</th>\n",
       "      <td>1</td>\n",
       "      <td>3</td>\n",
       "      <td>EV</td>\n",
       "      <td>20366</td>\n",
       "      <td>EV</td>\n",
       "      <td>N48901</td>\n",
       "      <td>4397</td>\n",
       "      <td>13930</td>\n",
       "      <td>1393007</td>\n",
       "      <td>ORD</td>\n",
       "      <td>11977</td>\n",
       "      <td>1197705</td>\n",
       "      <td>GRB</td>\n",
       "      <td>1003.0</td>\n",
       "      <td>0.0</td>\n",
       "      <td>1000-1059</td>\n",
       "      <td>1117.0</td>\n",
       "      <td>0.0</td>\n",
       "      <td>0.0</td>\n",
       "      <td>0.0</td>\n",
       "      <td>174.0</td>\n",
       "      <td>NaN</td>\n",
       "    </tr>\n",
       "    <tr>\n",
       "      <th>1</th>\n",
       "      <td>1</td>\n",
       "      <td>3</td>\n",
       "      <td>EV</td>\n",
       "      <td>20366</td>\n",
       "      <td>EV</td>\n",
       "      <td>N16976</td>\n",
       "      <td>4401</td>\n",
       "      <td>15370</td>\n",
       "      <td>1537002</td>\n",
       "      <td>TUL</td>\n",
       "      <td>13930</td>\n",
       "      <td>1393007</td>\n",
       "      <td>ORD</td>\n",
       "      <td>1027.0</td>\n",
       "      <td>0.0</td>\n",
       "      <td>1000-1059</td>\n",
       "      <td>1216.0</td>\n",
       "      <td>0.0</td>\n",
       "      <td>0.0</td>\n",
       "      <td>0.0</td>\n",
       "      <td>585.0</td>\n",
       "      <td>NaN</td>\n",
       "    </tr>\n",
       "    <tr>\n",
       "      <th>2</th>\n",
       "      <td>1</td>\n",
       "      <td>3</td>\n",
       "      <td>EV</td>\n",
       "      <td>20366</td>\n",
       "      <td>EV</td>\n",
       "      <td>N12167</td>\n",
       "      <td>4404</td>\n",
       "      <td>11618</td>\n",
       "      <td>1161802</td>\n",
       "      <td>EWR</td>\n",
       "      <td>15412</td>\n",
       "      <td>1541205</td>\n",
       "      <td>TYS</td>\n",
       "      <td>1848.0</td>\n",
       "      <td>0.0</td>\n",
       "      <td>1800-1859</td>\n",
       "      <td>2120.0</td>\n",
       "      <td>0.0</td>\n",
       "      <td>0.0</td>\n",
       "      <td>0.0</td>\n",
       "      <td>631.0</td>\n",
       "      <td>NaN</td>\n",
       "    </tr>\n",
       "    <tr>\n",
       "      <th>3</th>\n",
       "      <td>1</td>\n",
       "      <td>3</td>\n",
       "      <td>EV</td>\n",
       "      <td>20366</td>\n",
       "      <td>EV</td>\n",
       "      <td>N14902</td>\n",
       "      <td>4405</td>\n",
       "      <td>10781</td>\n",
       "      <td>1078105</td>\n",
       "      <td>BTR</td>\n",
       "      <td>12266</td>\n",
       "      <td>1226603</td>\n",
       "      <td>IAH</td>\n",
       "      <td>1846.0</td>\n",
       "      <td>0.0</td>\n",
       "      <td>1800-1859</td>\n",
       "      <td>2004.0</td>\n",
       "      <td>0.0</td>\n",
       "      <td>0.0</td>\n",
       "      <td>0.0</td>\n",
       "      <td>253.0</td>\n",
       "      <td>NaN</td>\n",
       "    </tr>\n",
       "    <tr>\n",
       "      <th>4</th>\n",
       "      <td>1</td>\n",
       "      <td>3</td>\n",
       "      <td>EV</td>\n",
       "      <td>20366</td>\n",
       "      <td>EV</td>\n",
       "      <td>N606UX</td>\n",
       "      <td>4407</td>\n",
       "      <td>14524</td>\n",
       "      <td>1452401</td>\n",
       "      <td>RIC</td>\n",
       "      <td>12266</td>\n",
       "      <td>1226603</td>\n",
       "      <td>IAH</td>\n",
       "      <td>1038.0</td>\n",
       "      <td>0.0</td>\n",
       "      <td>1000-1059</td>\n",
       "      <td>1330.0</td>\n",
       "      <td>0.0</td>\n",
       "      <td>0.0</td>\n",
       "      <td>0.0</td>\n",
       "      <td>1157.0</td>\n",
       "      <td>NaN</td>\n",
       "    </tr>\n",
       "  </tbody>\n",
       "</table>\n",
       "</div>"
      ],
      "text/plain": [
       "   DAY_OF_MONTH  DAY_OF_WEEK OP_UNIQUE_CARRIER  OP_CARRIER_AIRLINE_ID  \\\n",
       "0             1            3                EV                  20366   \n",
       "1             1            3                EV                  20366   \n",
       "2             1            3                EV                  20366   \n",
       "3             1            3                EV                  20366   \n",
       "4             1            3                EV                  20366   \n",
       "\n",
       "  OP_CARRIER TAIL_NUM  OP_CARRIER_FL_NUM  ORIGIN_AIRPORT_ID  \\\n",
       "0         EV   N48901               4397              13930   \n",
       "1         EV   N16976               4401              15370   \n",
       "2         EV   N12167               4404              11618   \n",
       "3         EV   N14902               4405              10781   \n",
       "4         EV   N606UX               4407              14524   \n",
       "\n",
       "   ORIGIN_AIRPORT_SEQ_ID ORIGIN  DEST_AIRPORT_ID  DEST_AIRPORT_SEQ_ID DEST  \\\n",
       "0                1393007    ORD            11977              1197705  GRB   \n",
       "1                1537002    TUL            13930              1393007  ORD   \n",
       "2                1161802    EWR            15412              1541205  TYS   \n",
       "3                1078105    BTR            12266              1226603  IAH   \n",
       "4                1452401    RIC            12266              1226603  IAH   \n",
       "\n",
       "   DEP_TIME  DEP_DEL15 DEP_TIME_BLK  ARR_TIME  ARR_DEL15  CANCELLED  DIVERTED  \\\n",
       "0    1003.0        0.0    1000-1059    1117.0        0.0        0.0       0.0   \n",
       "1    1027.0        0.0    1000-1059    1216.0        0.0        0.0       0.0   \n",
       "2    1848.0        0.0    1800-1859    2120.0        0.0        0.0       0.0   \n",
       "3    1846.0        0.0    1800-1859    2004.0        0.0        0.0       0.0   \n",
       "4    1038.0        0.0    1000-1059    1330.0        0.0        0.0       0.0   \n",
       "\n",
       "   DISTANCE  Unnamed: 21  \n",
       "0     174.0          NaN  \n",
       "1     585.0          NaN  \n",
       "2     631.0          NaN  \n",
       "3     253.0          NaN  \n",
       "4    1157.0          NaN  "
      ]
     },
     "execution_count": 13,
     "metadata": {},
     "output_type": "execute_result"
    }
   ],
   "source": [
    "jan_2020_df.head(5)\n"
   ]
  },
  {
   "cell_type": "markdown",
   "id": "fe094e64",
   "metadata": {},
   "source": [
    "#### Now we can combine the data from two dataframes into a new dataframe for further processing. Concatenation along row axis is done here."
   ]
  },
  {
   "cell_type": "code",
   "execution_count": 15,
   "id": "68d4f6af",
   "metadata": {},
   "outputs": [
    {
     "data": {
      "text/html": [
       "<div>\n",
       "<style scoped>\n",
       "    .dataframe tbody tr th:only-of-type {\n",
       "        vertical-align: middle;\n",
       "    }\n",
       "\n",
       "    .dataframe tbody tr th {\n",
       "        vertical-align: top;\n",
       "    }\n",
       "\n",
       "    .dataframe thead th {\n",
       "        text-align: right;\n",
       "    }\n",
       "</style>\n",
       "<table border=\"1\" class=\"dataframe\">\n",
       "  <thead>\n",
       "    <tr style=\"text-align: right;\">\n",
       "      <th></th>\n",
       "      <th>DAY_OF_MONTH</th>\n",
       "      <th>DAY_OF_WEEK</th>\n",
       "      <th>OP_UNIQUE_CARRIER</th>\n",
       "      <th>OP_CARRIER_AIRLINE_ID</th>\n",
       "      <th>OP_CARRIER</th>\n",
       "      <th>TAIL_NUM</th>\n",
       "      <th>OP_CARRIER_FL_NUM</th>\n",
       "      <th>ORIGIN_AIRPORT_ID</th>\n",
       "      <th>ORIGIN_AIRPORT_SEQ_ID</th>\n",
       "      <th>ORIGIN</th>\n",
       "      <th>DEST_AIRPORT_ID</th>\n",
       "      <th>DEST_AIRPORT_SEQ_ID</th>\n",
       "      <th>DEST</th>\n",
       "      <th>DEP_TIME</th>\n",
       "      <th>DEP_DEL15</th>\n",
       "      <th>DEP_TIME_BLK</th>\n",
       "      <th>ARR_TIME</th>\n",
       "      <th>ARR_DEL15</th>\n",
       "      <th>CANCELLED</th>\n",
       "      <th>DIVERTED</th>\n",
       "      <th>DISTANCE</th>\n",
       "      <th>Unnamed: 21</th>\n",
       "    </tr>\n",
       "  </thead>\n",
       "  <tbody>\n",
       "    <tr>\n",
       "      <th>0</th>\n",
       "      <td>1</td>\n",
       "      <td>2</td>\n",
       "      <td>9E</td>\n",
       "      <td>20363</td>\n",
       "      <td>9E</td>\n",
       "      <td>N8688C</td>\n",
       "      <td>3280</td>\n",
       "      <td>11953</td>\n",
       "      <td>1195302</td>\n",
       "      <td>GNV</td>\n",
       "      <td>10397</td>\n",
       "      <td>1039707</td>\n",
       "      <td>ATL</td>\n",
       "      <td>601.0</td>\n",
       "      <td>0.0</td>\n",
       "      <td>0600-0659</td>\n",
       "      <td>722.0</td>\n",
       "      <td>0.0</td>\n",
       "      <td>0.0</td>\n",
       "      <td>0.0</td>\n",
       "      <td>300.0</td>\n",
       "      <td>NaN</td>\n",
       "    </tr>\n",
       "    <tr>\n",
       "      <th>1</th>\n",
       "      <td>1</td>\n",
       "      <td>2</td>\n",
       "      <td>9E</td>\n",
       "      <td>20363</td>\n",
       "      <td>9E</td>\n",
       "      <td>N348PQ</td>\n",
       "      <td>3281</td>\n",
       "      <td>13487</td>\n",
       "      <td>1348702</td>\n",
       "      <td>MSP</td>\n",
       "      <td>11193</td>\n",
       "      <td>1119302</td>\n",
       "      <td>CVG</td>\n",
       "      <td>1359.0</td>\n",
       "      <td>0.0</td>\n",
       "      <td>1400-1459</td>\n",
       "      <td>1633.0</td>\n",
       "      <td>0.0</td>\n",
       "      <td>0.0</td>\n",
       "      <td>0.0</td>\n",
       "      <td>596.0</td>\n",
       "      <td>NaN</td>\n",
       "    </tr>\n",
       "    <tr>\n",
       "      <th>2</th>\n",
       "      <td>1</td>\n",
       "      <td>2</td>\n",
       "      <td>9E</td>\n",
       "      <td>20363</td>\n",
       "      <td>9E</td>\n",
       "      <td>N8896A</td>\n",
       "      <td>3282</td>\n",
       "      <td>11433</td>\n",
       "      <td>1143302</td>\n",
       "      <td>DTW</td>\n",
       "      <td>11193</td>\n",
       "      <td>1119302</td>\n",
       "      <td>CVG</td>\n",
       "      <td>1215.0</td>\n",
       "      <td>0.0</td>\n",
       "      <td>1200-1259</td>\n",
       "      <td>1329.0</td>\n",
       "      <td>0.0</td>\n",
       "      <td>0.0</td>\n",
       "      <td>0.0</td>\n",
       "      <td>229.0</td>\n",
       "      <td>NaN</td>\n",
       "    </tr>\n",
       "    <tr>\n",
       "      <th>3</th>\n",
       "      <td>1</td>\n",
       "      <td>2</td>\n",
       "      <td>9E</td>\n",
       "      <td>20363</td>\n",
       "      <td>9E</td>\n",
       "      <td>N8886A</td>\n",
       "      <td>3283</td>\n",
       "      <td>15249</td>\n",
       "      <td>1524906</td>\n",
       "      <td>TLH</td>\n",
       "      <td>10397</td>\n",
       "      <td>1039707</td>\n",
       "      <td>ATL</td>\n",
       "      <td>1521.0</td>\n",
       "      <td>0.0</td>\n",
       "      <td>1500-1559</td>\n",
       "      <td>1625.0</td>\n",
       "      <td>0.0</td>\n",
       "      <td>0.0</td>\n",
       "      <td>0.0</td>\n",
       "      <td>223.0</td>\n",
       "      <td>NaN</td>\n",
       "    </tr>\n",
       "    <tr>\n",
       "      <th>4</th>\n",
       "      <td>1</td>\n",
       "      <td>2</td>\n",
       "      <td>9E</td>\n",
       "      <td>20363</td>\n",
       "      <td>9E</td>\n",
       "      <td>N8974C</td>\n",
       "      <td>3284</td>\n",
       "      <td>10397</td>\n",
       "      <td>1039707</td>\n",
       "      <td>ATL</td>\n",
       "      <td>11778</td>\n",
       "      <td>1177801</td>\n",
       "      <td>FSM</td>\n",
       "      <td>1847.0</td>\n",
       "      <td>0.0</td>\n",
       "      <td>1900-1959</td>\n",
       "      <td>1940.0</td>\n",
       "      <td>0.0</td>\n",
       "      <td>0.0</td>\n",
       "      <td>0.0</td>\n",
       "      <td>579.0</td>\n",
       "      <td>NaN</td>\n",
       "    </tr>\n",
       "    <tr>\n",
       "      <th>...</th>\n",
       "      <td>...</td>\n",
       "      <td>...</td>\n",
       "      <td>...</td>\n",
       "      <td>...</td>\n",
       "      <td>...</td>\n",
       "      <td>...</td>\n",
       "      <td>...</td>\n",
       "      <td>...</td>\n",
       "      <td>...</td>\n",
       "      <td>...</td>\n",
       "      <td>...</td>\n",
       "      <td>...</td>\n",
       "      <td>...</td>\n",
       "      <td>...</td>\n",
       "      <td>...</td>\n",
       "      <td>...</td>\n",
       "      <td>...</td>\n",
       "      <td>...</td>\n",
       "      <td>...</td>\n",
       "      <td>...</td>\n",
       "      <td>...</td>\n",
       "      <td>...</td>\n",
       "    </tr>\n",
       "    <tr>\n",
       "      <th>1191326</th>\n",
       "      <td>31</td>\n",
       "      <td>5</td>\n",
       "      <td>9E</td>\n",
       "      <td>20363</td>\n",
       "      <td>9E</td>\n",
       "      <td>N331CA</td>\n",
       "      <td>4812</td>\n",
       "      <td>15412</td>\n",
       "      <td>1541205</td>\n",
       "      <td>TYS</td>\n",
       "      <td>11433</td>\n",
       "      <td>1143302</td>\n",
       "      <td>DTW</td>\n",
       "      <td>1002.0</td>\n",
       "      <td>1.0</td>\n",
       "      <td>0700-0759</td>\n",
       "      <td>1128.0</td>\n",
       "      <td>1.0</td>\n",
       "      <td>0.0</td>\n",
       "      <td>0.0</td>\n",
       "      <td>443.0</td>\n",
       "      <td>NaN</td>\n",
       "    </tr>\n",
       "    <tr>\n",
       "      <th>1191327</th>\n",
       "      <td>31</td>\n",
       "      <td>5</td>\n",
       "      <td>9E</td>\n",
       "      <td>20363</td>\n",
       "      <td>9E</td>\n",
       "      <td>N295PQ</td>\n",
       "      <td>4813</td>\n",
       "      <td>11433</td>\n",
       "      <td>1143302</td>\n",
       "      <td>DTW</td>\n",
       "      <td>12478</td>\n",
       "      <td>1247805</td>\n",
       "      <td>JFK</td>\n",
       "      <td>1747.0</td>\n",
       "      <td>0.0</td>\n",
       "      <td>1700-1759</td>\n",
       "      <td>1933.0</td>\n",
       "      <td>0.0</td>\n",
       "      <td>0.0</td>\n",
       "      <td>0.0</td>\n",
       "      <td>509.0</td>\n",
       "      <td>NaN</td>\n",
       "    </tr>\n",
       "    <tr>\n",
       "      <th>1191328</th>\n",
       "      <td>31</td>\n",
       "      <td>5</td>\n",
       "      <td>9E</td>\n",
       "      <td>20363</td>\n",
       "      <td>9E</td>\n",
       "      <td>N294PQ</td>\n",
       "      <td>4814</td>\n",
       "      <td>11996</td>\n",
       "      <td>1199603</td>\n",
       "      <td>GSP</td>\n",
       "      <td>12953</td>\n",
       "      <td>1295304</td>\n",
       "      <td>LGA</td>\n",
       "      <td>554.0</td>\n",
       "      <td>0.0</td>\n",
       "      <td>0600-0659</td>\n",
       "      <td>752.0</td>\n",
       "      <td>0.0</td>\n",
       "      <td>0.0</td>\n",
       "      <td>0.0</td>\n",
       "      <td>610.0</td>\n",
       "      <td>NaN</td>\n",
       "    </tr>\n",
       "    <tr>\n",
       "      <th>1191329</th>\n",
       "      <td>31</td>\n",
       "      <td>5</td>\n",
       "      <td>9E</td>\n",
       "      <td>20363</td>\n",
       "      <td>9E</td>\n",
       "      <td>N228PQ</td>\n",
       "      <td>4815</td>\n",
       "      <td>10397</td>\n",
       "      <td>1039707</td>\n",
       "      <td>ATL</td>\n",
       "      <td>15919</td>\n",
       "      <td>1591904</td>\n",
       "      <td>XNA</td>\n",
       "      <td>1714.0</td>\n",
       "      <td>0.0</td>\n",
       "      <td>1700-1759</td>\n",
       "      <td>1811.0</td>\n",
       "      <td>0.0</td>\n",
       "      <td>0.0</td>\n",
       "      <td>0.0</td>\n",
       "      <td>589.0</td>\n",
       "      <td>NaN</td>\n",
       "    </tr>\n",
       "    <tr>\n",
       "      <th>1191330</th>\n",
       "      <td>31</td>\n",
       "      <td>5</td>\n",
       "      <td>9E</td>\n",
       "      <td>20363</td>\n",
       "      <td>9E</td>\n",
       "      <td>N228PQ</td>\n",
       "      <td>4815</td>\n",
       "      <td>15919</td>\n",
       "      <td>1591904</td>\n",
       "      <td>XNA</td>\n",
       "      <td>10397</td>\n",
       "      <td>1039707</td>\n",
       "      <td>ATL</td>\n",
       "      <td>1841.0</td>\n",
       "      <td>0.0</td>\n",
       "      <td>1800-1859</td>\n",
       "      <td>2128.0</td>\n",
       "      <td>0.0</td>\n",
       "      <td>0.0</td>\n",
       "      <td>0.0</td>\n",
       "      <td>589.0</td>\n",
       "      <td>NaN</td>\n",
       "    </tr>\n",
       "  </tbody>\n",
       "</table>\n",
       "<p>1191331 rows × 22 columns</p>\n",
       "</div>"
      ],
      "text/plain": [
       "         DAY_OF_MONTH  DAY_OF_WEEK OP_UNIQUE_CARRIER  OP_CARRIER_AIRLINE_ID  \\\n",
       "0                   1            2                9E                  20363   \n",
       "1                   1            2                9E                  20363   \n",
       "2                   1            2                9E                  20363   \n",
       "3                   1            2                9E                  20363   \n",
       "4                   1            2                9E                  20363   \n",
       "...               ...          ...               ...                    ...   \n",
       "1191326            31            5                9E                  20363   \n",
       "1191327            31            5                9E                  20363   \n",
       "1191328            31            5                9E                  20363   \n",
       "1191329            31            5                9E                  20363   \n",
       "1191330            31            5                9E                  20363   \n",
       "\n",
       "        OP_CARRIER TAIL_NUM  OP_CARRIER_FL_NUM  ORIGIN_AIRPORT_ID  \\\n",
       "0               9E   N8688C               3280              11953   \n",
       "1               9E   N348PQ               3281              13487   \n",
       "2               9E   N8896A               3282              11433   \n",
       "3               9E   N8886A               3283              15249   \n",
       "4               9E   N8974C               3284              10397   \n",
       "...            ...      ...                ...                ...   \n",
       "1191326         9E   N331CA               4812              15412   \n",
       "1191327         9E   N295PQ               4813              11433   \n",
       "1191328         9E   N294PQ               4814              11996   \n",
       "1191329         9E   N228PQ               4815              10397   \n",
       "1191330         9E   N228PQ               4815              15919   \n",
       "\n",
       "         ORIGIN_AIRPORT_SEQ_ID ORIGIN  DEST_AIRPORT_ID  DEST_AIRPORT_SEQ_ID  \\\n",
       "0                      1195302    GNV            10397              1039707   \n",
       "1                      1348702    MSP            11193              1119302   \n",
       "2                      1143302    DTW            11193              1119302   \n",
       "3                      1524906    TLH            10397              1039707   \n",
       "4                      1039707    ATL            11778              1177801   \n",
       "...                        ...    ...              ...                  ...   \n",
       "1191326                1541205    TYS            11433              1143302   \n",
       "1191327                1143302    DTW            12478              1247805   \n",
       "1191328                1199603    GSP            12953              1295304   \n",
       "1191329                1039707    ATL            15919              1591904   \n",
       "1191330                1591904    XNA            10397              1039707   \n",
       "\n",
       "        DEST  DEP_TIME  DEP_DEL15 DEP_TIME_BLK  ARR_TIME  ARR_DEL15  \\\n",
       "0        ATL     601.0        0.0    0600-0659     722.0        0.0   \n",
       "1        CVG    1359.0        0.0    1400-1459    1633.0        0.0   \n",
       "2        CVG    1215.0        0.0    1200-1259    1329.0        0.0   \n",
       "3        ATL    1521.0        0.0    1500-1559    1625.0        0.0   \n",
       "4        FSM    1847.0        0.0    1900-1959    1940.0        0.0   \n",
       "...      ...       ...        ...          ...       ...        ...   \n",
       "1191326  DTW    1002.0        1.0    0700-0759    1128.0        1.0   \n",
       "1191327  JFK    1747.0        0.0    1700-1759    1933.0        0.0   \n",
       "1191328  LGA     554.0        0.0    0600-0659     752.0        0.0   \n",
       "1191329  XNA    1714.0        0.0    1700-1759    1811.0        0.0   \n",
       "1191330  ATL    1841.0        0.0    1800-1859    2128.0        0.0   \n",
       "\n",
       "         CANCELLED  DIVERTED  DISTANCE  Unnamed: 21  \n",
       "0              0.0       0.0     300.0          NaN  \n",
       "1              0.0       0.0     596.0          NaN  \n",
       "2              0.0       0.0     229.0          NaN  \n",
       "3              0.0       0.0     223.0          NaN  \n",
       "4              0.0       0.0     579.0          NaN  \n",
       "...            ...       ...       ...          ...  \n",
       "1191326        0.0       0.0     443.0          NaN  \n",
       "1191327        0.0       0.0     509.0          NaN  \n",
       "1191328        0.0       0.0     610.0          NaN  \n",
       "1191329        0.0       0.0     589.0          NaN  \n",
       "1191330        0.0       0.0     589.0          NaN  \n",
       "\n",
       "[1191331 rows x 22 columns]"
      ]
     },
     "execution_count": 15,
     "metadata": {},
     "output_type": "execute_result"
    }
   ],
   "source": [
    "raw_df = pd.concat(objs = [jan_2019_df, jan_2020_df], ignore_index = True)\n",
    "raw_df"
   ]
  },
  {
   "cell_type": "code",
   "execution_count": null,
   "id": "59636e33",
   "metadata": {},
   "outputs": [],
   "source": []
  },
  {
   "cell_type": "code",
   "execution_count": 17,
   "id": "38abe32f",
   "metadata": {},
   "outputs": [
    {
     "data": {
      "application/javascript": [
       "window.require && require([\"base/js/namespace\"],function(Jupyter){Jupyter.notebook.save_checkpoint()})"
      ],
      "text/plain": [
       "<IPython.core.display.Javascript object>"
      ]
     },
     "metadata": {},
     "output_type": "display_data"
    },
    {
     "name": "stdout",
     "output_type": "stream",
     "text": [
      "[jovian] Creating a new project \"choudhuryritu12/Flight Delay Detection\"\u001b[0m\n",
      "[jovian] Committed successfully! https://jovian.com/choudhuryritu12/flight-delay-detection\u001b[0m\n"
     ]
    },
    {
     "data": {
      "text/plain": [
       "'https://jovian.com/choudhuryritu12/flight-delay-detection'"
      ]
     },
     "execution_count": 17,
     "metadata": {},
     "output_type": "execute_result"
    }
   ],
   "source": [
    "jovian.commit(project='Flight Delay Detection', environment=None)"
   ]
  },
  {
   "cell_type": "markdown",
   "id": "eaace20f",
   "metadata": {},
   "source": [
    "## Problem Statement\n",
    "#### Dataset\n",
    "There are 22 columns for the dataset and corresponding column description are given below.\n",
    "\n",
    "1.Day of Month\n",
    "2.Day of Week starting from Monday\n",
    "3.Unique Carrier Code.\n",
    "4.An identification number assigned by US DOT to identify a unique airline (carrier).\n",
    "5.Code assigned by IATA and commonly used to identify a carrier.\n",
    "6.Tail Number\n",
    "7.Flight Number\n",
    "8.Origin Airport, Airport ID. An identification number assigned by US DOT to identify a unique airport.\n",
    "9.Origin Airport, Airport Sequence ID.\n",
    "10.Origin Airport\n",
    "11.Destination Airport, Airport ID. An identification number assigned by US DOT to identify a unique airport.\n",
    "12.Destination Airport, Airport Sequence ID.\n",
    "13.Destination Airport.\n",
    "14.Actual Departure Time (local time: hhmm)\n",
    "15.Departure Delay Indicator, 15 Minutes or More (1=Yes, 0=No)\n",
    "16.Departure Time Block, Hourly Intervals\n",
    "17.Actual Arrival Time (local time: hhmm)\n",
    "18.Arrival Delay Indicator, 15 Minutes or More (1=Yes, 0=No)\n",
    "19.Cancelled Flight Indicator (1=Yes, 0=No)\n",
    "20.Diverted Flight Indicator (1=Yes, 0=No)\n",
    "21.Distance between airports (miles)\n",
    "22.Unnamed: 21 - no description available"
   ]
  },
  {
   "cell_type": "markdown",
   "id": "fd68d20d",
   "metadata": {},
   "source": [
    "### Problem Statement and Objective\n",
    "From the description of columns one can find scope for many interesting problems such as flight cancellation prediction, flight departure delay prediction, flight arrival delay prediction, diverted flight prediction etc. Let's choose a problem of predicting flight delay on arrival.\n",
    "\n",
    "Our objective is to predict a flight delay of 15 mins or more at arrival airport."
   ]
  },
  {
   "cell_type": "code",
   "execution_count": 19,
   "id": "66e5c717",
   "metadata": {},
   "outputs": [
    {
     "data": {
      "application/javascript": [
       "window.require && require([\"base/js/namespace\"],function(Jupyter){Jupyter.notebook.save_checkpoint()})"
      ],
      "text/plain": [
       "<IPython.core.display.Javascript object>"
      ]
     },
     "metadata": {},
     "output_type": "display_data"
    },
    {
     "name": "stdout",
     "output_type": "stream",
     "text": [
      "[jovian] Updating notebook \"choudhuryritu12/flight-delay-detection\" on https://jovian.com/\u001b[0m\n",
      "[jovian] Committed successfully! https://jovian.com/choudhuryritu12/flight-delay-detection\u001b[0m\n"
     ]
    },
    {
     "data": {
      "text/plain": [
       "'https://jovian.com/choudhuryritu12/flight-delay-detection'"
      ]
     },
     "execution_count": 19,
     "metadata": {},
     "output_type": "execute_result"
    }
   ],
   "source": [
    "jovian.commit()"
   ]
  },
  {
   "cell_type": "markdown",
   "id": "0fd4d2b3",
   "metadata": {},
   "source": [
    "## Exploratory Data Analysis, Data Preprocessing and Feature Engineering\n",
    "### Data Cleaning and Preprocessing\n",
    "At first we will look at a sample of the data."
   ]
  },
  {
   "cell_type": "code",
   "execution_count": 20,
   "id": "c92ababb",
   "metadata": {},
   "outputs": [
    {
     "data": {
      "text/html": [
       "<div>\n",
       "<style scoped>\n",
       "    .dataframe tbody tr th:only-of-type {\n",
       "        vertical-align: middle;\n",
       "    }\n",
       "\n",
       "    .dataframe tbody tr th {\n",
       "        vertical-align: top;\n",
       "    }\n",
       "\n",
       "    .dataframe thead th {\n",
       "        text-align: right;\n",
       "    }\n",
       "</style>\n",
       "<table border=\"1\" class=\"dataframe\">\n",
       "  <thead>\n",
       "    <tr style=\"text-align: right;\">\n",
       "      <th></th>\n",
       "      <th>DAY_OF_MONTH</th>\n",
       "      <th>DAY_OF_WEEK</th>\n",
       "      <th>OP_UNIQUE_CARRIER</th>\n",
       "      <th>OP_CARRIER_AIRLINE_ID</th>\n",
       "      <th>OP_CARRIER</th>\n",
       "      <th>TAIL_NUM</th>\n",
       "      <th>OP_CARRIER_FL_NUM</th>\n",
       "      <th>ORIGIN_AIRPORT_ID</th>\n",
       "      <th>ORIGIN_AIRPORT_SEQ_ID</th>\n",
       "      <th>ORIGIN</th>\n",
       "      <th>DEST_AIRPORT_ID</th>\n",
       "      <th>DEST_AIRPORT_SEQ_ID</th>\n",
       "      <th>DEST</th>\n",
       "      <th>DEP_TIME</th>\n",
       "      <th>DEP_DEL15</th>\n",
       "      <th>DEP_TIME_BLK</th>\n",
       "      <th>ARR_TIME</th>\n",
       "      <th>ARR_DEL15</th>\n",
       "      <th>CANCELLED</th>\n",
       "      <th>DIVERTED</th>\n",
       "      <th>DISTANCE</th>\n",
       "      <th>Unnamed: 21</th>\n",
       "    </tr>\n",
       "  </thead>\n",
       "  <tbody>\n",
       "    <tr>\n",
       "      <th>157549</th>\n",
       "      <td>9</td>\n",
       "      <td>3</td>\n",
       "      <td>AA</td>\n",
       "      <td>19805</td>\n",
       "      <td>AA</td>\n",
       "      <td>N717UW</td>\n",
       "      <td>2185</td>\n",
       "      <td>12451</td>\n",
       "      <td>1245102</td>\n",
       "      <td>JAX</td>\n",
       "      <td>11057</td>\n",
       "      <td>1105703</td>\n",
       "      <td>CLT</td>\n",
       "      <td>841.0</td>\n",
       "      <td>0.0</td>\n",
       "      <td>0800-0859</td>\n",
       "      <td>1016.0</td>\n",
       "      <td>0.0</td>\n",
       "      <td>0.0</td>\n",
       "      <td>0.0</td>\n",
       "      <td>328.0</td>\n",
       "      <td>NaN</td>\n",
       "    </tr>\n",
       "    <tr>\n",
       "      <th>769180</th>\n",
       "      <td>10</td>\n",
       "      <td>5</td>\n",
       "      <td>DL</td>\n",
       "      <td>19790</td>\n",
       "      <td>DL</td>\n",
       "      <td>N358NB</td>\n",
       "      <td>1884</td>\n",
       "      <td>14908</td>\n",
       "      <td>1490803</td>\n",
       "      <td>SNA</td>\n",
       "      <td>13487</td>\n",
       "      <td>1348702</td>\n",
       "      <td>MSP</td>\n",
       "      <td>825.0</td>\n",
       "      <td>0.0</td>\n",
       "      <td>0800-0859</td>\n",
       "      <td>1403.0</td>\n",
       "      <td>0.0</td>\n",
       "      <td>0.0</td>\n",
       "      <td>0.0</td>\n",
       "      <td>1522.0</td>\n",
       "      <td>NaN</td>\n",
       "    </tr>\n",
       "    <tr>\n",
       "      <th>938715</th>\n",
       "      <td>19</td>\n",
       "      <td>7</td>\n",
       "      <td>OO</td>\n",
       "      <td>20304</td>\n",
       "      <td>OO</td>\n",
       "      <td>N759EV</td>\n",
       "      <td>3051</td>\n",
       "      <td>13851</td>\n",
       "      <td>1385103</td>\n",
       "      <td>OKC</td>\n",
       "      <td>13930</td>\n",
       "      <td>1393007</td>\n",
       "      <td>ORD</td>\n",
       "      <td>1314.0</td>\n",
       "      <td>0.0</td>\n",
       "      <td>1300-1359</td>\n",
       "      <td>1520.0</td>\n",
       "      <td>0.0</td>\n",
       "      <td>0.0</td>\n",
       "      <td>0.0</td>\n",
       "      <td>693.0</td>\n",
       "      <td>NaN</td>\n",
       "    </tr>\n",
       "    <tr>\n",
       "      <th>761321</th>\n",
       "      <td>9</td>\n",
       "      <td>4</td>\n",
       "      <td>WN</td>\n",
       "      <td>19393</td>\n",
       "      <td>WN</td>\n",
       "      <td>N445WN</td>\n",
       "      <td>6566</td>\n",
       "      <td>11292</td>\n",
       "      <td>1129202</td>\n",
       "      <td>DEN</td>\n",
       "      <td>12892</td>\n",
       "      <td>1289208</td>\n",
       "      <td>LAX</td>\n",
       "      <td>2135.0</td>\n",
       "      <td>0.0</td>\n",
       "      <td>2100-2159</td>\n",
       "      <td>2246.0</td>\n",
       "      <td>0.0</td>\n",
       "      <td>0.0</td>\n",
       "      <td>0.0</td>\n",
       "      <td>862.0</td>\n",
       "      <td>NaN</td>\n",
       "    </tr>\n",
       "    <tr>\n",
       "      <th>1045937</th>\n",
       "      <td>24</td>\n",
       "      <td>5</td>\n",
       "      <td>NK</td>\n",
       "      <td>20416</td>\n",
       "      <td>NK</td>\n",
       "      <td>N619NK</td>\n",
       "      <td>1447</td>\n",
       "      <td>10423</td>\n",
       "      <td>1042302</td>\n",
       "      <td>AUS</td>\n",
       "      <td>13495</td>\n",
       "      <td>1349505</td>\n",
       "      <td>MSY</td>\n",
       "      <td>1905.0</td>\n",
       "      <td>0.0</td>\n",
       "      <td>1900-1959</td>\n",
       "      <td>2025.0</td>\n",
       "      <td>0.0</td>\n",
       "      <td>0.0</td>\n",
       "      <td>0.0</td>\n",
       "      <td>444.0</td>\n",
       "      <td>NaN</td>\n",
       "    </tr>\n",
       "    <tr>\n",
       "      <th>900067</th>\n",
       "      <td>17</td>\n",
       "      <td>5</td>\n",
       "      <td>WN</td>\n",
       "      <td>19393</td>\n",
       "      <td>WN</td>\n",
       "      <td>N8584Z</td>\n",
       "      <td>180</td>\n",
       "      <td>10821</td>\n",
       "      <td>1082106</td>\n",
       "      <td>BWI</td>\n",
       "      <td>11292</td>\n",
       "      <td>1129202</td>\n",
       "      <td>DEN</td>\n",
       "      <td>NaN</td>\n",
       "      <td>NaN</td>\n",
       "      <td>1400-1459</td>\n",
       "      <td>NaN</td>\n",
       "      <td>NaN</td>\n",
       "      <td>1.0</td>\n",
       "      <td>0.0</td>\n",
       "      <td>1491.0</td>\n",
       "      <td>NaN</td>\n",
       "    </tr>\n",
       "    <tr>\n",
       "      <th>95791</th>\n",
       "      <td>6</td>\n",
       "      <td>7</td>\n",
       "      <td>WN</td>\n",
       "      <td>19393</td>\n",
       "      <td>WN</td>\n",
       "      <td>N8623F</td>\n",
       "      <td>5127</td>\n",
       "      <td>12191</td>\n",
       "      <td>1219102</td>\n",
       "      <td>HOU</td>\n",
       "      <td>10140</td>\n",
       "      <td>1014005</td>\n",
       "      <td>ABQ</td>\n",
       "      <td>1948.0</td>\n",
       "      <td>0.0</td>\n",
       "      <td>1900-1959</td>\n",
       "      <td>2046.0</td>\n",
       "      <td>0.0</td>\n",
       "      <td>0.0</td>\n",
       "      <td>0.0</td>\n",
       "      <td>759.0</td>\n",
       "      <td>NaN</td>\n",
       "    </tr>\n",
       "    <tr>\n",
       "      <th>627068</th>\n",
       "      <td>3</td>\n",
       "      <td>5</td>\n",
       "      <td>AA</td>\n",
       "      <td>19805</td>\n",
       "      <td>AA</td>\n",
       "      <td>N816AW</td>\n",
       "      <td>1152</td>\n",
       "      <td>11057</td>\n",
       "      <td>1105703</td>\n",
       "      <td>CLT</td>\n",
       "      <td>12266</td>\n",
       "      <td>1226603</td>\n",
       "      <td>IAH</td>\n",
       "      <td>1800.0</td>\n",
       "      <td>0.0</td>\n",
       "      <td>1700-1759</td>\n",
       "      <td>1950.0</td>\n",
       "      <td>0.0</td>\n",
       "      <td>0.0</td>\n",
       "      <td>0.0</td>\n",
       "      <td>912.0</td>\n",
       "      <td>NaN</td>\n",
       "    </tr>\n",
       "    <tr>\n",
       "      <th>175974</th>\n",
       "      <td>10</td>\n",
       "      <td>4</td>\n",
       "      <td>OH</td>\n",
       "      <td>20397</td>\n",
       "      <td>OH</td>\n",
       "      <td>N549NN</td>\n",
       "      <td>5438</td>\n",
       "      <td>11057</td>\n",
       "      <td>1105703</td>\n",
       "      <td>CLT</td>\n",
       "      <td>12264</td>\n",
       "      <td>1226402</td>\n",
       "      <td>IAD</td>\n",
       "      <td>2223.0</td>\n",
       "      <td>0.0</td>\n",
       "      <td>2200-2259</td>\n",
       "      <td>2346.0</td>\n",
       "      <td>0.0</td>\n",
       "      <td>0.0</td>\n",
       "      <td>0.0</td>\n",
       "      <td>322.0</td>\n",
       "      <td>NaN</td>\n",
       "    </tr>\n",
       "    <tr>\n",
       "      <th>534341</th>\n",
       "      <td>29</td>\n",
       "      <td>2</td>\n",
       "      <td>NK</td>\n",
       "      <td>20416</td>\n",
       "      <td>NK</td>\n",
       "      <td>N634NK</td>\n",
       "      <td>760</td>\n",
       "      <td>12889</td>\n",
       "      <td>1288903</td>\n",
       "      <td>LAS</td>\n",
       "      <td>11618</td>\n",
       "      <td>1161802</td>\n",
       "      <td>EWR</td>\n",
       "      <td>2233.0</td>\n",
       "      <td>0.0</td>\n",
       "      <td>2200-2259</td>\n",
       "      <td>559.0</td>\n",
       "      <td>0.0</td>\n",
       "      <td>0.0</td>\n",
       "      <td>0.0</td>\n",
       "      <td>2227.0</td>\n",
       "      <td>NaN</td>\n",
       "    </tr>\n",
       "    <tr>\n",
       "      <th>189207</th>\n",
       "      <td>10</td>\n",
       "      <td>4</td>\n",
       "      <td>AS</td>\n",
       "      <td>19930</td>\n",
       "      <td>AS</td>\n",
       "      <td>N302AS</td>\n",
       "      <td>144</td>\n",
       "      <td>10299</td>\n",
       "      <td>1029906</td>\n",
       "      <td>ANC</td>\n",
       "      <td>14747</td>\n",
       "      <td>1474703</td>\n",
       "      <td>SEA</td>\n",
       "      <td>859.0</td>\n",
       "      <td>0.0</td>\n",
       "      <td>0900-0959</td>\n",
       "      <td>1318.0</td>\n",
       "      <td>0.0</td>\n",
       "      <td>0.0</td>\n",
       "      <td>0.0</td>\n",
       "      <td>1448.0</td>\n",
       "      <td>NaN</td>\n",
       "    </tr>\n",
       "    <tr>\n",
       "      <th>721130</th>\n",
       "      <td>7</td>\n",
       "      <td>2</td>\n",
       "      <td>OO</td>\n",
       "      <td>20304</td>\n",
       "      <td>OO</td>\n",
       "      <td>N633SK</td>\n",
       "      <td>4122</td>\n",
       "      <td>13487</td>\n",
       "      <td>1348702</td>\n",
       "      <td>MSP</td>\n",
       "      <td>13232</td>\n",
       "      <td>1323202</td>\n",
       "      <td>MDW</td>\n",
       "      <td>1300.0</td>\n",
       "      <td>0.0</td>\n",
       "      <td>1300-1359</td>\n",
       "      <td>1435.0</td>\n",
       "      <td>0.0</td>\n",
       "      <td>0.0</td>\n",
       "      <td>0.0</td>\n",
       "      <td>349.0</td>\n",
       "      <td>NaN</td>\n",
       "    </tr>\n",
       "    <tr>\n",
       "      <th>565109</th>\n",
       "      <td>31</td>\n",
       "      <td>4</td>\n",
       "      <td>OO</td>\n",
       "      <td>20304</td>\n",
       "      <td>OO</td>\n",
       "      <td>N718SK</td>\n",
       "      <td>3153</td>\n",
       "      <td>11481</td>\n",
       "      <td>1148102</td>\n",
       "      <td>ECP</td>\n",
       "      <td>11298</td>\n",
       "      <td>1129806</td>\n",
       "      <td>DFW</td>\n",
       "      <td>1511.0</td>\n",
       "      <td>0.0</td>\n",
       "      <td>1500-1559</td>\n",
       "      <td>1735.0</td>\n",
       "      <td>0.0</td>\n",
       "      <td>0.0</td>\n",
       "      <td>0.0</td>\n",
       "      <td>685.0</td>\n",
       "      <td>NaN</td>\n",
       "    </tr>\n",
       "    <tr>\n",
       "      <th>380883</th>\n",
       "      <td>21</td>\n",
       "      <td>1</td>\n",
       "      <td>F9</td>\n",
       "      <td>20436</td>\n",
       "      <td>F9</td>\n",
       "      <td>N238FR</td>\n",
       "      <td>1113</td>\n",
       "      <td>12953</td>\n",
       "      <td>1295304</td>\n",
       "      <td>LGA</td>\n",
       "      <td>13204</td>\n",
       "      <td>1320402</td>\n",
       "      <td>MCO</td>\n",
       "      <td>922.0</td>\n",
       "      <td>0.0</td>\n",
       "      <td>0900-0959</td>\n",
       "      <td>1221.0</td>\n",
       "      <td>0.0</td>\n",
       "      <td>0.0</td>\n",
       "      <td>0.0</td>\n",
       "      <td>950.0</td>\n",
       "      <td>NaN</td>\n",
       "    </tr>\n",
       "    <tr>\n",
       "      <th>1185837</th>\n",
       "      <td>31</td>\n",
       "      <td>5</td>\n",
       "      <td>AA</td>\n",
       "      <td>19805</td>\n",
       "      <td>AA</td>\n",
       "      <td>N582UW</td>\n",
       "      <td>1902</td>\n",
       "      <td>10721</td>\n",
       "      <td>1072102</td>\n",
       "      <td>BOS</td>\n",
       "      <td>11057</td>\n",
       "      <td>1105703</td>\n",
       "      <td>CLT</td>\n",
       "      <td>1309.0</td>\n",
       "      <td>1.0</td>\n",
       "      <td>1200-1259</td>\n",
       "      <td>1546.0</td>\n",
       "      <td>1.0</td>\n",
       "      <td>0.0</td>\n",
       "      <td>0.0</td>\n",
       "      <td>728.0</td>\n",
       "      <td>NaN</td>\n",
       "    </tr>\n",
       "  </tbody>\n",
       "</table>\n",
       "</div>"
      ],
      "text/plain": [
       "         DAY_OF_MONTH  DAY_OF_WEEK OP_UNIQUE_CARRIER  OP_CARRIER_AIRLINE_ID  \\\n",
       "157549              9            3                AA                  19805   \n",
       "769180             10            5                DL                  19790   \n",
       "938715             19            7                OO                  20304   \n",
       "761321              9            4                WN                  19393   \n",
       "1045937            24            5                NK                  20416   \n",
       "900067             17            5                WN                  19393   \n",
       "95791               6            7                WN                  19393   \n",
       "627068              3            5                AA                  19805   \n",
       "175974             10            4                OH                  20397   \n",
       "534341             29            2                NK                  20416   \n",
       "189207             10            4                AS                  19930   \n",
       "721130              7            2                OO                  20304   \n",
       "565109             31            4                OO                  20304   \n",
       "380883             21            1                F9                  20436   \n",
       "1185837            31            5                AA                  19805   \n",
       "\n",
       "        OP_CARRIER TAIL_NUM  OP_CARRIER_FL_NUM  ORIGIN_AIRPORT_ID  \\\n",
       "157549          AA   N717UW               2185              12451   \n",
       "769180          DL   N358NB               1884              14908   \n",
       "938715          OO   N759EV               3051              13851   \n",
       "761321          WN   N445WN               6566              11292   \n",
       "1045937         NK   N619NK               1447              10423   \n",
       "900067          WN   N8584Z                180              10821   \n",
       "95791           WN   N8623F               5127              12191   \n",
       "627068          AA   N816AW               1152              11057   \n",
       "175974          OH   N549NN               5438              11057   \n",
       "534341          NK   N634NK                760              12889   \n",
       "189207          AS   N302AS                144              10299   \n",
       "721130          OO   N633SK               4122              13487   \n",
       "565109          OO   N718SK               3153              11481   \n",
       "380883          F9   N238FR               1113              12953   \n",
       "1185837         AA   N582UW               1902              10721   \n",
       "\n",
       "         ORIGIN_AIRPORT_SEQ_ID ORIGIN  DEST_AIRPORT_ID  DEST_AIRPORT_SEQ_ID  \\\n",
       "157549                 1245102    JAX            11057              1105703   \n",
       "769180                 1490803    SNA            13487              1348702   \n",
       "938715                 1385103    OKC            13930              1393007   \n",
       "761321                 1129202    DEN            12892              1289208   \n",
       "1045937                1042302    AUS            13495              1349505   \n",
       "900067                 1082106    BWI            11292              1129202   \n",
       "95791                  1219102    HOU            10140              1014005   \n",
       "627068                 1105703    CLT            12266              1226603   \n",
       "175974                 1105703    CLT            12264              1226402   \n",
       "534341                 1288903    LAS            11618              1161802   \n",
       "189207                 1029906    ANC            14747              1474703   \n",
       "721130                 1348702    MSP            13232              1323202   \n",
       "565109                 1148102    ECP            11298              1129806   \n",
       "380883                 1295304    LGA            13204              1320402   \n",
       "1185837                1072102    BOS            11057              1105703   \n",
       "\n",
       "        DEST  DEP_TIME  DEP_DEL15 DEP_TIME_BLK  ARR_TIME  ARR_DEL15  \\\n",
       "157549   CLT     841.0        0.0    0800-0859    1016.0        0.0   \n",
       "769180   MSP     825.0        0.0    0800-0859    1403.0        0.0   \n",
       "938715   ORD    1314.0        0.0    1300-1359    1520.0        0.0   \n",
       "761321   LAX    2135.0        0.0    2100-2159    2246.0        0.0   \n",
       "1045937  MSY    1905.0        0.0    1900-1959    2025.0        0.0   \n",
       "900067   DEN       NaN        NaN    1400-1459       NaN        NaN   \n",
       "95791    ABQ    1948.0        0.0    1900-1959    2046.0        0.0   \n",
       "627068   IAH    1800.0        0.0    1700-1759    1950.0        0.0   \n",
       "175974   IAD    2223.0        0.0    2200-2259    2346.0        0.0   \n",
       "534341   EWR    2233.0        0.0    2200-2259     559.0        0.0   \n",
       "189207   SEA     859.0        0.0    0900-0959    1318.0        0.0   \n",
       "721130   MDW    1300.0        0.0    1300-1359    1435.0        0.0   \n",
       "565109   DFW    1511.0        0.0    1500-1559    1735.0        0.0   \n",
       "380883   MCO     922.0        0.0    0900-0959    1221.0        0.0   \n",
       "1185837  CLT    1309.0        1.0    1200-1259    1546.0        1.0   \n",
       "\n",
       "         CANCELLED  DIVERTED  DISTANCE  Unnamed: 21  \n",
       "157549         0.0       0.0     328.0          NaN  \n",
       "769180         0.0       0.0    1522.0          NaN  \n",
       "938715         0.0       0.0     693.0          NaN  \n",
       "761321         0.0       0.0     862.0          NaN  \n",
       "1045937        0.0       0.0     444.0          NaN  \n",
       "900067         1.0       0.0    1491.0          NaN  \n",
       "95791          0.0       0.0     759.0          NaN  \n",
       "627068         0.0       0.0     912.0          NaN  \n",
       "175974         0.0       0.0     322.0          NaN  \n",
       "534341         0.0       0.0    2227.0          NaN  \n",
       "189207         0.0       0.0    1448.0          NaN  \n",
       "721130         0.0       0.0     349.0          NaN  \n",
       "565109         0.0       0.0     685.0          NaN  \n",
       "380883         0.0       0.0     950.0          NaN  \n",
       "1185837        0.0       0.0     728.0          NaN  "
      ]
     },
     "execution_count": 20,
     "metadata": {},
     "output_type": "execute_result"
    }
   ],
   "source": [
    "raw_df.sample(15)\n"
   ]
  },
  {
   "cell_type": "markdown",
   "id": "ac98a84d",
   "metadata": {},
   "source": [
    "From the data sample it can be observed that columns 'OP_UNIQUE_CARRIER', 'OP_CARRIER_AIRLINE_ID' and 'OP_CARRIER' have perfectly correlated values. Similarly for 'ORIGIN_AIRPORT_ID', 'ORIGIN_AIRPORT_SEQ_ID' and 'ORIGIN' values seems to be in correlation. The same is true for 'DEST_AIRPORT_ID', 'DEST_AIRPORT_SEQ_ID' and 'DEST'."
   ]
  },
  {
   "cell_type": "code",
   "execution_count": 21,
   "id": "74b04394",
   "metadata": {},
   "outputs": [
    {
     "data": {
      "image/png": "[encoded data removed]",
      "text/plain": [
       "<Figure size 1000x600 with 2 Axes>"
      ]
     },
     "metadata": {
      "needs_background": "light"
     },
     "output_type": "display_data"
    }
   ],
   "source": [
    "sns.heatmap(raw_df[['OP_CARRIER_AIRLINE_ID', 'OP_CARRIER_FL_NUM', 'ORIGIN_AIRPORT_ID',\n",
    "                    'ORIGIN_AIRPORT_SEQ_ID', 'DEST_AIRPORT_ID', 'DEST_AIRPORT_SEQ_ID']].corr(), annot = True );"
   ]
  },
  {
   "cell_type": "markdown",
   "id": "d85fdd1f",
   "metadata": {},
   "source": [
    "The above heat map justifies our claim for 'ORIGIN_AIRPORT_ID' and 'ORIGIN_AIRPORT_SEQ_ID' to be perfectly correlated. The same is true for 'DEST_AIRPORT_ID' and 'DEST_AIRPORT_SEQ_ID'."
   ]
  },
  {
   "cell_type": "code",
   "execution_count": 22,
   "id": "dcd9fb7b",
   "metadata": {},
   "outputs": [
    {
     "name": "stdout",
     "output_type": "stream",
     "text": [
      "10397    63345\n",
      "13930    51877\n",
      "11298    47402\n",
      "11057    39095\n",
      "11292    38905\n",
      "         ...  \n",
      "14222       20\n",
      "13983       18\n",
      "10165       18\n",
      "13829       17\n",
      "10562       13\n",
      "Name: ORIGIN_AIRPORT_ID, Length: 353, dtype: int64\n",
      "ATL    63345\n",
      "ORD    51877\n",
      "DFW    47402\n",
      "CLT    39095\n",
      "DEN    38905\n",
      "       ...  \n",
      "PPG       20\n",
      "OWB       18\n",
      "ADK       18\n",
      "OGD       17\n",
      "BFM       13\n",
      "Name: ORIGIN, Length: 353, dtype: int64\n"
     ]
    }
   ],
   "source": [
    "print(raw_df['ORIGIN_AIRPORT_ID'].value_counts())\n",
    "print(raw_df['ORIGIN'].value_counts())"
   ]
  },
  {
   "cell_type": "markdown",
   "id": "cc720ade",
   "metadata": {},
   "source": [
    "By examining the output of these lines, you can quickly identify which airports are more common or have a higher frequency of flights in the dataset. So out of 'ORIGIN_AIRPORT_ID', 'ORIGIN' and 'ORIGIN_AIRPORT_SEQ_ID' only one column is to be retained."
   ]
  },
  {
   "cell_type": "code",
   "execution_count": 23,
   "id": "bbba54d4",
   "metadata": {},
   "outputs": [
    {
     "name": "stdout",
     "output_type": "stream",
     "text": [
      "10397    63338\n",
      "13930    51899\n",
      "11298    47432\n",
      "11057    39107\n",
      "11292    38903\n",
      "         ...  \n",
      "14222       20\n",
      "13983       18\n",
      "10165       18\n",
      "13829       17\n",
      "10562       13\n",
      "Name: DEST_AIRPORT_ID, Length: 353, dtype: int64\n",
      "ATL    63338\n",
      "ORD    51899\n",
      "DFW    47432\n",
      "CLT    39107\n",
      "DEN    38903\n",
      "       ...  \n",
      "PPG       20\n",
      "OWB       18\n",
      "ADK       18\n",
      "OGD       17\n",
      "BFM       13\n",
      "Name: DEST, Length: 353, dtype: int64\n"
     ]
    }
   ],
   "source": [
    "print(raw_df['DEST_AIRPORT_ID'].value_counts())\n",
    "print(raw_df['DEST'].value_counts())"
   ]
  },
  {
   "cell_type": "markdown",
   "id": "44a37cb4",
   "metadata": {},
   "source": [
    "So out of the columns 'DEST_AIRPORT_ID', 'DEST_AIRPORT_SEQ_ID' and 'DEST' only one is to be retained."
   ]
  },
  {
   "cell_type": "code",
   "execution_count": 24,
   "id": "aca71a16",
   "metadata": {},
   "outputs": [
    {
     "name": "stdout",
     "output_type": "stream",
     "text": [
      "WN    221082\n",
      "DL    153903\n",
      "AA    153293\n",
      "OO    136086\n",
      "UA     95316\n",
      "YX     54878\n",
      "MQ     51899\n",
      "B6     49152\n",
      "OH     47478\n",
      "9E     43266\n",
      "AS     41854\n",
      "YV     36182\n",
      "NK     32699\n",
      "EV     23759\n",
      "F9     22114\n",
      "G4     14537\n",
      "HA     13833\n",
      "Name: OP_CARRIER, dtype: int64\n",
      "WN    221082\n",
      "DL    153903\n",
      "AA    153293\n",
      "OO    136086\n",
      "UA     95316\n",
      "YX     54878\n",
      "MQ     51899\n",
      "B6     49152\n",
      "OH     47478\n",
      "9E     43266\n",
      "AS     41854\n",
      "YV     36182\n",
      "NK     32699\n",
      "EV     23759\n",
      "F9     22114\n",
      "G4     14537\n",
      "HA     13833\n",
      "Name: OP_UNIQUE_CARRIER, dtype: int64\n",
      "19393    221082\n",
      "19790    153903\n",
      "19805    153293\n",
      "20304    136086\n",
      "19977     95316\n",
      "20452     54878\n",
      "20398     51899\n",
      "20409     49152\n",
      "20397     47478\n",
      "20363     43266\n",
      "19930     41854\n",
      "20378     36182\n",
      "20416     32699\n",
      "20366     23759\n",
      "20436     22114\n",
      "20368     14537\n",
      "19690     13833\n",
      "Name: OP_CARRIER_AIRLINE_ID, dtype: int64\n"
     ]
    }
   ],
   "source": [
    "print(raw_df['OP_CARRIER'].value_counts())\n",
    "print(raw_df['OP_UNIQUE_CARRIER'].value_counts())\n",
    "print(raw_df['OP_CARRIER_AIRLINE_ID'].value_counts())"
   ]
  },
  {
   "cell_type": "markdown",
   "id": "0474df0f",
   "metadata": {},
   "source": [
    "By examining the output of these lines, you can gain insights into the distribution of flights among different airlines, whether you're looking at IATA codes, unique carrier codes, or numerical airline IDs. This analysis is valuable for understanding the composition of the dataset and can be crucial for various aspects of airline-related data analysis or modeling."
   ]
  },
  {
   "cell_type": "markdown",
   "id": "763ef051",
   "metadata": {},
   "source": [
    "\n",
    "So out of 'OP_UNIQUE_CARRIER', 'OP_CARRIER_AIRLINE_ID' and 'OP_CARRIER' only one column is to be retained. "
   ]
  },
  {
   "cell_type": "code",
   "execution_count": 27,
   "id": "ac9ecc13",
   "metadata": {},
   "outputs": [
    {
     "data": {
      "application/javascript": [
       "window.require && require([\"base/js/namespace\"],function(Jupyter){Jupyter.notebook.save_checkpoint()})"
      ],
      "text/plain": [
       "<IPython.core.display.Javascript object>"
      ]
     },
     "metadata": {},
     "output_type": "display_data"
    },
    {
     "name": "stdout",
     "output_type": "stream",
     "text": [
      "[jovian] Updating notebook \"choudhuryritu12/flight-delay-detection\" on https://jovian.com/\u001b[0m\n",
      "[jovian] Committed successfully! https://jovian.com/choudhuryritu12/flight-delay-detection\u001b[0m\n"
     ]
    },
    {
     "data": {
      "text/plain": [
       "'https://jovian.com/choudhuryritu12/flight-delay-detection'"
      ]
     },
     "execution_count": 27,
     "metadata": {},
     "output_type": "execute_result"
    }
   ],
   "source": [
    "jovian.commit()"
   ]
  },
  {
   "cell_type": "code",
   "execution_count": 28,
   "id": "296500a1",
   "metadata": {},
   "outputs": [
    {
     "name": "stdout",
     "output_type": "stream",
     "text": [
      "<class 'pandas.core.frame.DataFrame'>\n",
      "RangeIndex: 1191331 entries, 0 to 1191330\n",
      "Data columns (total 22 columns):\n",
      " #   Column                 Non-Null Count    Dtype  \n",
      "---  ------                 --------------    -----  \n",
      " 0   DAY_OF_MONTH           1191331 non-null  int64  \n",
      " 1   DAY_OF_WEEK            1191331 non-null  int64  \n",
      " 2   OP_UNIQUE_CARRIER      1191331 non-null  object \n",
      " 3   OP_CARRIER_AIRLINE_ID  1191331 non-null  int64  \n",
      " 4   OP_CARRIER             1191331 non-null  object \n",
      " 5   TAIL_NUM               1188090 non-null  object \n",
      " 6   OP_CARRIER_FL_NUM      1191331 non-null  int64  \n",
      " 7   ORIGIN_AIRPORT_ID      1191331 non-null  int64  \n",
      " 8   ORIGIN_AIRPORT_SEQ_ID  1191331 non-null  int64  \n",
      " 9   ORIGIN                 1191331 non-null  object \n",
      " 10  DEST_AIRPORT_ID        1191331 non-null  int64  \n",
      " 11  DEST_AIRPORT_SEQ_ID    1191331 non-null  int64  \n",
      " 12  DEST                   1191331 non-null  object \n",
      " 13  DEP_TIME               1168315 non-null  float64\n",
      " 14  DEP_DEL15              1168277 non-null  float64\n",
      " 15  DEP_TIME_BLK           1191331 non-null  object \n",
      " 16  ARR_TIME               1167195 non-null  float64\n",
      " 17  ARR_DEL15              1165231 non-null  float64\n",
      " 18  CANCELLED              1191331 non-null  float64\n",
      " 19  DIVERTED               1191331 non-null  float64\n",
      " 20  DISTANCE               1191331 non-null  float64\n",
      " 21  Unnamed: 21            0 non-null        float64\n",
      "dtypes: float64(8), int64(8), object(6)\n",
      "memory usage: 200.0+ MB\n"
     ]
    }
   ],
   "source": [
    "raw_df.info()\n"
   ]
  },
  {
   "cell_type": "markdown",
   "id": "25732075",
   "metadata": {},
   "source": [
    "There are 1191331 rows of data available. The column 'Unnamed: 21' has no entries and it is to be removed from data."
   ]
  },
  {
   "cell_type": "code",
   "execution_count": 29,
   "id": "8e062693",
   "metadata": {},
   "outputs": [
    {
     "data": {
      "text/plain": [
       "0.0    1167677\n",
       "1.0      23654\n",
       "Name: CANCELLED, dtype: int64"
      ]
     },
     "execution_count": 29,
     "metadata": {},
     "output_type": "execute_result"
    }
   ],
   "source": [
    "raw_df['CANCELLED'].value_counts()"
   ]
  },
  {
   "cell_type": "code",
   "execution_count": 30,
   "id": "f2ab858c",
   "metadata": {},
   "outputs": [
    {
     "data": {
      "text/plain": [
       "0.0    1188885\n",
       "1.0       2446\n",
       "Name: DIVERTED, dtype: int64"
      ]
     },
     "execution_count": 30,
     "metadata": {},
     "output_type": "execute_result"
    }
   ],
   "source": [
    "raw_df['DIVERTED'].value_counts()\n"
   ]
  },
  {
   "cell_type": "markdown",
   "id": "32d80d4d",
   "metadata": {},
   "source": [
    "Since our aim is to identify flight delay on arrival we can delete the cancelled and diverted flight rows. Also they are less in number in comparison with total data."
   ]
  },
  {
   "cell_type": "code",
   "execution_count": 31,
   "id": "0c61947d",
   "metadata": {},
   "outputs": [],
   "source": [
    "raw_df = raw_df[raw_df['CANCELLED' ]!= 1.0]\n"
   ]
  },
  {
   "cell_type": "code",
   "execution_count": 32,
   "id": "bd5f091d",
   "metadata": {},
   "outputs": [],
   "source": [
    "raw_df = raw_df[raw_df['DIVERTED' ]!= 1.0]\n"
   ]
  },
  {
   "cell_type": "code",
   "execution_count": 33,
   "id": "943c5653",
   "metadata": {},
   "outputs": [
    {
     "data": {
      "text/plain": [
       "Index(['DAY_OF_MONTH', 'DAY_OF_WEEK', 'OP_UNIQUE_CARRIER',\n",
       "       'OP_CARRIER_AIRLINE_ID', 'OP_CARRIER', 'TAIL_NUM', 'OP_CARRIER_FL_NUM',\n",
       "       'ORIGIN_AIRPORT_ID', 'ORIGIN_AIRPORT_SEQ_ID', 'ORIGIN',\n",
       "       'DEST_AIRPORT_ID', 'DEST_AIRPORT_SEQ_ID', 'DEST', 'DEP_TIME',\n",
       "       'DEP_DEL15', 'DEP_TIME_BLK', 'ARR_TIME', 'ARR_DEL15', 'CANCELLED',\n",
       "       'DIVERTED', 'DISTANCE', 'Unnamed: 21'],\n",
       "      dtype='object')"
      ]
     },
     "execution_count": 33,
     "metadata": {},
     "output_type": "execute_result"
    }
   ],
   "source": [
    "raw_df.columns\n"
   ]
  },
  {
   "cell_type": "code",
   "execution_count": 34,
   "id": "bf397e5f",
   "metadata": {},
   "outputs": [
    {
     "data": {
      "text/plain": [
       "DAY_OF_MONTH               31\n",
       "DAY_OF_WEEK                 7\n",
       "OP_UNIQUE_CARRIER          17\n",
       "OP_CARRIER_AIRLINE_ID      17\n",
       "OP_CARRIER                 17\n",
       "TAIL_NUM                 5854\n",
       "OP_CARRIER_FL_NUM        6997\n",
       "ORIGIN_AIRPORT_ID         353\n",
       "ORIGIN_AIRPORT_SEQ_ID     373\n",
       "ORIGIN                    353\n",
       "DEST_AIRPORT_ID           353\n",
       "DEST_AIRPORT_SEQ_ID       373\n",
       "DEST                      353\n",
       "DEP_TIME                 1440\n",
       "DEP_DEL15                   2\n",
       "DEP_TIME_BLK               19\n",
       "ARR_TIME                 1440\n",
       "ARR_DEL15                   2\n",
       "CANCELLED                   1\n",
       "DIVERTED                    1\n",
       "DISTANCE                 1511\n",
       "Unnamed: 21                 0\n",
       "dtype: int64"
      ]
     },
     "execution_count": 34,
     "metadata": {},
     "output_type": "execute_result"
    }
   ],
   "source": [
    "raw_df.nunique()\n"
   ]
  },
  {
   "cell_type": "markdown",
   "id": "136f8e44",
   "metadata": {},
   "source": [
    "For our aim to predict flight delay on arrival, our target column is 'ARR_DEL15'. Avoiding highly correlated columns and columns with large number of categories and which we can assume less important such as 'TAIL_NUM' and 'OP_CARRIER_FL_NUM', we can select input columns. Also we cannot include actual arrival time as we are predicting arrival delay."
   ]
  },
  {
   "cell_type": "code",
   "execution_count": 35,
   "id": "156ab99e",
   "metadata": {},
   "outputs": [],
   "source": [
    "flight_df = raw_df[['DAY_OF_MONTH', 'DAY_OF_WEEK', 'OP_CARRIER', 'ORIGIN', 'DEST',\n",
    "                    'DEP_TIME', 'DEP_DEL15','DEP_TIME_BLK', 'DISTANCE', 'ARR_DEL15']].copy()"
   ]
  },
  {
   "cell_type": "code",
   "execution_count": 36,
   "id": "7ca6a860",
   "metadata": {},
   "outputs": [
    {
     "data": {
      "text/html": [
       "<div>\n",
       "<style scoped>\n",
       "    .dataframe tbody tr th:only-of-type {\n",
       "        vertical-align: middle;\n",
       "    }\n",
       "\n",
       "    .dataframe tbody tr th {\n",
       "        vertical-align: top;\n",
       "    }\n",
       "\n",
       "    .dataframe thead th {\n",
       "        text-align: right;\n",
       "    }\n",
       "</style>\n",
       "<table border=\"1\" class=\"dataframe\">\n",
       "  <thead>\n",
       "    <tr style=\"text-align: right;\">\n",
       "      <th></th>\n",
       "      <th>DAY_OF_MONTH</th>\n",
       "      <th>DAY_OF_WEEK</th>\n",
       "      <th>OP_CARRIER</th>\n",
       "      <th>ORIGIN</th>\n",
       "      <th>DEST</th>\n",
       "      <th>DEP_TIME</th>\n",
       "      <th>DEP_DEL15</th>\n",
       "      <th>DEP_TIME_BLK</th>\n",
       "      <th>DISTANCE</th>\n",
       "      <th>ARR_DEL15</th>\n",
       "    </tr>\n",
       "  </thead>\n",
       "  <tbody>\n",
       "    <tr>\n",
       "      <th>0</th>\n",
       "      <td>1</td>\n",
       "      <td>2</td>\n",
       "      <td>9E</td>\n",
       "      <td>GNV</td>\n",
       "      <td>ATL</td>\n",
       "      <td>601.0</td>\n",
       "      <td>0.0</td>\n",
       "      <td>0600-0659</td>\n",
       "      <td>300.0</td>\n",
       "      <td>0.0</td>\n",
       "    </tr>\n",
       "    <tr>\n",
       "      <th>1</th>\n",
       "      <td>1</td>\n",
       "      <td>2</td>\n",
       "      <td>9E</td>\n",
       "      <td>MSP</td>\n",
       "      <td>CVG</td>\n",
       "      <td>1359.0</td>\n",
       "      <td>0.0</td>\n",
       "      <td>1400-1459</td>\n",
       "      <td>596.0</td>\n",
       "      <td>0.0</td>\n",
       "    </tr>\n",
       "    <tr>\n",
       "      <th>2</th>\n",
       "      <td>1</td>\n",
       "      <td>2</td>\n",
       "      <td>9E</td>\n",
       "      <td>DTW</td>\n",
       "      <td>CVG</td>\n",
       "      <td>1215.0</td>\n",
       "      <td>0.0</td>\n",
       "      <td>1200-1259</td>\n",
       "      <td>229.0</td>\n",
       "      <td>0.0</td>\n",
       "    </tr>\n",
       "    <tr>\n",
       "      <th>3</th>\n",
       "      <td>1</td>\n",
       "      <td>2</td>\n",
       "      <td>9E</td>\n",
       "      <td>TLH</td>\n",
       "      <td>ATL</td>\n",
       "      <td>1521.0</td>\n",
       "      <td>0.0</td>\n",
       "      <td>1500-1559</td>\n",
       "      <td>223.0</td>\n",
       "      <td>0.0</td>\n",
       "    </tr>\n",
       "    <tr>\n",
       "      <th>4</th>\n",
       "      <td>1</td>\n",
       "      <td>2</td>\n",
       "      <td>9E</td>\n",
       "      <td>ATL</td>\n",
       "      <td>FSM</td>\n",
       "      <td>1847.0</td>\n",
       "      <td>0.0</td>\n",
       "      <td>1900-1959</td>\n",
       "      <td>579.0</td>\n",
       "      <td>0.0</td>\n",
       "    </tr>\n",
       "    <tr>\n",
       "      <th>...</th>\n",
       "      <td>...</td>\n",
       "      <td>...</td>\n",
       "      <td>...</td>\n",
       "      <td>...</td>\n",
       "      <td>...</td>\n",
       "      <td>...</td>\n",
       "      <td>...</td>\n",
       "      <td>...</td>\n",
       "      <td>...</td>\n",
       "      <td>...</td>\n",
       "    </tr>\n",
       "    <tr>\n",
       "      <th>1191326</th>\n",
       "      <td>31</td>\n",
       "      <td>5</td>\n",
       "      <td>9E</td>\n",
       "      <td>TYS</td>\n",
       "      <td>DTW</td>\n",
       "      <td>1002.0</td>\n",
       "      <td>1.0</td>\n",
       "      <td>0700-0759</td>\n",
       "      <td>443.0</td>\n",
       "      <td>1.0</td>\n",
       "    </tr>\n",
       "    <tr>\n",
       "      <th>1191327</th>\n",
       "      <td>31</td>\n",
       "      <td>5</td>\n",
       "      <td>9E</td>\n",
       "      <td>DTW</td>\n",
       "      <td>JFK</td>\n",
       "      <td>1747.0</td>\n",
       "      <td>0.0</td>\n",
       "      <td>1700-1759</td>\n",
       "      <td>509.0</td>\n",
       "      <td>0.0</td>\n",
       "    </tr>\n",
       "    <tr>\n",
       "      <th>1191328</th>\n",
       "      <td>31</td>\n",
       "      <td>5</td>\n",
       "      <td>9E</td>\n",
       "      <td>GSP</td>\n",
       "      <td>LGA</td>\n",
       "      <td>554.0</td>\n",
       "      <td>0.0</td>\n",
       "      <td>0600-0659</td>\n",
       "      <td>610.0</td>\n",
       "      <td>0.0</td>\n",
       "    </tr>\n",
       "    <tr>\n",
       "      <th>1191329</th>\n",
       "      <td>31</td>\n",
       "      <td>5</td>\n",
       "      <td>9E</td>\n",
       "      <td>ATL</td>\n",
       "      <td>XNA</td>\n",
       "      <td>1714.0</td>\n",
       "      <td>0.0</td>\n",
       "      <td>1700-1759</td>\n",
       "      <td>589.0</td>\n",
       "      <td>0.0</td>\n",
       "    </tr>\n",
       "    <tr>\n",
       "      <th>1191330</th>\n",
       "      <td>31</td>\n",
       "      <td>5</td>\n",
       "      <td>9E</td>\n",
       "      <td>XNA</td>\n",
       "      <td>ATL</td>\n",
       "      <td>1841.0</td>\n",
       "      <td>0.0</td>\n",
       "      <td>1800-1859</td>\n",
       "      <td>589.0</td>\n",
       "      <td>0.0</td>\n",
       "    </tr>\n",
       "  </tbody>\n",
       "</table>\n",
       "<p>1165231 rows × 10 columns</p>\n",
       "</div>"
      ],
      "text/plain": [
       "         DAY_OF_MONTH  DAY_OF_WEEK OP_CARRIER ORIGIN DEST  DEP_TIME  \\\n",
       "0                   1            2         9E    GNV  ATL     601.0   \n",
       "1                   1            2         9E    MSP  CVG    1359.0   \n",
       "2                   1            2         9E    DTW  CVG    1215.0   \n",
       "3                   1            2         9E    TLH  ATL    1521.0   \n",
       "4                   1            2         9E    ATL  FSM    1847.0   \n",
       "...               ...          ...        ...    ...  ...       ...   \n",
       "1191326            31            5         9E    TYS  DTW    1002.0   \n",
       "1191327            31            5         9E    DTW  JFK    1747.0   \n",
       "1191328            31            5         9E    GSP  LGA     554.0   \n",
       "1191329            31            5         9E    ATL  XNA    1714.0   \n",
       "1191330            31            5         9E    XNA  ATL    1841.0   \n",
       "\n",
       "         DEP_DEL15 DEP_TIME_BLK  DISTANCE  ARR_DEL15  \n",
       "0              0.0    0600-0659     300.0        0.0  \n",
       "1              0.0    1400-1459     596.0        0.0  \n",
       "2              0.0    1200-1259     229.0        0.0  \n",
       "3              0.0    1500-1559     223.0        0.0  \n",
       "4              0.0    1900-1959     579.0        0.0  \n",
       "...            ...          ...       ...        ...  \n",
       "1191326        1.0    0700-0759     443.0        1.0  \n",
       "1191327        0.0    1700-1759     509.0        0.0  \n",
       "1191328        0.0    0600-0659     610.0        0.0  \n",
       "1191329        0.0    1700-1759     589.0        0.0  \n",
       "1191330        0.0    1800-1859     589.0        0.0  \n",
       "\n",
       "[1165231 rows x 10 columns]"
      ]
     },
     "execution_count": 36,
     "metadata": {},
     "output_type": "execute_result"
    }
   ],
   "source": [
    "flight_df\n"
   ]
  },
  {
   "cell_type": "code",
   "execution_count": 37,
   "id": "cc287ddf",
   "metadata": {},
   "outputs": [
    {
     "name": "stdout",
     "output_type": "stream",
     "text": [
      "<class 'pandas.core.frame.DataFrame'>\n",
      "Int64Index: 1165231 entries, 0 to 1191330\n",
      "Data columns (total 10 columns):\n",
      " #   Column        Non-Null Count    Dtype  \n",
      "---  ------        --------------    -----  \n",
      " 0   DAY_OF_MONTH  1165231 non-null  int64  \n",
      " 1   DAY_OF_WEEK   1165231 non-null  int64  \n",
      " 2   OP_CARRIER    1165231 non-null  object \n",
      " 3   ORIGIN        1165231 non-null  object \n",
      " 4   DEST          1165231 non-null  object \n",
      " 5   DEP_TIME      1165231 non-null  float64\n",
      " 6   DEP_DEL15     1165231 non-null  float64\n",
      " 7   DEP_TIME_BLK  1165231 non-null  object \n",
      " 8   DISTANCE      1165231 non-null  float64\n",
      " 9   ARR_DEL15     1165231 non-null  float64\n",
      "dtypes: float64(4), int64(2), object(4)\n",
      "memory usage: 97.8+ MB\n"
     ]
    }
   ],
   "source": [
    "flight_df.info()\n"
   ]
  },
  {
   "cell_type": "code",
   "execution_count": 38,
   "id": "e9cb13d6",
   "metadata": {},
   "outputs": [
    {
     "data": {
      "text/plain": [
       "DAY_OF_MONTH    0\n",
       "DAY_OF_WEEK     0\n",
       "OP_CARRIER      0\n",
       "ORIGIN          0\n",
       "DEST            0\n",
       "DEP_TIME        0\n",
       "DEP_DEL15       0\n",
       "DEP_TIME_BLK    0\n",
       "DISTANCE        0\n",
       "ARR_DEL15       0\n",
       "dtype: int64"
      ]
     },
     "execution_count": 38,
     "metadata": {},
     "output_type": "execute_result"
    }
   ],
   "source": [
    "flight_df.isna().sum()\n"
   ]
  },
  {
   "cell_type": "markdown",
   "id": "158178ca",
   "metadata": {},
   "source": [
    "The output will be a Series where each index represents a column in flight_df, and the corresponding value is the number of missing values in that column."
   ]
  },
  {
   "cell_type": "code",
   "execution_count": 39,
   "id": "8f0eeb4c",
   "metadata": {},
   "outputs": [
    {
     "data": {
      "application/javascript": [
       "window.require && require([\"base/js/namespace\"],function(Jupyter){Jupyter.notebook.save_checkpoint()})"
      ],
      "text/plain": [
       "<IPython.core.display.Javascript object>"
      ]
     },
     "metadata": {},
     "output_type": "display_data"
    },
    {
     "name": "stdout",
     "output_type": "stream",
     "text": [
      "[jovian] Updating notebook \"choudhuryritu12/flight-delay-detection\" on https://jovian.com/\u001b[0m\n",
      "[jovian] Committed successfully! https://jovian.com/choudhuryritu12/flight-delay-detection\u001b[0m\n"
     ]
    },
    {
     "data": {
      "text/plain": [
       "'https://jovian.com/choudhuryritu12/flight-delay-detection'"
      ]
     },
     "execution_count": 39,
     "metadata": {},
     "output_type": "execute_result"
    }
   ],
   "source": [
    "jovian.commit()\n"
   ]
  },
  {
   "cell_type": "markdown",
   "id": "385f6b2c",
   "metadata": {},
   "source": [
    "### Exploratory Data Analysis\n",
    "Now let's check the numeric columns of our dataframe."
   ]
  },
  {
   "cell_type": "code",
   "execution_count": 40,
   "id": "7fcccbc7",
   "metadata": {},
   "outputs": [
    {
     "data": {
      "text/html": [
       "<div>\n",
       "<style scoped>\n",
       "    .dataframe tbody tr th:only-of-type {\n",
       "        vertical-align: middle;\n",
       "    }\n",
       "\n",
       "    .dataframe tbody tr th {\n",
       "        vertical-align: top;\n",
       "    }\n",
       "\n",
       "    .dataframe thead th {\n",
       "        text-align: right;\n",
       "    }\n",
       "</style>\n",
       "<table border=\"1\" class=\"dataframe\">\n",
       "  <thead>\n",
       "    <tr style=\"text-align: right;\">\n",
       "      <th></th>\n",
       "      <th>DAY_OF_MONTH</th>\n",
       "      <th>DAY_OF_WEEK</th>\n",
       "      <th>DEP_TIME</th>\n",
       "      <th>DEP_DEL15</th>\n",
       "      <th>DISTANCE</th>\n",
       "      <th>ARR_DEL15</th>\n",
       "    </tr>\n",
       "  </thead>\n",
       "  <tbody>\n",
       "    <tr>\n",
       "      <th>count</th>\n",
       "      <td>1.165231e+06</td>\n",
       "      <td>1.165231e+06</td>\n",
       "      <td>1.165231e+06</td>\n",
       "      <td>1.165231e+06</td>\n",
       "      <td>1.165231e+06</td>\n",
       "      <td>1.165231e+06</td>\n",
       "    </tr>\n",
       "    <tr>\n",
       "      <th>mean</th>\n",
       "      <td>1.590670e+01</td>\n",
       "      <td>3.894310e+00</td>\n",
       "      <td>1.331725e+03</td>\n",
       "      <td>1.542630e-01</td>\n",
       "      <td>8.010043e+02</td>\n",
       "      <td>1.609183e-01</td>\n",
       "    </tr>\n",
       "    <tr>\n",
       "      <th>std</th>\n",
       "      <td>8.989842e+00</td>\n",
       "      <td>1.916468e+00</td>\n",
       "      <td>4.962459e+02</td>\n",
       "      <td>3.612008e-01</td>\n",
       "      <td>5.902830e+02</td>\n",
       "      <td>3.674557e-01</td>\n",
       "    </tr>\n",
       "    <tr>\n",
       "      <th>min</th>\n",
       "      <td>1.000000e+00</td>\n",
       "      <td>1.000000e+00</td>\n",
       "      <td>1.000000e+00</td>\n",
       "      <td>0.000000e+00</td>\n",
       "      <td>3.100000e+01</td>\n",
       "      <td>0.000000e+00</td>\n",
       "    </tr>\n",
       "    <tr>\n",
       "      <th>25%</th>\n",
       "      <td>8.000000e+00</td>\n",
       "      <td>2.000000e+00</td>\n",
       "      <td>9.200000e+02</td>\n",
       "      <td>0.000000e+00</td>\n",
       "      <td>3.680000e+02</td>\n",
       "      <td>0.000000e+00</td>\n",
       "    </tr>\n",
       "    <tr>\n",
       "      <th>50%</th>\n",
       "      <td>1.600000e+01</td>\n",
       "      <td>4.000000e+00</td>\n",
       "      <td>1.327000e+03</td>\n",
       "      <td>0.000000e+00</td>\n",
       "      <td>6.410000e+02</td>\n",
       "      <td>0.000000e+00</td>\n",
       "    </tr>\n",
       "    <tr>\n",
       "      <th>75%</th>\n",
       "      <td>2.400000e+01</td>\n",
       "      <td>5.000000e+00</td>\n",
       "      <td>1.739000e+03</td>\n",
       "      <td>0.000000e+00</td>\n",
       "      <td>1.042000e+03</td>\n",
       "      <td>0.000000e+00</td>\n",
       "    </tr>\n",
       "    <tr>\n",
       "      <th>max</th>\n",
       "      <td>3.100000e+01</td>\n",
       "      <td>7.000000e+00</td>\n",
       "      <td>2.400000e+03</td>\n",
       "      <td>1.000000e+00</td>\n",
       "      <td>5.095000e+03</td>\n",
       "      <td>1.000000e+00</td>\n",
       "    </tr>\n",
       "  </tbody>\n",
       "</table>\n",
       "</div>"
      ],
      "text/plain": [
       "       DAY_OF_MONTH   DAY_OF_WEEK      DEP_TIME     DEP_DEL15      DISTANCE  \\\n",
       "count  1.165231e+06  1.165231e+06  1.165231e+06  1.165231e+06  1.165231e+06   \n",
       "mean   1.590670e+01  3.894310e+00  1.331725e+03  1.542630e-01  8.010043e+02   \n",
       "std    8.989842e+00  1.916468e+00  4.962459e+02  3.612008e-01  5.902830e+02   \n",
       "min    1.000000e+00  1.000000e+00  1.000000e+00  0.000000e+00  3.100000e+01   \n",
       "25%    8.000000e+00  2.000000e+00  9.200000e+02  0.000000e+00  3.680000e+02   \n",
       "50%    1.600000e+01  4.000000e+00  1.327000e+03  0.000000e+00  6.410000e+02   \n",
       "75%    2.400000e+01  5.000000e+00  1.739000e+03  0.000000e+00  1.042000e+03   \n",
       "max    3.100000e+01  7.000000e+00  2.400000e+03  1.000000e+00  5.095000e+03   \n",
       "\n",
       "          ARR_DEL15  \n",
       "count  1.165231e+06  \n",
       "mean   1.609183e-01  \n",
       "std    3.674557e-01  \n",
       "min    0.000000e+00  \n",
       "25%    0.000000e+00  \n",
       "50%    0.000000e+00  \n",
       "75%    0.000000e+00  \n",
       "max    1.000000e+00  "
      ]
     },
     "execution_count": 40,
     "metadata": {},
     "output_type": "execute_result"
    }
   ],
   "source": [
    "flight_df.describe()\n"
   ]
  },
  {
   "cell_type": "markdown",
   "id": "3122353b",
   "metadata": {},
   "source": [
    "There seems no unreal values or outliers. Now we can explore the data for some insights."
   ]
  },
  {
   "cell_type": "code",
   "execution_count": 41,
   "id": "5429b066",
   "metadata": {},
   "outputs": [
    {
     "data": {
      "image/png": "[encoded data removed]",
      "text/plain": [
       "<Figure size 1000x600 with 1 Axes>"
      ]
     },
     "metadata": {
      "needs_background": "light"
     },
     "output_type": "display_data"
    }
   ],
   "source": [
    "sns.histplot(x = 'DEP_TIME', data = flight_df, hue = 'ARR_DEL15');"
   ]
  },
  {
   "cell_type": "code",
   "execution_count": 42,
   "id": "904e3302",
   "metadata": {},
   "outputs": [
    {
     "data": {
      "image/png": "[encoded data removed]",
      "text/plain": [
       "<Figure size 1000x600 with 1 Axes>"
      ]
     },
     "metadata": {
      "needs_background": "light"
     },
     "output_type": "display_data"
    }
   ],
   "source": [
    "ax = sns.countplot(x = 'DEP_TIME_BLK', data = flight_df, hue = 'ARR_DEL15')\n",
    "ax.set_xticklabels(ax.get_xticklabels(), rotation = 80);"
   ]
  },
  {
   "cell_type": "markdown",
   "id": "24eee44a",
   "metadata": {},
   "source": [
    "The arrival delay seems to be very little inclined towards midnight hours."
   ]
  },
  {
   "cell_type": "code",
   "execution_count": 43,
   "id": "c89c161e",
   "metadata": {},
   "outputs": [
    {
     "data": {
      "image/png": "[encoded data removed]",
      "text/plain": [
       "<Figure size 1000x600 with 1 Axes>"
      ]
     },
     "metadata": {
      "needs_background": "light"
     },
     "output_type": "display_data"
    }
   ],
   "source": [
    "ax = sns.countplot(x = 'DAY_OF_WEEK', data = flight_df, hue = 'ARR_DEL15');"
   ]
  },
  {
   "cell_type": "markdown",
   "id": "43aa7a22",
   "metadata": {},
   "source": [
    "Weekend days (6 and 7) have less trips in total and relatively more delays."
   ]
  },
  {
   "cell_type": "code",
   "execution_count": 44,
   "id": "ca276a9a",
   "metadata": {},
   "outputs": [
    {
     "data": {
      "image/png": "[encoded data removed]",
      "text/plain": [
       "<Figure size 1000x600 with 1 Axes>"
      ]
     },
     "metadata": {
      "needs_background": "light"
     },
     "output_type": "display_data"
    }
   ],
   "source": [
    "sns.countplot(x = 'DAY_OF_MONTH', data = flight_df, hue = 'ARR_DEL15');"
   ]
  },
  {
   "cell_type": "markdown",
   "id": "df852750",
   "metadata": {},
   "source": [
    "We can see that the number of delayed flights does not vary in similar fashion to the total number of flights on a given day of the month."
   ]
  },
  {
   "cell_type": "code",
   "execution_count": 45,
   "id": "19398cf5",
   "metadata": {},
   "outputs": [
    {
     "data": {
      "image/png": "[encoded data removed]",
      "text/plain": [
       "<Figure size 1000x600 with 1 Axes>"
      ]
     },
     "metadata": {
      "needs_background": "light"
     },
     "output_type": "display_data"
    }
   ],
   "source": [
    "sns.countplot(x = 'OP_CARRIER', data = flight_df, hue = 'ARR_DEL15');"
   ]
  },
  {
   "cell_type": "markdown",
   "id": "3194dc65",
   "metadata": {},
   "source": [
    "There is some variation among carriers in terms of total trips and delayed ones."
   ]
  },
  {
   "cell_type": "code",
   "execution_count": 46,
   "id": "d2c364d2",
   "metadata": {},
   "outputs": [
    {
     "data": {
      "image/png": "[encoded data removed]",
      "text/plain": [
       "<Figure size 1000x600 with 1 Axes>"
      ]
     },
     "metadata": {
      "needs_background": "light"
     },
     "output_type": "display_data"
    }
   ],
   "source": [
    "sns.histplot(x = 'DISTANCE', hue = 'ARR_DEL15', data = flight_df);\n"
   ]
  },
  {
   "cell_type": "markdown",
   "id": "9eb05666",
   "metadata": {},
   "source": [
    "The above plot shows distance may also become an important feature for our problem."
   ]
  },
  {
   "cell_type": "code",
   "execution_count": 47,
   "id": "6eb19eb2",
   "metadata": {},
   "outputs": [
    {
     "data": {
      "image/png": "[encoded data removed]",
      "text/plain": [
       "<Figure size 1000x600 with 1 Axes>"
      ]
     },
     "metadata": {
      "needs_background": "light"
     },
     "output_type": "display_data"
    }
   ],
   "source": [
    "sns.countplot(x = 'DEP_DEL15', hue = 'ARR_DEL15', data = flight_df);"
   ]
  },
  {
   "cell_type": "markdown",
   "id": "ccadb1df",
   "metadata": {},
   "source": [
    "So the departure delay very much influence delay on arrival and the 'DEP_DEL15' will be a very important feature for our prediction problem."
   ]
  },
  {
   "cell_type": "code",
   "execution_count": 48,
   "id": "f81408a9",
   "metadata": {},
   "outputs": [
    {
     "data": {
      "image/png": "[encoded data removed]",
      "text/plain": [
       "<Figure size 900x900 with 1 Axes>"
      ]
     },
     "metadata": {},
     "output_type": "display_data"
    }
   ],
   "source": [
    "plt.figure(figsize = (9,9))\n",
    "plt.title('Percentage of Flights Delayed on Arrival')\n",
    "flight_count = flight_df['ARR_DEL15'].value_counts()\n",
    "plt.pie(flight_count, labels = flight_count.index, autopct = '%1.2f%%');"
   ]
  },
  {
   "cell_type": "markdown",
   "id": "95e69a4c",
   "metadata": {},
   "source": [
    "So approximately 16% of data represent one class(delay on arrival) and 84% the other (no delay)."
   ]
  },
  {
   "cell_type": "code",
   "execution_count": 49,
   "id": "5737607d",
   "metadata": {},
   "outputs": [
    {
     "data": {
      "application/javascript": [
       "window.require && require([\"base/js/namespace\"],function(Jupyter){Jupyter.notebook.save_checkpoint()})"
      ],
      "text/plain": [
       "<IPython.core.display.Javascript object>"
      ]
     },
     "metadata": {},
     "output_type": "display_data"
    },
    {
     "name": "stdout",
     "output_type": "stream",
     "text": [
      "[jovian] Updating notebook \"choudhuryritu12/flight-delay-detection\" on https://jovian.com/\u001b[0m\n",
      "[jovian] Committed successfully! https://jovian.com/choudhuryritu12/flight-delay-detection\u001b[0m\n"
     ]
    },
    {
     "data": {
      "text/plain": [
       "'https://jovian.com/choudhuryritu12/flight-delay-detection'"
      ]
     },
     "execution_count": 49,
     "metadata": {},
     "output_type": "execute_result"
    }
   ],
   "source": [
    "jovian.commit()"
   ]
  },
  {
   "cell_type": "markdown",
   "id": "021b9b21",
   "metadata": {},
   "source": [
    "## Feature Engineering"
   ]
  },
  {
   "cell_type": "code",
   "execution_count": 50,
   "id": "2b9162f8",
   "metadata": {},
   "outputs": [
    {
     "data": {
      "text/plain": [
       "353"
      ]
     },
     "execution_count": 50,
     "metadata": {},
     "output_type": "execute_result"
    }
   ],
   "source": [
    "flight_df['ORIGIN'].nunique()"
   ]
  },
  {
   "cell_type": "code",
   "execution_count": 51,
   "id": "c85ff8a5",
   "metadata": {},
   "outputs": [
    {
     "data": {
      "text/plain": [
       "353"
      ]
     },
     "execution_count": 51,
     "metadata": {},
     "output_type": "execute_result"
    }
   ],
   "source": [
    "flight_df['DEST'].nunique()"
   ]
  },
  {
   "cell_type": "markdown",
   "id": "859b586c",
   "metadata": {},
   "source": [
    "We have 353 airports in total. Instead of feeding categorical variables of 353 each, we can think of some feature engineering. Let's group origin and destination airports based on delay at departure and arrival and use those as categorical variables."
   ]
  },
  {
   "cell_type": "code",
   "execution_count": 52,
   "id": "93ecd12c",
   "metadata": {},
   "outputs": [],
   "source": [
    "percent_delay_origin = flight_df[flight_df['DEP_DEL15']== 1.0]['ORIGIN'].value_counts()/flight_df['ORIGIN'].value_counts()\n"
   ]
  },
  {
   "cell_type": "code",
   "execution_count": 53,
   "id": "752e12af",
   "metadata": {},
   "outputs": [
    {
     "data": {
      "text/plain": [
       "ABE    0.166176\n",
       "ABI    0.166163\n",
       "ABQ    0.106371\n",
       "ABR    0.183333\n",
       "ABY    0.089820\n",
       "         ...   \n",
       "WRG    0.168142\n",
       "XNA    0.145199\n",
       "XWA    0.238806\n",
       "YAK    0.183673\n",
       "YUM    0.109635\n",
       "Name: ORIGIN, Length: 353, dtype: float64"
      ]
     },
     "execution_count": 53,
     "metadata": {},
     "output_type": "execute_result"
    }
   ],
   "source": [
    "percent_delay_origin\n"
   ]
  },
  {
   "cell_type": "code",
   "execution_count": 54,
   "id": "24e8309c",
   "metadata": {},
   "outputs": [
    {
     "data": {
      "text/plain": [
       "count    353.000000\n",
       "mean       0.159340\n",
       "std        0.055873\n",
       "min        0.034682\n",
       "25%        0.123067\n",
       "50%        0.152306\n",
       "75%        0.187320\n",
       "max        0.411765\n",
       "Name: ORIGIN, dtype: float64"
      ]
     },
     "execution_count": 54,
     "metadata": {},
     "output_type": "execute_result"
    }
   ],
   "source": [
    "percent_delay_origin.describe()\n"
   ]
  },
  {
   "cell_type": "code",
   "execution_count": 55,
   "id": "38b6169a",
   "metadata": {},
   "outputs": [],
   "source": [
    "flight_df.loc[:,'ORIGIN_CAT'] = 1\n"
   ]
  },
  {
   "cell_type": "code",
   "execution_count": 56,
   "id": "ba317e9a",
   "metadata": {},
   "outputs": [],
   "source": [
    "origin_cat_dict = {}  #Will be useful while making new input prediction\n"
   ]
  },
  {
   "cell_type": "code",
   "execution_count": 57,
   "id": "075738b8",
   "metadata": {},
   "outputs": [],
   "source": [
    "# insert categories for 'ORIGIN' in 'ORIGIN_CAT' column\n",
    "for index, value in zip(percent_delay_origin.index, percent_delay_origin.values):\n",
    "    if value < 0.05:\n",
    "        origin_cat_dict[index] = 0\n",
    "        flight_df.loc[flight_df['ORIGIN'] == index, 'ORIGIN_CAT'] = 0\n",
    "    elif 0.05 <= value < 0.1:\n",
    "        origin_cat_dict[index] = 1\n",
    "        flight_df.loc[flight_df['ORIGIN'] == index, 'ORIGIN_CAT'] = 1\n",
    "    elif 0.1 <= value < 0.15:\n",
    "        origin_cat_dict[index] = 2\n",
    "        flight_df.loc[flight_df['ORIGIN'] == index, 'ORIGIN_CAT'] = 2\n",
    "    elif 0.15 <= value < 0.2:\n",
    "        origin_cat_dict[index] = 3\n",
    "        flight_df.loc[flight_df['ORIGIN'] == index, 'ORIGIN_CAT'] = 3\n",
    "    elif 0.2 <= value < 0.25:\n",
    "        origin_cat_dict[index] = 4\n",
    "        flight_df.loc[flight_df['ORIGIN'] == index, 'ORIGIN_CAT'] = 4\n",
    "    elif 0.25 <= value < 0.3:\n",
    "        origin_cat_dict[index] = 5\n",
    "        flight_df.loc[flight_df['ORIGIN'] == index, 'ORIGIN_CAT'] = 5\n",
    "    elif 0.3 <= value < 0.35:\n",
    "        origin_cat_dict[index] = 6\n",
    "        flight_df.loc[flight_df['ORIGIN'] == index, 'ORIGIN_CAT'] = 6\n",
    "    elif 0.35 <= value < 0.42:\n",
    "        origin_cat_dict[index] = 7\n",
    "        flight_df.loc[flight_df['ORIGIN'] == index, 'ORIGIN_CAT'] = 7"
   ]
  },
  {
   "cell_type": "code",
   "execution_count": 58,
   "id": "ef65ee39",
   "metadata": {},
   "outputs": [
    {
     "data": {
      "text/plain": [
       "ABE    0.174298\n",
       "ABI    0.181818\n",
       "ABQ    0.126912\n",
       "ABR    0.200000\n",
       "ABY    0.107784\n",
       "         ...   \n",
       "WRG    0.243243\n",
       "XNA    0.162856\n",
       "XWA    0.161290\n",
       "YAK    0.247525\n",
       "YUM    0.150000\n",
       "Name: DEST, Length: 353, dtype: float64"
      ]
     },
     "execution_count": 58,
     "metadata": {},
     "output_type": "execute_result"
    }
   ],
   "source": [
    "percent_delay_dest = flight_df[flight_df['ARR_DEL15']== 1.0]['DEST'].value_counts()/flight_df['DEST'].value_counts()\n",
    "percent_delay_dest"
   ]
  },
  {
   "cell_type": "code",
   "execution_count": 59,
   "id": "d64426c5",
   "metadata": {},
   "outputs": [
    {
     "data": {
      "text/plain": [
       "count    353.000000\n",
       "mean       0.175805\n",
       "std        0.054750\n",
       "min        0.047244\n",
       "25%        0.141176\n",
       "50%        0.167407\n",
       "75%        0.200535\n",
       "max        0.353535\n",
       "Name: DEST, dtype: float64"
      ]
     },
     "execution_count": 59,
     "metadata": {},
     "output_type": "execute_result"
    }
   ],
   "source": [
    "percent_delay_dest.describe()\n"
   ]
  },
  {
   "cell_type": "code",
   "execution_count": 60,
   "id": "97b6b185",
   "metadata": {},
   "outputs": [],
   "source": [
    "flight_df.loc[:, 'DEST_CAT'] = 1\n"
   ]
  },
  {
   "cell_type": "code",
   "execution_count": 61,
   "id": "63906121",
   "metadata": {},
   "outputs": [],
   "source": [
    "dest_cat_dict = {} #Will be useful while making new input prediction"
   ]
  },
  {
   "cell_type": "code",
   "execution_count": 62,
   "id": "95b4d80e",
   "metadata": {},
   "outputs": [],
   "source": [
    "# insert categories for 'DEST' in 'DEST_CAT' column\n",
    "for index, value in zip(percent_delay_dest.index, percent_delay_dest.values):\n",
    "    if value < 0.05:\n",
    "        dest_cat_dict[index] = 0\n",
    "        flight_df.loc[flight_df['DEST'] == index, 'DEST_CAT'] = 0\n",
    "    elif 0.05 <= value < 0.1:\n",
    "        dest_cat_dict[index] = 1\n",
    "        flight_df.loc[flight_df['DEST'] == index, 'DEST_CAT'] = 1\n",
    "    elif 0.1 <= value < 0.15:\n",
    "        dest_cat_dict[index] = 2\n",
    "        flight_df.loc[flight_df['DEST'] == index, 'DEST_CAT'] = 2\n",
    "    elif 0.15 <= value < 0.2:\n",
    "        dest_cat_dict[index] = 3\n",
    "        flight_df.loc[flight_df['DEST'] == index, 'DEST_CAT'] = 3\n",
    "    elif 0.2 <= value < 0.25:\n",
    "        dest_cat_dict[index] = 4\n",
    "        flight_df.loc[flight_df['DEST'] == index, 'DEST_CAT'] = 4\n",
    "    elif 0.25 <= value < 0.3:\n",
    "        dest_cat_dict[index] = 5\n",
    "        flight_df.loc[flight_df['DEST'] == index, 'DEST_CAT'] = 5\n",
    "    elif 0.3 <= value < 0.35:\n",
    "        dest_cat_dict[index] = 6\n",
    "        flight_df.loc[flight_df['DEST'] == index, 'DEST_CAT'] = 6\n",
    "    elif 0.35 <= value < 0.40:\n",
    "        dest_cat_dict[index] = 7\n",
    "        flight_df.loc[flight_df['DEST'] == index, 'DEST_CAT'] = 7"
   ]
  },
  {
   "cell_type": "code",
   "execution_count": 63,
   "id": "f1038687",
   "metadata": {},
   "outputs": [
    {
     "data": {
      "text/html": [
       "<div>\n",
       "<style scoped>\n",
       "    .dataframe tbody tr th:only-of-type {\n",
       "        vertical-align: middle;\n",
       "    }\n",
       "\n",
       "    .dataframe tbody tr th {\n",
       "        vertical-align: top;\n",
       "    }\n",
       "\n",
       "    .dataframe thead th {\n",
       "        text-align: right;\n",
       "    }\n",
       "</style>\n",
       "<table border=\"1\" class=\"dataframe\">\n",
       "  <thead>\n",
       "    <tr style=\"text-align: right;\">\n",
       "      <th></th>\n",
       "      <th>DAY_OF_MONTH</th>\n",
       "      <th>DAY_OF_WEEK</th>\n",
       "      <th>OP_CARRIER</th>\n",
       "      <th>ORIGIN</th>\n",
       "      <th>DEST</th>\n",
       "      <th>DEP_TIME</th>\n",
       "      <th>DEP_DEL15</th>\n",
       "      <th>DEP_TIME_BLK</th>\n",
       "      <th>DISTANCE</th>\n",
       "      <th>ARR_DEL15</th>\n",
       "      <th>ORIGIN_CAT</th>\n",
       "      <th>DEST_CAT</th>\n",
       "    </tr>\n",
       "  </thead>\n",
       "  <tbody>\n",
       "    <tr>\n",
       "      <th>0</th>\n",
       "      <td>1</td>\n",
       "      <td>2</td>\n",
       "      <td>9E</td>\n",
       "      <td>GNV</td>\n",
       "      <td>ATL</td>\n",
       "      <td>601.0</td>\n",
       "      <td>0.0</td>\n",
       "      <td>0600-0659</td>\n",
       "      <td>300.0</td>\n",
       "      <td>0.0</td>\n",
       "      <td>2</td>\n",
       "      <td>2</td>\n",
       "    </tr>\n",
       "    <tr>\n",
       "      <th>1</th>\n",
       "      <td>1</td>\n",
       "      <td>2</td>\n",
       "      <td>9E</td>\n",
       "      <td>MSP</td>\n",
       "      <td>CVG</td>\n",
       "      <td>1359.0</td>\n",
       "      <td>0.0</td>\n",
       "      <td>1400-1459</td>\n",
       "      <td>596.0</td>\n",
       "      <td>0.0</td>\n",
       "      <td>2</td>\n",
       "      <td>3</td>\n",
       "    </tr>\n",
       "    <tr>\n",
       "      <th>2</th>\n",
       "      <td>1</td>\n",
       "      <td>2</td>\n",
       "      <td>9E</td>\n",
       "      <td>DTW</td>\n",
       "      <td>CVG</td>\n",
       "      <td>1215.0</td>\n",
       "      <td>0.0</td>\n",
       "      <td>1200-1259</td>\n",
       "      <td>229.0</td>\n",
       "      <td>0.0</td>\n",
       "      <td>2</td>\n",
       "      <td>3</td>\n",
       "    </tr>\n",
       "    <tr>\n",
       "      <th>3</th>\n",
       "      <td>1</td>\n",
       "      <td>2</td>\n",
       "      <td>9E</td>\n",
       "      <td>TLH</td>\n",
       "      <td>ATL</td>\n",
       "      <td>1521.0</td>\n",
       "      <td>0.0</td>\n",
       "      <td>1500-1559</td>\n",
       "      <td>223.0</td>\n",
       "      <td>0.0</td>\n",
       "      <td>2</td>\n",
       "      <td>2</td>\n",
       "    </tr>\n",
       "    <tr>\n",
       "      <th>4</th>\n",
       "      <td>1</td>\n",
       "      <td>2</td>\n",
       "      <td>9E</td>\n",
       "      <td>ATL</td>\n",
       "      <td>FSM</td>\n",
       "      <td>1847.0</td>\n",
       "      <td>0.0</td>\n",
       "      <td>1900-1959</td>\n",
       "      <td>579.0</td>\n",
       "      <td>0.0</td>\n",
       "      <td>2</td>\n",
       "      <td>2</td>\n",
       "    </tr>\n",
       "    <tr>\n",
       "      <th>...</th>\n",
       "      <td>...</td>\n",
       "      <td>...</td>\n",
       "      <td>...</td>\n",
       "      <td>...</td>\n",
       "      <td>...</td>\n",
       "      <td>...</td>\n",
       "      <td>...</td>\n",
       "      <td>...</td>\n",
       "      <td>...</td>\n",
       "      <td>...</td>\n",
       "      <td>...</td>\n",
       "      <td>...</td>\n",
       "    </tr>\n",
       "    <tr>\n",
       "      <th>1191326</th>\n",
       "      <td>31</td>\n",
       "      <td>5</td>\n",
       "      <td>9E</td>\n",
       "      <td>TYS</td>\n",
       "      <td>DTW</td>\n",
       "      <td>1002.0</td>\n",
       "      <td>1.0</td>\n",
       "      <td>0700-0759</td>\n",
       "      <td>443.0</td>\n",
       "      <td>1.0</td>\n",
       "      <td>2</td>\n",
       "      <td>2</td>\n",
       "    </tr>\n",
       "    <tr>\n",
       "      <th>1191327</th>\n",
       "      <td>31</td>\n",
       "      <td>5</td>\n",
       "      <td>9E</td>\n",
       "      <td>DTW</td>\n",
       "      <td>JFK</td>\n",
       "      <td>1747.0</td>\n",
       "      <td>0.0</td>\n",
       "      <td>1700-1759</td>\n",
       "      <td>509.0</td>\n",
       "      <td>0.0</td>\n",
       "      <td>2</td>\n",
       "      <td>3</td>\n",
       "    </tr>\n",
       "    <tr>\n",
       "      <th>1191328</th>\n",
       "      <td>31</td>\n",
       "      <td>5</td>\n",
       "      <td>9E</td>\n",
       "      <td>GSP</td>\n",
       "      <td>LGA</td>\n",
       "      <td>554.0</td>\n",
       "      <td>0.0</td>\n",
       "      <td>0600-0659</td>\n",
       "      <td>610.0</td>\n",
       "      <td>0.0</td>\n",
       "      <td>2</td>\n",
       "      <td>5</td>\n",
       "    </tr>\n",
       "    <tr>\n",
       "      <th>1191329</th>\n",
       "      <td>31</td>\n",
       "      <td>5</td>\n",
       "      <td>9E</td>\n",
       "      <td>ATL</td>\n",
       "      <td>XNA</td>\n",
       "      <td>1714.0</td>\n",
       "      <td>0.0</td>\n",
       "      <td>1700-1759</td>\n",
       "      <td>589.0</td>\n",
       "      <td>0.0</td>\n",
       "      <td>2</td>\n",
       "      <td>3</td>\n",
       "    </tr>\n",
       "    <tr>\n",
       "      <th>1191330</th>\n",
       "      <td>31</td>\n",
       "      <td>5</td>\n",
       "      <td>9E</td>\n",
       "      <td>XNA</td>\n",
       "      <td>ATL</td>\n",
       "      <td>1841.0</td>\n",
       "      <td>0.0</td>\n",
       "      <td>1800-1859</td>\n",
       "      <td>589.0</td>\n",
       "      <td>0.0</td>\n",
       "      <td>2</td>\n",
       "      <td>2</td>\n",
       "    </tr>\n",
       "  </tbody>\n",
       "</table>\n",
       "<p>1165231 rows × 12 columns</p>\n",
       "</div>"
      ],
      "text/plain": [
       "         DAY_OF_MONTH  DAY_OF_WEEK OP_CARRIER ORIGIN DEST  DEP_TIME  \\\n",
       "0                   1            2         9E    GNV  ATL     601.0   \n",
       "1                   1            2         9E    MSP  CVG    1359.0   \n",
       "2                   1            2         9E    DTW  CVG    1215.0   \n",
       "3                   1            2         9E    TLH  ATL    1521.0   \n",
       "4                   1            2         9E    ATL  FSM    1847.0   \n",
       "...               ...          ...        ...    ...  ...       ...   \n",
       "1191326            31            5         9E    TYS  DTW    1002.0   \n",
       "1191327            31            5         9E    DTW  JFK    1747.0   \n",
       "1191328            31            5         9E    GSP  LGA     554.0   \n",
       "1191329            31            5         9E    ATL  XNA    1714.0   \n",
       "1191330            31            5         9E    XNA  ATL    1841.0   \n",
       "\n",
       "         DEP_DEL15 DEP_TIME_BLK  DISTANCE  ARR_DEL15  ORIGIN_CAT  DEST_CAT  \n",
       "0              0.0    0600-0659     300.0        0.0           2         2  \n",
       "1              0.0    1400-1459     596.0        0.0           2         3  \n",
       "2              0.0    1200-1259     229.0        0.0           2         3  \n",
       "3              0.0    1500-1559     223.0        0.0           2         2  \n",
       "4              0.0    1900-1959     579.0        0.0           2         2  \n",
       "...            ...          ...       ...        ...         ...       ...  \n",
       "1191326        1.0    0700-0759     443.0        1.0           2         2  \n",
       "1191327        0.0    1700-1759     509.0        0.0           2         3  \n",
       "1191328        0.0    0600-0659     610.0        0.0           2         5  \n",
       "1191329        0.0    1700-1759     589.0        0.0           2         3  \n",
       "1191330        0.0    1800-1859     589.0        0.0           2         2  \n",
       "\n",
       "[1165231 rows x 12 columns]"
      ]
     },
     "execution_count": 63,
     "metadata": {},
     "output_type": "execute_result"
    }
   ],
   "source": [
    "flight_df"
   ]
  },
  {
   "cell_type": "code",
   "execution_count": 64,
   "id": "d06831e3",
   "metadata": {},
   "outputs": [
    {
     "data": {
      "application/javascript": [
       "window.require && require([\"base/js/namespace\"],function(Jupyter){Jupyter.notebook.save_checkpoint()})"
      ],
      "text/plain": [
       "<IPython.core.display.Javascript object>"
      ]
     },
     "metadata": {},
     "output_type": "display_data"
    },
    {
     "name": "stdout",
     "output_type": "stream",
     "text": [
      "[jovian] Updating notebook \"choudhuryritu12/flight-delay-detection\" on https://jovian.com/\u001b[0m\n",
      "[jovian] Committed successfully! https://jovian.com/choudhuryritu12/flight-delay-detection\u001b[0m\n"
     ]
    },
    {
     "data": {
      "text/plain": [
       "'https://jovian.com/choudhuryritu12/flight-delay-detection'"
      ]
     },
     "execution_count": 64,
     "metadata": {},
     "output_type": "execute_result"
    }
   ],
   "source": [
    "jovian.commit()"
   ]
  },
  {
   "cell_type": "markdown",
   "id": "f0ef89d0",
   "metadata": {},
   "source": [
    "## Split Data"
   ]
  },
  {
   "cell_type": "code",
   "execution_count": 65,
   "id": "eb70d513",
   "metadata": {},
   "outputs": [],
   "source": [
    "from sklearn.model_selection import train_test_split"
   ]
  },
  {
   "cell_type": "markdown",
   "id": "e9e2824d",
   "metadata": {},
   "source": [
    "The train_test_split function is commonly used for splitting a dataset into training and testing sets. It is particularly useful in machine learning workflows to assess the performance of a model on unseen data."
   ]
  },
  {
   "cell_type": "code",
   "execution_count": 66,
   "id": "5d9cf06e",
   "metadata": {},
   "outputs": [],
   "source": [
    "train_val_df, test_df = train_test_split(flight_df, test_size = 0.2, shuffle = False)\n",
    "train_df, val_df = train_test_split(train_val_df, test_size = 0.25, shuffle = False)"
   ]
  },
  {
   "cell_type": "markdown",
   "id": "c75c3554",
   "metadata": {},
   "source": [
    "The data is split into 60% training, 20% validation and remaining 20% for testing. Shuffle set to False so that latest data comes for testing."
   ]
  },
  {
   "cell_type": "code",
   "execution_count": 67,
   "id": "8f39ffd9",
   "metadata": {},
   "outputs": [
    {
     "name": "stdout",
     "output_type": "stream",
     "text": [
      "train_df size:  (699138, 12)\n",
      "val_df size:  (233046, 12)\n",
      "test_df size:  (233047, 12)\n"
     ]
    }
   ],
   "source": [
    "print('train_df size: ', train_df.shape)\n",
    "print('val_df size: ', val_df.shape)\n",
    "print('test_df size: ', test_df.shape)"
   ]
  },
  {
   "cell_type": "markdown",
   "id": "0397b916",
   "metadata": {},
   "source": [
    "Let's now select input columns, target columns and then choose numerical and categorical columns for further processing of data."
   ]
  },
  {
   "cell_type": "code",
   "execution_count": 68,
   "id": "78004610",
   "metadata": {},
   "outputs": [
    {
     "data": {
      "text/plain": [
       "Index(['DAY_OF_MONTH', 'DAY_OF_WEEK', 'OP_CARRIER', 'ORIGIN', 'DEST',\n",
       "       'DEP_TIME', 'DEP_DEL15', 'DEP_TIME_BLK', 'DISTANCE', 'ARR_DEL15',\n",
       "       'ORIGIN_CAT', 'DEST_CAT'],\n",
       "      dtype='object')"
      ]
     },
     "execution_count": 68,
     "metadata": {},
     "output_type": "execute_result"
    }
   ],
   "source": [
    "flight_df.columns"
   ]
  },
  {
   "cell_type": "code",
   "execution_count": 69,
   "id": "b10b7dd9",
   "metadata": {},
   "outputs": [],
   "source": [
    "input_cols =  ['DAY_OF_MONTH', 'DAY_OF_WEEK', 'OP_CARRIER', 'DEP_TIME', 'DEP_DEL15',\n",
    "               'DEP_TIME_BLK', 'DISTANCE', 'ORIGIN_CAT', 'DEST_CAT']\n",
    "target_col = 'ARR_DEL15'"
   ]
  },
  {
   "cell_type": "code",
   "execution_count": 70,
   "id": "2a75a686",
   "metadata": {},
   "outputs": [],
   "source": [
    "numeric_cols =  ['DAY_OF_MONTH','DEP_TIME', 'DISTANCE']\n",
    "categorical_cols =  ['DAY_OF_WEEK', 'OP_CARRIER', 'DEP_DEL15', 'DEP_TIME_BLK', 'ORIGIN_CAT', 'DEST_CAT']\n"
   ]
  },
  {
   "cell_type": "code",
   "execution_count": 71,
   "id": "f2218f8c",
   "metadata": {},
   "outputs": [
    {
     "data": {
      "text/html": [
       "<div>\n",
       "<style scoped>\n",
       "    .dataframe tbody tr th:only-of-type {\n",
       "        vertical-align: middle;\n",
       "    }\n",
       "\n",
       "    .dataframe tbody tr th {\n",
       "        vertical-align: top;\n",
       "    }\n",
       "\n",
       "    .dataframe thead th {\n",
       "        text-align: right;\n",
       "    }\n",
       "</style>\n",
       "<table border=\"1\" class=\"dataframe\">\n",
       "  <thead>\n",
       "    <tr style=\"text-align: right;\">\n",
       "      <th></th>\n",
       "      <th>DAY_OF_MONTH</th>\n",
       "      <th>DEP_TIME</th>\n",
       "      <th>DISTANCE</th>\n",
       "    </tr>\n",
       "  </thead>\n",
       "  <tbody>\n",
       "    <tr>\n",
       "      <th>count</th>\n",
       "      <td>699138.000000</td>\n",
       "      <td>699138.000000</td>\n",
       "      <td>699138.000000</td>\n",
       "    </tr>\n",
       "    <tr>\n",
       "      <th>mean</th>\n",
       "      <td>13.525677</td>\n",
       "      <td>1333.096670</td>\n",
       "      <td>807.287787</td>\n",
       "    </tr>\n",
       "    <tr>\n",
       "      <th>std</th>\n",
       "      <td>9.346128</td>\n",
       "      <td>497.526748</td>\n",
       "      <td>594.301082</td>\n",
       "    </tr>\n",
       "    <tr>\n",
       "      <th>min</th>\n",
       "      <td>1.000000</td>\n",
       "      <td>1.000000</td>\n",
       "      <td>31.000000</td>\n",
       "    </tr>\n",
       "    <tr>\n",
       "      <th>25%</th>\n",
       "      <td>5.000000</td>\n",
       "      <td>921.000000</td>\n",
       "      <td>369.000000</td>\n",
       "    </tr>\n",
       "    <tr>\n",
       "      <th>50%</th>\n",
       "      <td>12.000000</td>\n",
       "      <td>1328.000000</td>\n",
       "      <td>646.000000</td>\n",
       "    </tr>\n",
       "    <tr>\n",
       "      <th>75%</th>\n",
       "      <td>22.000000</td>\n",
       "      <td>1740.000000</td>\n",
       "      <td>1049.000000</td>\n",
       "    </tr>\n",
       "    <tr>\n",
       "      <th>max</th>\n",
       "      <td>31.000000</td>\n",
       "      <td>2400.000000</td>\n",
       "      <td>5095.000000</td>\n",
       "    </tr>\n",
       "  </tbody>\n",
       "</table>\n",
       "</div>"
      ],
      "text/plain": [
       "        DAY_OF_MONTH       DEP_TIME       DISTANCE\n",
       "count  699138.000000  699138.000000  699138.000000\n",
       "mean       13.525677    1333.096670     807.287787\n",
       "std         9.346128     497.526748     594.301082\n",
       "min         1.000000       1.000000      31.000000\n",
       "25%         5.000000     921.000000     369.000000\n",
       "50%        12.000000    1328.000000     646.000000\n",
       "75%        22.000000    1740.000000    1049.000000\n",
       "max        31.000000    2400.000000    5095.000000"
      ]
     },
     "execution_count": 71,
     "metadata": {},
     "output_type": "execute_result"
    }
   ],
   "source": [
    "train_df[numeric_cols].describe()"
   ]
  },
  {
   "cell_type": "markdown",
   "id": "ca77f9fd",
   "metadata": {},
   "source": [
    "Choose inputs and targets for training, validation and testing."
   ]
  },
  {
   "cell_type": "code",
   "execution_count": 72,
   "id": "ba3782bc",
   "metadata": {},
   "outputs": [],
   "source": [
    "train_inputs = train_df[input_cols].copy()\n",
    "val_inputs = val_df[input_cols].copy()\n",
    "test_inputs = test_df[input_cols].copy()"
   ]
  },
  {
   "cell_type": "code",
   "execution_count": 73,
   "id": "ce3723cc",
   "metadata": {},
   "outputs": [],
   "source": [
    "train_targets = train_df[target_col].copy()\n",
    "val_targets = val_df[target_col].copy()\n",
    "test_targets = test_df[target_col].copy()"
   ]
  },
  {
   "cell_type": "code",
   "execution_count": 74,
   "id": "9fe47d95",
   "metadata": {},
   "outputs": [
    {
     "data": {
      "text/html": [
       "<div>\n",
       "<style scoped>\n",
       "    .dataframe tbody tr th:only-of-type {\n",
       "        vertical-align: middle;\n",
       "    }\n",
       "\n",
       "    .dataframe tbody tr th {\n",
       "        vertical-align: top;\n",
       "    }\n",
       "\n",
       "    .dataframe thead th {\n",
       "        text-align: right;\n",
       "    }\n",
       "</style>\n",
       "<table border=\"1\" class=\"dataframe\">\n",
       "  <thead>\n",
       "    <tr style=\"text-align: right;\">\n",
       "      <th></th>\n",
       "      <th>DAY_OF_MONTH</th>\n",
       "      <th>DAY_OF_WEEK</th>\n",
       "      <th>OP_CARRIER</th>\n",
       "      <th>DEP_TIME</th>\n",
       "      <th>DEP_DEL15</th>\n",
       "      <th>DEP_TIME_BLK</th>\n",
       "      <th>DISTANCE</th>\n",
       "      <th>ORIGIN_CAT</th>\n",
       "      <th>DEST_CAT</th>\n",
       "    </tr>\n",
       "  </thead>\n",
       "  <tbody>\n",
       "    <tr>\n",
       "      <th>0</th>\n",
       "      <td>1</td>\n",
       "      <td>2</td>\n",
       "      <td>9E</td>\n",
       "      <td>601.0</td>\n",
       "      <td>0.0</td>\n",
       "      <td>0600-0659</td>\n",
       "      <td>300.0</td>\n",
       "      <td>2</td>\n",
       "      <td>2</td>\n",
       "    </tr>\n",
       "    <tr>\n",
       "      <th>1</th>\n",
       "      <td>1</td>\n",
       "      <td>2</td>\n",
       "      <td>9E</td>\n",
       "      <td>1359.0</td>\n",
       "      <td>0.0</td>\n",
       "      <td>1400-1459</td>\n",
       "      <td>596.0</td>\n",
       "      <td>2</td>\n",
       "      <td>3</td>\n",
       "    </tr>\n",
       "    <tr>\n",
       "      <th>2</th>\n",
       "      <td>1</td>\n",
       "      <td>2</td>\n",
       "      <td>9E</td>\n",
       "      <td>1215.0</td>\n",
       "      <td>0.0</td>\n",
       "      <td>1200-1259</td>\n",
       "      <td>229.0</td>\n",
       "      <td>2</td>\n",
       "      <td>3</td>\n",
       "    </tr>\n",
       "    <tr>\n",
       "      <th>3</th>\n",
       "      <td>1</td>\n",
       "      <td>2</td>\n",
       "      <td>9E</td>\n",
       "      <td>1521.0</td>\n",
       "      <td>0.0</td>\n",
       "      <td>1500-1559</td>\n",
       "      <td>223.0</td>\n",
       "      <td>2</td>\n",
       "      <td>2</td>\n",
       "    </tr>\n",
       "    <tr>\n",
       "      <th>4</th>\n",
       "      <td>1</td>\n",
       "      <td>2</td>\n",
       "      <td>9E</td>\n",
       "      <td>1847.0</td>\n",
       "      <td>0.0</td>\n",
       "      <td>1900-1959</td>\n",
       "      <td>579.0</td>\n",
       "      <td>2</td>\n",
       "      <td>2</td>\n",
       "    </tr>\n",
       "    <tr>\n",
       "      <th>...</th>\n",
       "      <td>...</td>\n",
       "      <td>...</td>\n",
       "      <td>...</td>\n",
       "      <td>...</td>\n",
       "      <td>...</td>\n",
       "      <td>...</td>\n",
       "      <td>...</td>\n",
       "      <td>...</td>\n",
       "      <td>...</td>\n",
       "    </tr>\n",
       "    <tr>\n",
       "      <th>717944</th>\n",
       "      <td>7</td>\n",
       "      <td>2</td>\n",
       "      <td>9E</td>\n",
       "      <td>1928.0</td>\n",
       "      <td>1.0</td>\n",
       "      <td>1700-1759</td>\n",
       "      <td>296.0</td>\n",
       "      <td>4</td>\n",
       "      <td>3</td>\n",
       "    </tr>\n",
       "    <tr>\n",
       "      <th>717945</th>\n",
       "      <td>7</td>\n",
       "      <td>2</td>\n",
       "      <td>9E</td>\n",
       "      <td>2101.0</td>\n",
       "      <td>1.0</td>\n",
       "      <td>1900-1959</td>\n",
       "      <td>296.0</td>\n",
       "      <td>3</td>\n",
       "      <td>5</td>\n",
       "    </tr>\n",
       "    <tr>\n",
       "      <th>717946</th>\n",
       "      <td>7</td>\n",
       "      <td>2</td>\n",
       "      <td>9E</td>\n",
       "      <td>1725.0</td>\n",
       "      <td>0.0</td>\n",
       "      <td>1700-1759</td>\n",
       "      <td>752.0</td>\n",
       "      <td>3</td>\n",
       "      <td>3</td>\n",
       "    </tr>\n",
       "    <tr>\n",
       "      <th>717947</th>\n",
       "      <td>7</td>\n",
       "      <td>2</td>\n",
       "      <td>9E</td>\n",
       "      <td>1225.0</td>\n",
       "      <td>1.0</td>\n",
       "      <td>1100-1159</td>\n",
       "      <td>305.0</td>\n",
       "      <td>3</td>\n",
       "      <td>5</td>\n",
       "    </tr>\n",
       "    <tr>\n",
       "      <th>717948</th>\n",
       "      <td>7</td>\n",
       "      <td>2</td>\n",
       "      <td>9E</td>\n",
       "      <td>2108.0</td>\n",
       "      <td>0.0</td>\n",
       "      <td>2100-2159</td>\n",
       "      <td>508.0</td>\n",
       "      <td>2</td>\n",
       "      <td>3</td>\n",
       "    </tr>\n",
       "  </tbody>\n",
       "</table>\n",
       "<p>699138 rows × 9 columns</p>\n",
       "</div>"
      ],
      "text/plain": [
       "        DAY_OF_MONTH  DAY_OF_WEEK OP_CARRIER  DEP_TIME  DEP_DEL15  \\\n",
       "0                  1            2         9E     601.0        0.0   \n",
       "1                  1            2         9E    1359.0        0.0   \n",
       "2                  1            2         9E    1215.0        0.0   \n",
       "3                  1            2         9E    1521.0        0.0   \n",
       "4                  1            2         9E    1847.0        0.0   \n",
       "...              ...          ...        ...       ...        ...   \n",
       "717944             7            2         9E    1928.0        1.0   \n",
       "717945             7            2         9E    2101.0        1.0   \n",
       "717946             7            2         9E    1725.0        0.0   \n",
       "717947             7            2         9E    1225.0        1.0   \n",
       "717948             7            2         9E    2108.0        0.0   \n",
       "\n",
       "       DEP_TIME_BLK  DISTANCE  ORIGIN_CAT  DEST_CAT  \n",
       "0         0600-0659     300.0           2         2  \n",
       "1         1400-1459     596.0           2         3  \n",
       "2         1200-1259     229.0           2         3  \n",
       "3         1500-1559     223.0           2         2  \n",
       "4         1900-1959     579.0           2         2  \n",
       "...             ...       ...         ...       ...  \n",
       "717944    1700-1759     296.0           4         3  \n",
       "717945    1900-1959     296.0           3         5  \n",
       "717946    1700-1759     752.0           3         3  \n",
       "717947    1100-1159     305.0           3         5  \n",
       "717948    2100-2159     508.0           2         3  \n",
       "\n",
       "[699138 rows x 9 columns]"
      ]
     },
     "execution_count": 74,
     "metadata": {},
     "output_type": "execute_result"
    }
   ],
   "source": [
    "train_inputs"
   ]
  },
  {
   "cell_type": "markdown",
   "id": "8fbccd8c",
   "metadata": {},
   "source": [
    "## Imputation"
   ]
  },
  {
   "cell_type": "code",
   "execution_count": 75,
   "id": "010a11e1",
   "metadata": {},
   "outputs": [
    {
     "data": {
      "text/plain": [
       "DAY_OF_MONTH    0\n",
       "DAY_OF_WEEK     0\n",
       "OP_CARRIER      0\n",
       "ORIGIN          0\n",
       "DEST            0\n",
       "DEP_TIME        0\n",
       "DEP_DEL15       0\n",
       "DEP_TIME_BLK    0\n",
       "DISTANCE        0\n",
       "ARR_DEL15       0\n",
       "ORIGIN_CAT      0\n",
       "DEST_CAT        0\n",
       "dtype: int64"
      ]
     },
     "execution_count": 75,
     "metadata": {},
     "output_type": "execute_result"
    }
   ],
   "source": [
    "flight_df.isna().sum()"
   ]
  },
  {
   "cell_type": "markdown",
   "id": "cb49cb0d",
   "metadata": {},
   "source": [
    "Since there are no missing values, imputation is not required."
   ]
  },
  {
   "cell_type": "markdown",
   "id": "26880851",
   "metadata": {},
   "source": [
    "### Scaling Numeric Values\n",
    "Now let's scale numeric values to the 0 to 1 range."
   ]
  },
  {
   "cell_type": "code",
   "execution_count": 76,
   "id": "7b059717",
   "metadata": {},
   "outputs": [],
   "source": [
    "from sklearn.preprocessing import MinMaxScaler"
   ]
  },
  {
   "cell_type": "code",
   "execution_count": 77,
   "id": "d9ef21d8",
   "metadata": {},
   "outputs": [],
   "source": [
    "scaler = MinMaxScaler()\n"
   ]
  },
  {
   "cell_type": "code",
   "execution_count": 78,
   "id": "647671c3",
   "metadata": {},
   "outputs": [
    {
     "data": {
      "text/html": [
       "<style>#sk-container-id-1 {color: black;}#sk-container-id-1 pre{padding: 0;}#sk-container-id-1 div.sk-toggleable {background-color: white;}#sk-container-id-1 label.sk-toggleable__label {cursor: pointer;display: block;width: 100%;margin-bottom: 0;padding: 0.3em;box-sizing: border-box;text-align: center;}#sk-container-id-1 label.sk-toggleable__label-arrow:before {content: \"▸\";float: left;margin-right: 0.25em;color: #696969;}#sk-container-id-1 label.sk-toggleable__label-arrow:hover:before {color: black;}#sk-container-id-1 div.sk-estimator:hover label.sk-toggleable__label-arrow:before {color: black;}#sk-container-id-1 div.sk-toggleable__content {max-height: 0;max-width: 0;overflow: hidden;text-align: left;background-color: #f0f8ff;}#sk-container-id-1 div.sk-toggleable__content pre {margin: 0.2em;color: black;border-radius: 0.25em;background-color: #f0f8ff;}#sk-container-id-1 input.sk-toggleable__control:checked~div.sk-toggleable__content {max-height: 200px;max-width: 100%;overflow: auto;}#sk-container-id-1 input.sk-toggleable__control:checked~label.sk-toggleable__label-arrow:before {content: \"▾\";}#sk-container-id-1 div.sk-estimator input.sk-toggleable__control:checked~label.sk-toggleable__label {background-color: #d4ebff;}#sk-container-id-1 div.sk-label input.sk-toggleable__control:checked~label.sk-toggleable__label {background-color: #d4ebff;}#sk-container-id-1 input.sk-hidden--visually {border: 0;clip: rect(1px 1px 1px 1px);clip: rect(1px, 1px, 1px, 1px);height: 1px;margin: -1px;overflow: hidden;padding: 0;position: absolute;width: 1px;}#sk-container-id-1 div.sk-estimator {font-family: monospace;background-color: #f0f8ff;border: 1px dotted black;border-radius: 0.25em;box-sizing: border-box;margin-bottom: 0.5em;}#sk-container-id-1 div.sk-estimator:hover {background-color: #d4ebff;}#sk-container-id-1 div.sk-parallel-item::after {content: \"\";width: 100%;border-bottom: 1px solid gray;flex-grow: 1;}#sk-container-id-1 div.sk-label:hover label.sk-toggleable__label {background-color: #d4ebff;}#sk-container-id-1 div.sk-serial::before {content: \"\";position: absolute;border-left: 1px solid gray;box-sizing: border-box;top: 0;bottom: 0;left: 50%;z-index: 0;}#sk-container-id-1 div.sk-serial {display: flex;flex-direction: column;align-items: center;background-color: white;padding-right: 0.2em;padding-left: 0.2em;position: relative;}#sk-container-id-1 div.sk-item {position: relative;z-index: 1;}#sk-container-id-1 div.sk-parallel {display: flex;align-items: stretch;justify-content: center;background-color: white;position: relative;}#sk-container-id-1 div.sk-item::before, #sk-container-id-1 div.sk-parallel-item::before {content: \"\";position: absolute;border-left: 1px solid gray;box-sizing: border-box;top: 0;bottom: 0;left: 50%;z-index: -1;}#sk-container-id-1 div.sk-parallel-item {display: flex;flex-direction: column;z-index: 1;position: relative;background-color: white;}#sk-container-id-1 div.sk-parallel-item:first-child::after {align-self: flex-end;width: 50%;}#sk-container-id-1 div.sk-parallel-item:last-child::after {align-self: flex-start;width: 50%;}#sk-container-id-1 div.sk-parallel-item:only-child::after {width: 0;}#sk-container-id-1 div.sk-dashed-wrapped {border: 1px dashed gray;margin: 0 0.4em 0.5em 0.4em;box-sizing: border-box;padding-bottom: 0.4em;background-color: white;}#sk-container-id-1 div.sk-label label {font-family: monospace;font-weight: bold;display: inline-block;line-height: 1.2em;}#sk-container-id-1 div.sk-label-container {text-align: center;}#sk-container-id-1 div.sk-container {/* jupyter's `normalize.less` sets `[hidden] { display: none; }` but bootstrap.min.css set `[hidden] { display: none !important; }` so we also need the `!important` here to be able to override the default hidden behavior on the sphinx rendered scikit-learn.org. See: https://github.com/scikit-learn/scikit-learn/issues/21755 */display: inline-block !important;position: relative;}#sk-container-id-1 div.sk-text-repr-fallback {display: none;}</style><div id=\"sk-container-id-1\" class=\"sk-top-container\"><div class=\"sk-text-repr-fallback\"><pre>MinMaxScaler()</pre><b>In a Jupyter environment, please rerun this cell to show the HTML representation or trust the notebook. <br />On GitHub, the HTML representation is unable to render, please try loading this page with nbviewer.org.</b></div><div class=\"sk-container\" hidden><div class=\"sk-item\"><div class=\"sk-estimator sk-toggleable\"><input class=\"sk-toggleable__control sk-hidden--visually\" id=\"sk-estimator-id-1\" type=\"checkbox\" checked><label for=\"sk-estimator-id-1\" class=\"sk-toggleable__label sk-toggleable__label-arrow\">MinMaxScaler</label><div class=\"sk-toggleable__content\"><pre>MinMaxScaler()</pre></div></div></div></div></div>"
      ],
      "text/plain": [
       "MinMaxScaler()"
      ]
     },
     "execution_count": 78,
     "metadata": {},
     "output_type": "execute_result"
    }
   ],
   "source": [
    "scaler.fit(flight_df[numeric_cols])\n"
   ]
  },
  {
   "cell_type": "code",
   "execution_count": 79,
   "id": "58e68ced",
   "metadata": {},
   "outputs": [],
   "source": [
    "train_inputs[numeric_cols] = scaler.transform(train_inputs[numeric_cols])\n",
    "val_inputs[numeric_cols] = scaler.transform(val_inputs[numeric_cols])\n",
    "test_inputs[numeric_cols] = scaler.transform(test_inputs[numeric_cols])"
   ]
  },
  {
   "cell_type": "code",
   "execution_count": 80,
   "id": "070df37a",
   "metadata": {},
   "outputs": [
    {
     "data": {
      "text/html": [
       "<div>\n",
       "<style scoped>\n",
       "    .dataframe tbody tr th:only-of-type {\n",
       "        vertical-align: middle;\n",
       "    }\n",
       "\n",
       "    .dataframe tbody tr th {\n",
       "        vertical-align: top;\n",
       "    }\n",
       "\n",
       "    .dataframe thead th {\n",
       "        text-align: right;\n",
       "    }\n",
       "</style>\n",
       "<table border=\"1\" class=\"dataframe\">\n",
       "  <thead>\n",
       "    <tr style=\"text-align: right;\">\n",
       "      <th></th>\n",
       "      <th>DAY_OF_MONTH</th>\n",
       "      <th>DEP_TIME</th>\n",
       "      <th>DISTANCE</th>\n",
       "    </tr>\n",
       "  </thead>\n",
       "  <tbody>\n",
       "    <tr>\n",
       "      <th>count</th>\n",
       "      <td>699138.000000</td>\n",
       "      <td>699138.000000</td>\n",
       "      <td>699138.000000</td>\n",
       "    </tr>\n",
       "    <tr>\n",
       "      <th>mean</th>\n",
       "      <td>0.417523</td>\n",
       "      <td>0.555272</td>\n",
       "      <td>0.153295</td>\n",
       "    </tr>\n",
       "    <tr>\n",
       "      <th>std</th>\n",
       "      <td>0.311538</td>\n",
       "      <td>0.207389</td>\n",
       "      <td>0.117358</td>\n",
       "    </tr>\n",
       "    <tr>\n",
       "      <th>min</th>\n",
       "      <td>0.000000</td>\n",
       "      <td>0.000000</td>\n",
       "      <td>0.000000</td>\n",
       "    </tr>\n",
       "    <tr>\n",
       "      <th>25%</th>\n",
       "      <td>0.133333</td>\n",
       "      <td>0.383493</td>\n",
       "      <td>0.066746</td>\n",
       "    </tr>\n",
       "    <tr>\n",
       "      <th>50%</th>\n",
       "      <td>0.366667</td>\n",
       "      <td>0.553147</td>\n",
       "      <td>0.121445</td>\n",
       "    </tr>\n",
       "    <tr>\n",
       "      <th>75%</th>\n",
       "      <td>0.700000</td>\n",
       "      <td>0.724885</td>\n",
       "      <td>0.201027</td>\n",
       "    </tr>\n",
       "    <tr>\n",
       "      <th>max</th>\n",
       "      <td>1.000000</td>\n",
       "      <td>1.000000</td>\n",
       "      <td>1.000000</td>\n",
       "    </tr>\n",
       "  </tbody>\n",
       "</table>\n",
       "</div>"
      ],
      "text/plain": [
       "        DAY_OF_MONTH       DEP_TIME       DISTANCE\n",
       "count  699138.000000  699138.000000  699138.000000\n",
       "mean        0.417523       0.555272       0.153295\n",
       "std         0.311538       0.207389       0.117358\n",
       "min         0.000000       0.000000       0.000000\n",
       "25%         0.133333       0.383493       0.066746\n",
       "50%         0.366667       0.553147       0.121445\n",
       "75%         0.700000       0.724885       0.201027\n",
       "max         1.000000       1.000000       1.000000"
      ]
     },
     "execution_count": 80,
     "metadata": {},
     "output_type": "execute_result"
    }
   ],
   "source": [
    "train_inputs[numeric_cols].describe()"
   ]
  },
  {
   "cell_type": "markdown",
   "id": "2a78f4b9",
   "metadata": {},
   "source": [
    "## Encoding Categorical Columns"
   ]
  },
  {
   "cell_type": "code",
   "execution_count": 81,
   "id": "a5028c83",
   "metadata": {},
   "outputs": [],
   "source": [
    "from sklearn.preprocessing import OneHotEncoder"
   ]
  },
  {
   "cell_type": "code",
   "execution_count": 82,
   "id": "b7c7686c",
   "metadata": {},
   "outputs": [
    {
     "name": "stderr",
     "output_type": "stream",
     "text": [
      "C:\\Users\\RITISHA\\AppData\\Roaming\\Python\\Python311\\site-packages\\sklearn\\preprocessing\\_encoders.py:975: FutureWarning: `sparse` was renamed to `sparse_output` in version 1.2 and will be removed in 1.4. `sparse_output` is ignored unless you leave `sparse` to its default value.\n",
      "  warnings.warn(\n"
     ]
    }
   ],
   "source": [
    "encoder = OneHotEncoder(sparse = False, handle_unknown = 'ignore').fit(flight_df[categorical_cols])\n",
    "encoded_cols = list(encoder.get_feature_names_out(categorical_cols))"
   ]
  },
  {
   "cell_type": "code",
   "execution_count": 83,
   "id": "229b12ce",
   "metadata": {},
   "outputs": [
    {
     "data": {
      "text/plain": [
       "61"
      ]
     },
     "execution_count": 83,
     "metadata": {},
     "output_type": "execute_result"
    }
   ],
   "source": [
    "\n",
    "len(encoded_cols)"
   ]
  },
  {
   "cell_type": "code",
   "execution_count": 84,
   "id": "fdcc43d1",
   "metadata": {},
   "outputs": [],
   "source": [
    "train_inputs[encoded_cols] = encoder.transform(train_inputs[categorical_cols])"
   ]
  },
  {
   "cell_type": "code",
   "execution_count": 85,
   "id": "2bea8054",
   "metadata": {},
   "outputs": [],
   "source": [
    "val_inputs[encoded_cols] = encoder.transform(val_inputs[categorical_cols])\n"
   ]
  },
  {
   "cell_type": "code",
   "execution_count": 86,
   "id": "0ff0bf03",
   "metadata": {},
   "outputs": [],
   "source": [
    "test_inputs[encoded_cols] = encoder.transform(test_inputs[categorical_cols])"
   ]
  },
  {
   "cell_type": "code",
   "execution_count": 87,
   "id": "38de3fe1",
   "metadata": {},
   "outputs": [
    {
     "data": {
      "text/html": [
       "<div>\n",
       "<style scoped>\n",
       "    .dataframe tbody tr th:only-of-type {\n",
       "        vertical-align: middle;\n",
       "    }\n",
       "\n",
       "    .dataframe tbody tr th {\n",
       "        vertical-align: top;\n",
       "    }\n",
       "\n",
       "    .dataframe thead th {\n",
       "        text-align: right;\n",
       "    }\n",
       "</style>\n",
       "<table border=\"1\" class=\"dataframe\">\n",
       "  <thead>\n",
       "    <tr style=\"text-align: right;\">\n",
       "      <th></th>\n",
       "      <th>DAY_OF_MONTH</th>\n",
       "      <th>DAY_OF_WEEK</th>\n",
       "      <th>OP_CARRIER</th>\n",
       "      <th>DEP_TIME</th>\n",
       "      <th>DEP_DEL15</th>\n",
       "      <th>DEP_TIME_BLK</th>\n",
       "      <th>DISTANCE</th>\n",
       "      <th>ORIGIN_CAT</th>\n",
       "      <th>DEST_CAT</th>\n",
       "      <th>DAY_OF_WEEK_1</th>\n",
       "      <th>DAY_OF_WEEK_2</th>\n",
       "      <th>DAY_OF_WEEK_3</th>\n",
       "      <th>DAY_OF_WEEK_4</th>\n",
       "      <th>DAY_OF_WEEK_5</th>\n",
       "      <th>DAY_OF_WEEK_6</th>\n",
       "      <th>DAY_OF_WEEK_7</th>\n",
       "      <th>OP_CARRIER_9E</th>\n",
       "      <th>OP_CARRIER_AA</th>\n",
       "      <th>OP_CARRIER_AS</th>\n",
       "      <th>OP_CARRIER_B6</th>\n",
       "      <th>OP_CARRIER_DL</th>\n",
       "      <th>OP_CARRIER_EV</th>\n",
       "      <th>OP_CARRIER_F9</th>\n",
       "      <th>OP_CARRIER_G4</th>\n",
       "      <th>OP_CARRIER_HA</th>\n",
       "      <th>OP_CARRIER_MQ</th>\n",
       "      <th>OP_CARRIER_NK</th>\n",
       "      <th>OP_CARRIER_OH</th>\n",
       "      <th>OP_CARRIER_OO</th>\n",
       "      <th>OP_CARRIER_UA</th>\n",
       "      <th>OP_CARRIER_WN</th>\n",
       "      <th>OP_CARRIER_YV</th>\n",
       "      <th>OP_CARRIER_YX</th>\n",
       "      <th>DEP_DEL15_0.0</th>\n",
       "      <th>DEP_DEL15_1.0</th>\n",
       "      <th>DEP_TIME_BLK_0001-0559</th>\n",
       "      <th>DEP_TIME_BLK_0600-0659</th>\n",
       "      <th>DEP_TIME_BLK_0700-0759</th>\n",
       "      <th>DEP_TIME_BLK_0800-0859</th>\n",
       "      <th>DEP_TIME_BLK_0900-0959</th>\n",
       "      <th>DEP_TIME_BLK_1000-1059</th>\n",
       "      <th>DEP_TIME_BLK_1100-1159</th>\n",
       "      <th>DEP_TIME_BLK_1200-1259</th>\n",
       "      <th>DEP_TIME_BLK_1300-1359</th>\n",
       "      <th>DEP_TIME_BLK_1400-1459</th>\n",
       "      <th>DEP_TIME_BLK_1500-1559</th>\n",
       "      <th>DEP_TIME_BLK_1600-1659</th>\n",
       "      <th>DEP_TIME_BLK_1700-1759</th>\n",
       "      <th>DEP_TIME_BLK_1800-1859</th>\n",
       "      <th>DEP_TIME_BLK_1900-1959</th>\n",
       "      <th>DEP_TIME_BLK_2000-2059</th>\n",
       "      <th>DEP_TIME_BLK_2100-2159</th>\n",
       "      <th>DEP_TIME_BLK_2200-2259</th>\n",
       "      <th>DEP_TIME_BLK_2300-2359</th>\n",
       "      <th>ORIGIN_CAT_0</th>\n",
       "      <th>ORIGIN_CAT_1</th>\n",
       "      <th>ORIGIN_CAT_2</th>\n",
       "      <th>ORIGIN_CAT_3</th>\n",
       "      <th>ORIGIN_CAT_4</th>\n",
       "      <th>ORIGIN_CAT_5</th>\n",
       "      <th>ORIGIN_CAT_6</th>\n",
       "      <th>ORIGIN_CAT_7</th>\n",
       "      <th>DEST_CAT_0</th>\n",
       "      <th>DEST_CAT_1</th>\n",
       "      <th>DEST_CAT_2</th>\n",
       "      <th>DEST_CAT_3</th>\n",
       "      <th>DEST_CAT_4</th>\n",
       "      <th>DEST_CAT_5</th>\n",
       "      <th>DEST_CAT_6</th>\n",
       "      <th>DEST_CAT_7</th>\n",
       "    </tr>\n",
       "  </thead>\n",
       "  <tbody>\n",
       "    <tr>\n",
       "      <th>0</th>\n",
       "      <td>0.0</td>\n",
       "      <td>2</td>\n",
       "      <td>9E</td>\n",
       "      <td>0.250104</td>\n",
       "      <td>0.0</td>\n",
       "      <td>0600-0659</td>\n",
       "      <td>0.053120</td>\n",
       "      <td>2</td>\n",
       "      <td>2</td>\n",
       "      <td>0.0</td>\n",
       "      <td>1.0</td>\n",
       "      <td>0.0</td>\n",
       "      <td>0.0</td>\n",
       "      <td>0.0</td>\n",
       "      <td>0.0</td>\n",
       "      <td>0.0</td>\n",
       "      <td>1.0</td>\n",
       "      <td>0.0</td>\n",
       "      <td>0.0</td>\n",
       "      <td>0.0</td>\n",
       "      <td>0.0</td>\n",
       "      <td>0.0</td>\n",
       "      <td>0.0</td>\n",
       "      <td>0.0</td>\n",
       "      <td>0.0</td>\n",
       "      <td>0.0</td>\n",
       "      <td>0.0</td>\n",
       "      <td>0.0</td>\n",
       "      <td>0.0</td>\n",
       "      <td>0.0</td>\n",
       "      <td>0.0</td>\n",
       "      <td>0.0</td>\n",
       "      <td>0.0</td>\n",
       "      <td>1.0</td>\n",
       "      <td>0.0</td>\n",
       "      <td>0.0</td>\n",
       "      <td>1.0</td>\n",
       "      <td>0.0</td>\n",
       "      <td>0.0</td>\n",
       "      <td>0.0</td>\n",
       "      <td>0.0</td>\n",
       "      <td>0.0</td>\n",
       "      <td>0.0</td>\n",
       "      <td>0.0</td>\n",
       "      <td>0.0</td>\n",
       "      <td>0.0</td>\n",
       "      <td>0.0</td>\n",
       "      <td>0.0</td>\n",
       "      <td>0.0</td>\n",
       "      <td>0.0</td>\n",
       "      <td>0.0</td>\n",
       "      <td>0.0</td>\n",
       "      <td>0.0</td>\n",
       "      <td>0.0</td>\n",
       "      <td>0.0</td>\n",
       "      <td>0.0</td>\n",
       "      <td>1.0</td>\n",
       "      <td>0.0</td>\n",
       "      <td>0.0</td>\n",
       "      <td>0.0</td>\n",
       "      <td>0.0</td>\n",
       "      <td>0.0</td>\n",
       "      <td>0.0</td>\n",
       "      <td>0.0</td>\n",
       "      <td>1.0</td>\n",
       "      <td>0.0</td>\n",
       "      <td>0.0</td>\n",
       "      <td>0.0</td>\n",
       "      <td>0.0</td>\n",
       "      <td>0.0</td>\n",
       "    </tr>\n",
       "    <tr>\n",
       "      <th>1</th>\n",
       "      <td>0.0</td>\n",
       "      <td>2</td>\n",
       "      <td>9E</td>\n",
       "      <td>0.566069</td>\n",
       "      <td>0.0</td>\n",
       "      <td>1400-1459</td>\n",
       "      <td>0.111572</td>\n",
       "      <td>2</td>\n",
       "      <td>3</td>\n",
       "      <td>0.0</td>\n",
       "      <td>1.0</td>\n",
       "      <td>0.0</td>\n",
       "      <td>0.0</td>\n",
       "      <td>0.0</td>\n",
       "      <td>0.0</td>\n",
       "      <td>0.0</td>\n",
       "      <td>1.0</td>\n",
       "      <td>0.0</td>\n",
       "      <td>0.0</td>\n",
       "      <td>0.0</td>\n",
       "      <td>0.0</td>\n",
       "      <td>0.0</td>\n",
       "      <td>0.0</td>\n",
       "      <td>0.0</td>\n",
       "      <td>0.0</td>\n",
       "      <td>0.0</td>\n",
       "      <td>0.0</td>\n",
       "      <td>0.0</td>\n",
       "      <td>0.0</td>\n",
       "      <td>0.0</td>\n",
       "      <td>0.0</td>\n",
       "      <td>0.0</td>\n",
       "      <td>0.0</td>\n",
       "      <td>1.0</td>\n",
       "      <td>0.0</td>\n",
       "      <td>0.0</td>\n",
       "      <td>0.0</td>\n",
       "      <td>0.0</td>\n",
       "      <td>0.0</td>\n",
       "      <td>0.0</td>\n",
       "      <td>0.0</td>\n",
       "      <td>0.0</td>\n",
       "      <td>0.0</td>\n",
       "      <td>0.0</td>\n",
       "      <td>1.0</td>\n",
       "      <td>0.0</td>\n",
       "      <td>0.0</td>\n",
       "      <td>0.0</td>\n",
       "      <td>0.0</td>\n",
       "      <td>0.0</td>\n",
       "      <td>0.0</td>\n",
       "      <td>0.0</td>\n",
       "      <td>0.0</td>\n",
       "      <td>0.0</td>\n",
       "      <td>0.0</td>\n",
       "      <td>0.0</td>\n",
       "      <td>1.0</td>\n",
       "      <td>0.0</td>\n",
       "      <td>0.0</td>\n",
       "      <td>0.0</td>\n",
       "      <td>0.0</td>\n",
       "      <td>0.0</td>\n",
       "      <td>0.0</td>\n",
       "      <td>0.0</td>\n",
       "      <td>0.0</td>\n",
       "      <td>1.0</td>\n",
       "      <td>0.0</td>\n",
       "      <td>0.0</td>\n",
       "      <td>0.0</td>\n",
       "      <td>0.0</td>\n",
       "    </tr>\n",
       "    <tr>\n",
       "      <th>2</th>\n",
       "      <td>0.0</td>\n",
       "      <td>2</td>\n",
       "      <td>9E</td>\n",
       "      <td>0.506044</td>\n",
       "      <td>0.0</td>\n",
       "      <td>1200-1259</td>\n",
       "      <td>0.039100</td>\n",
       "      <td>2</td>\n",
       "      <td>3</td>\n",
       "      <td>0.0</td>\n",
       "      <td>1.0</td>\n",
       "      <td>0.0</td>\n",
       "      <td>0.0</td>\n",
       "      <td>0.0</td>\n",
       "      <td>0.0</td>\n",
       "      <td>0.0</td>\n",
       "      <td>1.0</td>\n",
       "      <td>0.0</td>\n",
       "      <td>0.0</td>\n",
       "      <td>0.0</td>\n",
       "      <td>0.0</td>\n",
       "      <td>0.0</td>\n",
       "      <td>0.0</td>\n",
       "      <td>0.0</td>\n",
       "      <td>0.0</td>\n",
       "      <td>0.0</td>\n",
       "      <td>0.0</td>\n",
       "      <td>0.0</td>\n",
       "      <td>0.0</td>\n",
       "      <td>0.0</td>\n",
       "      <td>0.0</td>\n",
       "      <td>0.0</td>\n",
       "      <td>0.0</td>\n",
       "      <td>1.0</td>\n",
       "      <td>0.0</td>\n",
       "      <td>0.0</td>\n",
       "      <td>0.0</td>\n",
       "      <td>0.0</td>\n",
       "      <td>0.0</td>\n",
       "      <td>0.0</td>\n",
       "      <td>0.0</td>\n",
       "      <td>0.0</td>\n",
       "      <td>1.0</td>\n",
       "      <td>0.0</td>\n",
       "      <td>0.0</td>\n",
       "      <td>0.0</td>\n",
       "      <td>0.0</td>\n",
       "      <td>0.0</td>\n",
       "      <td>0.0</td>\n",
       "      <td>0.0</td>\n",
       "      <td>0.0</td>\n",
       "      <td>0.0</td>\n",
       "      <td>0.0</td>\n",
       "      <td>0.0</td>\n",
       "      <td>0.0</td>\n",
       "      <td>0.0</td>\n",
       "      <td>1.0</td>\n",
       "      <td>0.0</td>\n",
       "      <td>0.0</td>\n",
       "      <td>0.0</td>\n",
       "      <td>0.0</td>\n",
       "      <td>0.0</td>\n",
       "      <td>0.0</td>\n",
       "      <td>0.0</td>\n",
       "      <td>0.0</td>\n",
       "      <td>1.0</td>\n",
       "      <td>0.0</td>\n",
       "      <td>0.0</td>\n",
       "      <td>0.0</td>\n",
       "      <td>0.0</td>\n",
       "    </tr>\n",
       "    <tr>\n",
       "      <th>3</th>\n",
       "      <td>0.0</td>\n",
       "      <td>2</td>\n",
       "      <td>9E</td>\n",
       "      <td>0.633597</td>\n",
       "      <td>0.0</td>\n",
       "      <td>1500-1559</td>\n",
       "      <td>0.037915</td>\n",
       "      <td>2</td>\n",
       "      <td>2</td>\n",
       "      <td>0.0</td>\n",
       "      <td>1.0</td>\n",
       "      <td>0.0</td>\n",
       "      <td>0.0</td>\n",
       "      <td>0.0</td>\n",
       "      <td>0.0</td>\n",
       "      <td>0.0</td>\n",
       "      <td>1.0</td>\n",
       "      <td>0.0</td>\n",
       "      <td>0.0</td>\n",
       "      <td>0.0</td>\n",
       "      <td>0.0</td>\n",
       "      <td>0.0</td>\n",
       "      <td>0.0</td>\n",
       "      <td>0.0</td>\n",
       "      <td>0.0</td>\n",
       "      <td>0.0</td>\n",
       "      <td>0.0</td>\n",
       "      <td>0.0</td>\n",
       "      <td>0.0</td>\n",
       "      <td>0.0</td>\n",
       "      <td>0.0</td>\n",
       "      <td>0.0</td>\n",
       "      <td>0.0</td>\n",
       "      <td>1.0</td>\n",
       "      <td>0.0</td>\n",
       "      <td>0.0</td>\n",
       "      <td>0.0</td>\n",
       "      <td>0.0</td>\n",
       "      <td>0.0</td>\n",
       "      <td>0.0</td>\n",
       "      <td>0.0</td>\n",
       "      <td>0.0</td>\n",
       "      <td>0.0</td>\n",
       "      <td>0.0</td>\n",
       "      <td>0.0</td>\n",
       "      <td>1.0</td>\n",
       "      <td>0.0</td>\n",
       "      <td>0.0</td>\n",
       "      <td>0.0</td>\n",
       "      <td>0.0</td>\n",
       "      <td>0.0</td>\n",
       "      <td>0.0</td>\n",
       "      <td>0.0</td>\n",
       "      <td>0.0</td>\n",
       "      <td>0.0</td>\n",
       "      <td>0.0</td>\n",
       "      <td>1.0</td>\n",
       "      <td>0.0</td>\n",
       "      <td>0.0</td>\n",
       "      <td>0.0</td>\n",
       "      <td>0.0</td>\n",
       "      <td>0.0</td>\n",
       "      <td>0.0</td>\n",
       "      <td>0.0</td>\n",
       "      <td>1.0</td>\n",
       "      <td>0.0</td>\n",
       "      <td>0.0</td>\n",
       "      <td>0.0</td>\n",
       "      <td>0.0</td>\n",
       "      <td>0.0</td>\n",
       "    </tr>\n",
       "    <tr>\n",
       "      <th>4</th>\n",
       "      <td>0.0</td>\n",
       "      <td>2</td>\n",
       "      <td>9E</td>\n",
       "      <td>0.769487</td>\n",
       "      <td>0.0</td>\n",
       "      <td>1900-1959</td>\n",
       "      <td>0.108215</td>\n",
       "      <td>2</td>\n",
       "      <td>2</td>\n",
       "      <td>0.0</td>\n",
       "      <td>1.0</td>\n",
       "      <td>0.0</td>\n",
       "      <td>0.0</td>\n",
       "      <td>0.0</td>\n",
       "      <td>0.0</td>\n",
       "      <td>0.0</td>\n",
       "      <td>1.0</td>\n",
       "      <td>0.0</td>\n",
       "      <td>0.0</td>\n",
       "      <td>0.0</td>\n",
       "      <td>0.0</td>\n",
       "      <td>0.0</td>\n",
       "      <td>0.0</td>\n",
       "      <td>0.0</td>\n",
       "      <td>0.0</td>\n",
       "      <td>0.0</td>\n",
       "      <td>0.0</td>\n",
       "      <td>0.0</td>\n",
       "      <td>0.0</td>\n",
       "      <td>0.0</td>\n",
       "      <td>0.0</td>\n",
       "      <td>0.0</td>\n",
       "      <td>0.0</td>\n",
       "      <td>1.0</td>\n",
       "      <td>0.0</td>\n",
       "      <td>0.0</td>\n",
       "      <td>0.0</td>\n",
       "      <td>0.0</td>\n",
       "      <td>0.0</td>\n",
       "      <td>0.0</td>\n",
       "      <td>0.0</td>\n",
       "      <td>0.0</td>\n",
       "      <td>0.0</td>\n",
       "      <td>0.0</td>\n",
       "      <td>0.0</td>\n",
       "      <td>0.0</td>\n",
       "      <td>0.0</td>\n",
       "      <td>0.0</td>\n",
       "      <td>0.0</td>\n",
       "      <td>1.0</td>\n",
       "      <td>0.0</td>\n",
       "      <td>0.0</td>\n",
       "      <td>0.0</td>\n",
       "      <td>0.0</td>\n",
       "      <td>0.0</td>\n",
       "      <td>0.0</td>\n",
       "      <td>1.0</td>\n",
       "      <td>0.0</td>\n",
       "      <td>0.0</td>\n",
       "      <td>0.0</td>\n",
       "      <td>0.0</td>\n",
       "      <td>0.0</td>\n",
       "      <td>0.0</td>\n",
       "      <td>0.0</td>\n",
       "      <td>1.0</td>\n",
       "      <td>0.0</td>\n",
       "      <td>0.0</td>\n",
       "      <td>0.0</td>\n",
       "      <td>0.0</td>\n",
       "      <td>0.0</td>\n",
       "    </tr>\n",
       "    <tr>\n",
       "      <th>...</th>\n",
       "      <td>...</td>\n",
       "      <td>...</td>\n",
       "      <td>...</td>\n",
       "      <td>...</td>\n",
       "      <td>...</td>\n",
       "      <td>...</td>\n",
       "      <td>...</td>\n",
       "      <td>...</td>\n",
       "      <td>...</td>\n",
       "      <td>...</td>\n",
       "      <td>...</td>\n",
       "      <td>...</td>\n",
       "      <td>...</td>\n",
       "      <td>...</td>\n",
       "      <td>...</td>\n",
       "      <td>...</td>\n",
       "      <td>...</td>\n",
       "      <td>...</td>\n",
       "      <td>...</td>\n",
       "      <td>...</td>\n",
       "      <td>...</td>\n",
       "      <td>...</td>\n",
       "      <td>...</td>\n",
       "      <td>...</td>\n",
       "      <td>...</td>\n",
       "      <td>...</td>\n",
       "      <td>...</td>\n",
       "      <td>...</td>\n",
       "      <td>...</td>\n",
       "      <td>...</td>\n",
       "      <td>...</td>\n",
       "      <td>...</td>\n",
       "      <td>...</td>\n",
       "      <td>...</td>\n",
       "      <td>...</td>\n",
       "      <td>...</td>\n",
       "      <td>...</td>\n",
       "      <td>...</td>\n",
       "      <td>...</td>\n",
       "      <td>...</td>\n",
       "      <td>...</td>\n",
       "      <td>...</td>\n",
       "      <td>...</td>\n",
       "      <td>...</td>\n",
       "      <td>...</td>\n",
       "      <td>...</td>\n",
       "      <td>...</td>\n",
       "      <td>...</td>\n",
       "      <td>...</td>\n",
       "      <td>...</td>\n",
       "      <td>...</td>\n",
       "      <td>...</td>\n",
       "      <td>...</td>\n",
       "      <td>...</td>\n",
       "      <td>...</td>\n",
       "      <td>...</td>\n",
       "      <td>...</td>\n",
       "      <td>...</td>\n",
       "      <td>...</td>\n",
       "      <td>...</td>\n",
       "      <td>...</td>\n",
       "      <td>...</td>\n",
       "      <td>...</td>\n",
       "      <td>...</td>\n",
       "      <td>...</td>\n",
       "      <td>...</td>\n",
       "      <td>...</td>\n",
       "      <td>...</td>\n",
       "      <td>...</td>\n",
       "      <td>...</td>\n",
       "    </tr>\n",
       "    <tr>\n",
       "      <th>717944</th>\n",
       "      <td>0.2</td>\n",
       "      <td>2</td>\n",
       "      <td>9E</td>\n",
       "      <td>0.803251</td>\n",
       "      <td>1.0</td>\n",
       "      <td>1700-1759</td>\n",
       "      <td>0.052330</td>\n",
       "      <td>4</td>\n",
       "      <td>3</td>\n",
       "      <td>0.0</td>\n",
       "      <td>1.0</td>\n",
       "      <td>0.0</td>\n",
       "      <td>0.0</td>\n",
       "      <td>0.0</td>\n",
       "      <td>0.0</td>\n",
       "      <td>0.0</td>\n",
       "      <td>1.0</td>\n",
       "      <td>0.0</td>\n",
       "      <td>0.0</td>\n",
       "      <td>0.0</td>\n",
       "      <td>0.0</td>\n",
       "      <td>0.0</td>\n",
       "      <td>0.0</td>\n",
       "      <td>0.0</td>\n",
       "      <td>0.0</td>\n",
       "      <td>0.0</td>\n",
       "      <td>0.0</td>\n",
       "      <td>0.0</td>\n",
       "      <td>0.0</td>\n",
       "      <td>0.0</td>\n",
       "      <td>0.0</td>\n",
       "      <td>0.0</td>\n",
       "      <td>0.0</td>\n",
       "      <td>0.0</td>\n",
       "      <td>1.0</td>\n",
       "      <td>0.0</td>\n",
       "      <td>0.0</td>\n",
       "      <td>0.0</td>\n",
       "      <td>0.0</td>\n",
       "      <td>0.0</td>\n",
       "      <td>0.0</td>\n",
       "      <td>0.0</td>\n",
       "      <td>0.0</td>\n",
       "      <td>0.0</td>\n",
       "      <td>0.0</td>\n",
       "      <td>0.0</td>\n",
       "      <td>0.0</td>\n",
       "      <td>1.0</td>\n",
       "      <td>0.0</td>\n",
       "      <td>0.0</td>\n",
       "      <td>0.0</td>\n",
       "      <td>0.0</td>\n",
       "      <td>0.0</td>\n",
       "      <td>0.0</td>\n",
       "      <td>0.0</td>\n",
       "      <td>0.0</td>\n",
       "      <td>0.0</td>\n",
       "      <td>0.0</td>\n",
       "      <td>1.0</td>\n",
       "      <td>0.0</td>\n",
       "      <td>0.0</td>\n",
       "      <td>0.0</td>\n",
       "      <td>0.0</td>\n",
       "      <td>0.0</td>\n",
       "      <td>0.0</td>\n",
       "      <td>1.0</td>\n",
       "      <td>0.0</td>\n",
       "      <td>0.0</td>\n",
       "      <td>0.0</td>\n",
       "      <td>0.0</td>\n",
       "    </tr>\n",
       "    <tr>\n",
       "      <th>717945</th>\n",
       "      <td>0.2</td>\n",
       "      <td>2</td>\n",
       "      <td>9E</td>\n",
       "      <td>0.875365</td>\n",
       "      <td>1.0</td>\n",
       "      <td>1900-1959</td>\n",
       "      <td>0.052330</td>\n",
       "      <td>3</td>\n",
       "      <td>5</td>\n",
       "      <td>0.0</td>\n",
       "      <td>1.0</td>\n",
       "      <td>0.0</td>\n",
       "      <td>0.0</td>\n",
       "      <td>0.0</td>\n",
       "      <td>0.0</td>\n",
       "      <td>0.0</td>\n",
       "      <td>1.0</td>\n",
       "      <td>0.0</td>\n",
       "      <td>0.0</td>\n",
       "      <td>0.0</td>\n",
       "      <td>0.0</td>\n",
       "      <td>0.0</td>\n",
       "      <td>0.0</td>\n",
       "      <td>0.0</td>\n",
       "      <td>0.0</td>\n",
       "      <td>0.0</td>\n",
       "      <td>0.0</td>\n",
       "      <td>0.0</td>\n",
       "      <td>0.0</td>\n",
       "      <td>0.0</td>\n",
       "      <td>0.0</td>\n",
       "      <td>0.0</td>\n",
       "      <td>0.0</td>\n",
       "      <td>0.0</td>\n",
       "      <td>1.0</td>\n",
       "      <td>0.0</td>\n",
       "      <td>0.0</td>\n",
       "      <td>0.0</td>\n",
       "      <td>0.0</td>\n",
       "      <td>0.0</td>\n",
       "      <td>0.0</td>\n",
       "      <td>0.0</td>\n",
       "      <td>0.0</td>\n",
       "      <td>0.0</td>\n",
       "      <td>0.0</td>\n",
       "      <td>0.0</td>\n",
       "      <td>0.0</td>\n",
       "      <td>0.0</td>\n",
       "      <td>0.0</td>\n",
       "      <td>1.0</td>\n",
       "      <td>0.0</td>\n",
       "      <td>0.0</td>\n",
       "      <td>0.0</td>\n",
       "      <td>0.0</td>\n",
       "      <td>0.0</td>\n",
       "      <td>0.0</td>\n",
       "      <td>0.0</td>\n",
       "      <td>1.0</td>\n",
       "      <td>0.0</td>\n",
       "      <td>0.0</td>\n",
       "      <td>0.0</td>\n",
       "      <td>0.0</td>\n",
       "      <td>0.0</td>\n",
       "      <td>0.0</td>\n",
       "      <td>0.0</td>\n",
       "      <td>0.0</td>\n",
       "      <td>0.0</td>\n",
       "      <td>1.0</td>\n",
       "      <td>0.0</td>\n",
       "      <td>0.0</td>\n",
       "    </tr>\n",
       "    <tr>\n",
       "      <th>717946</th>\n",
       "      <td>0.2</td>\n",
       "      <td>2</td>\n",
       "      <td>9E</td>\n",
       "      <td>0.718633</td>\n",
       "      <td>0.0</td>\n",
       "      <td>1700-1759</td>\n",
       "      <td>0.142378</td>\n",
       "      <td>3</td>\n",
       "      <td>3</td>\n",
       "      <td>0.0</td>\n",
       "      <td>1.0</td>\n",
       "      <td>0.0</td>\n",
       "      <td>0.0</td>\n",
       "      <td>0.0</td>\n",
       "      <td>0.0</td>\n",
       "      <td>0.0</td>\n",
       "      <td>1.0</td>\n",
       "      <td>0.0</td>\n",
       "      <td>0.0</td>\n",
       "      <td>0.0</td>\n",
       "      <td>0.0</td>\n",
       "      <td>0.0</td>\n",
       "      <td>0.0</td>\n",
       "      <td>0.0</td>\n",
       "      <td>0.0</td>\n",
       "      <td>0.0</td>\n",
       "      <td>0.0</td>\n",
       "      <td>0.0</td>\n",
       "      <td>0.0</td>\n",
       "      <td>0.0</td>\n",
       "      <td>0.0</td>\n",
       "      <td>0.0</td>\n",
       "      <td>0.0</td>\n",
       "      <td>1.0</td>\n",
       "      <td>0.0</td>\n",
       "      <td>0.0</td>\n",
       "      <td>0.0</td>\n",
       "      <td>0.0</td>\n",
       "      <td>0.0</td>\n",
       "      <td>0.0</td>\n",
       "      <td>0.0</td>\n",
       "      <td>0.0</td>\n",
       "      <td>0.0</td>\n",
       "      <td>0.0</td>\n",
       "      <td>0.0</td>\n",
       "      <td>0.0</td>\n",
       "      <td>0.0</td>\n",
       "      <td>1.0</td>\n",
       "      <td>0.0</td>\n",
       "      <td>0.0</td>\n",
       "      <td>0.0</td>\n",
       "      <td>0.0</td>\n",
       "      <td>0.0</td>\n",
       "      <td>0.0</td>\n",
       "      <td>0.0</td>\n",
       "      <td>0.0</td>\n",
       "      <td>0.0</td>\n",
       "      <td>1.0</td>\n",
       "      <td>0.0</td>\n",
       "      <td>0.0</td>\n",
       "      <td>0.0</td>\n",
       "      <td>0.0</td>\n",
       "      <td>0.0</td>\n",
       "      <td>0.0</td>\n",
       "      <td>0.0</td>\n",
       "      <td>1.0</td>\n",
       "      <td>0.0</td>\n",
       "      <td>0.0</td>\n",
       "      <td>0.0</td>\n",
       "      <td>0.0</td>\n",
       "    </tr>\n",
       "    <tr>\n",
       "      <th>717947</th>\n",
       "      <td>0.2</td>\n",
       "      <td>2</td>\n",
       "      <td>9E</td>\n",
       "      <td>0.510213</td>\n",
       "      <td>1.0</td>\n",
       "      <td>1100-1159</td>\n",
       "      <td>0.054107</td>\n",
       "      <td>3</td>\n",
       "      <td>5</td>\n",
       "      <td>0.0</td>\n",
       "      <td>1.0</td>\n",
       "      <td>0.0</td>\n",
       "      <td>0.0</td>\n",
       "      <td>0.0</td>\n",
       "      <td>0.0</td>\n",
       "      <td>0.0</td>\n",
       "      <td>1.0</td>\n",
       "      <td>0.0</td>\n",
       "      <td>0.0</td>\n",
       "      <td>0.0</td>\n",
       "      <td>0.0</td>\n",
       "      <td>0.0</td>\n",
       "      <td>0.0</td>\n",
       "      <td>0.0</td>\n",
       "      <td>0.0</td>\n",
       "      <td>0.0</td>\n",
       "      <td>0.0</td>\n",
       "      <td>0.0</td>\n",
       "      <td>0.0</td>\n",
       "      <td>0.0</td>\n",
       "      <td>0.0</td>\n",
       "      <td>0.0</td>\n",
       "      <td>0.0</td>\n",
       "      <td>0.0</td>\n",
       "      <td>1.0</td>\n",
       "      <td>0.0</td>\n",
       "      <td>0.0</td>\n",
       "      <td>0.0</td>\n",
       "      <td>0.0</td>\n",
       "      <td>0.0</td>\n",
       "      <td>0.0</td>\n",
       "      <td>1.0</td>\n",
       "      <td>0.0</td>\n",
       "      <td>0.0</td>\n",
       "      <td>0.0</td>\n",
       "      <td>0.0</td>\n",
       "      <td>0.0</td>\n",
       "      <td>0.0</td>\n",
       "      <td>0.0</td>\n",
       "      <td>0.0</td>\n",
       "      <td>0.0</td>\n",
       "      <td>0.0</td>\n",
       "      <td>0.0</td>\n",
       "      <td>0.0</td>\n",
       "      <td>0.0</td>\n",
       "      <td>0.0</td>\n",
       "      <td>0.0</td>\n",
       "      <td>1.0</td>\n",
       "      <td>0.0</td>\n",
       "      <td>0.0</td>\n",
       "      <td>0.0</td>\n",
       "      <td>0.0</td>\n",
       "      <td>0.0</td>\n",
       "      <td>0.0</td>\n",
       "      <td>0.0</td>\n",
       "      <td>0.0</td>\n",
       "      <td>0.0</td>\n",
       "      <td>1.0</td>\n",
       "      <td>0.0</td>\n",
       "      <td>0.0</td>\n",
       "    </tr>\n",
       "    <tr>\n",
       "      <th>717948</th>\n",
       "      <td>0.2</td>\n",
       "      <td>2</td>\n",
       "      <td>9E</td>\n",
       "      <td>0.878283</td>\n",
       "      <td>0.0</td>\n",
       "      <td>2100-2159</td>\n",
       "      <td>0.094194</td>\n",
       "      <td>2</td>\n",
       "      <td>3</td>\n",
       "      <td>0.0</td>\n",
       "      <td>1.0</td>\n",
       "      <td>0.0</td>\n",
       "      <td>0.0</td>\n",
       "      <td>0.0</td>\n",
       "      <td>0.0</td>\n",
       "      <td>0.0</td>\n",
       "      <td>1.0</td>\n",
       "      <td>0.0</td>\n",
       "      <td>0.0</td>\n",
       "      <td>0.0</td>\n",
       "      <td>0.0</td>\n",
       "      <td>0.0</td>\n",
       "      <td>0.0</td>\n",
       "      <td>0.0</td>\n",
       "      <td>0.0</td>\n",
       "      <td>0.0</td>\n",
       "      <td>0.0</td>\n",
       "      <td>0.0</td>\n",
       "      <td>0.0</td>\n",
       "      <td>0.0</td>\n",
       "      <td>0.0</td>\n",
       "      <td>0.0</td>\n",
       "      <td>0.0</td>\n",
       "      <td>1.0</td>\n",
       "      <td>0.0</td>\n",
       "      <td>0.0</td>\n",
       "      <td>0.0</td>\n",
       "      <td>0.0</td>\n",
       "      <td>0.0</td>\n",
       "      <td>0.0</td>\n",
       "      <td>0.0</td>\n",
       "      <td>0.0</td>\n",
       "      <td>0.0</td>\n",
       "      <td>0.0</td>\n",
       "      <td>0.0</td>\n",
       "      <td>0.0</td>\n",
       "      <td>0.0</td>\n",
       "      <td>0.0</td>\n",
       "      <td>0.0</td>\n",
       "      <td>0.0</td>\n",
       "      <td>0.0</td>\n",
       "      <td>1.0</td>\n",
       "      <td>0.0</td>\n",
       "      <td>0.0</td>\n",
       "      <td>0.0</td>\n",
       "      <td>0.0</td>\n",
       "      <td>1.0</td>\n",
       "      <td>0.0</td>\n",
       "      <td>0.0</td>\n",
       "      <td>0.0</td>\n",
       "      <td>0.0</td>\n",
       "      <td>0.0</td>\n",
       "      <td>0.0</td>\n",
       "      <td>0.0</td>\n",
       "      <td>0.0</td>\n",
       "      <td>1.0</td>\n",
       "      <td>0.0</td>\n",
       "      <td>0.0</td>\n",
       "      <td>0.0</td>\n",
       "      <td>0.0</td>\n",
       "    </tr>\n",
       "  </tbody>\n",
       "</table>\n",
       "<p>699138 rows × 70 columns</p>\n",
       "</div>"
      ],
      "text/plain": [
       "        DAY_OF_MONTH  DAY_OF_WEEK OP_CARRIER  DEP_TIME  DEP_DEL15  \\\n",
       "0                0.0            2         9E  0.250104        0.0   \n",
       "1                0.0            2         9E  0.566069        0.0   \n",
       "2                0.0            2         9E  0.506044        0.0   \n",
       "3                0.0            2         9E  0.633597        0.0   \n",
       "4                0.0            2         9E  0.769487        0.0   \n",
       "...              ...          ...        ...       ...        ...   \n",
       "717944           0.2            2         9E  0.803251        1.0   \n",
       "717945           0.2            2         9E  0.875365        1.0   \n",
       "717946           0.2            2         9E  0.718633        0.0   \n",
       "717947           0.2            2         9E  0.510213        1.0   \n",
       "717948           0.2            2         9E  0.878283        0.0   \n",
       "\n",
       "       DEP_TIME_BLK  DISTANCE  ORIGIN_CAT  DEST_CAT  DAY_OF_WEEK_1  \\\n",
       "0         0600-0659  0.053120           2         2            0.0   \n",
       "1         1400-1459  0.111572           2         3            0.0   \n",
       "2         1200-1259  0.039100           2         3            0.0   \n",
       "3         1500-1559  0.037915           2         2            0.0   \n",
       "4         1900-1959  0.108215           2         2            0.0   \n",
       "...             ...       ...         ...       ...            ...   \n",
       "717944    1700-1759  0.052330           4         3            0.0   \n",
       "717945    1900-1959  0.052330           3         5            0.0   \n",
       "717946    1700-1759  0.142378           3         3            0.0   \n",
       "717947    1100-1159  0.054107           3         5            0.0   \n",
       "717948    2100-2159  0.094194           2         3            0.0   \n",
       "\n",
       "        DAY_OF_WEEK_2  DAY_OF_WEEK_3  DAY_OF_WEEK_4  DAY_OF_WEEK_5  \\\n",
       "0                 1.0            0.0            0.0            0.0   \n",
       "1                 1.0            0.0            0.0            0.0   \n",
       "2                 1.0            0.0            0.0            0.0   \n",
       "3                 1.0            0.0            0.0            0.0   \n",
       "4                 1.0            0.0            0.0            0.0   \n",
       "...               ...            ...            ...            ...   \n",
       "717944            1.0            0.0            0.0            0.0   \n",
       "717945            1.0            0.0            0.0            0.0   \n",
       "717946            1.0            0.0            0.0            0.0   \n",
       "717947            1.0            0.0            0.0            0.0   \n",
       "717948            1.0            0.0            0.0            0.0   \n",
       "\n",
       "        DAY_OF_WEEK_6  DAY_OF_WEEK_7  OP_CARRIER_9E  OP_CARRIER_AA  \\\n",
       "0                 0.0            0.0            1.0            0.0   \n",
       "1                 0.0            0.0            1.0            0.0   \n",
       "2                 0.0            0.0            1.0            0.0   \n",
       "3                 0.0            0.0            1.0            0.0   \n",
       "4                 0.0            0.0            1.0            0.0   \n",
       "...               ...            ...            ...            ...   \n",
       "717944            0.0            0.0            1.0            0.0   \n",
       "717945            0.0            0.0            1.0            0.0   \n",
       "717946            0.0            0.0            1.0            0.0   \n",
       "717947            0.0            0.0            1.0            0.0   \n",
       "717948            0.0            0.0            1.0            0.0   \n",
       "\n",
       "        OP_CARRIER_AS  OP_CARRIER_B6  OP_CARRIER_DL  OP_CARRIER_EV  \\\n",
       "0                 0.0            0.0            0.0            0.0   \n",
       "1                 0.0            0.0            0.0            0.0   \n",
       "2                 0.0            0.0            0.0            0.0   \n",
       "3                 0.0            0.0            0.0            0.0   \n",
       "4                 0.0            0.0            0.0            0.0   \n",
       "...               ...            ...            ...            ...   \n",
       "717944            0.0            0.0            0.0            0.0   \n",
       "717945            0.0            0.0            0.0            0.0   \n",
       "717946            0.0            0.0            0.0            0.0   \n",
       "717947            0.0            0.0            0.0            0.0   \n",
       "717948            0.0            0.0            0.0            0.0   \n",
       "\n",
       "        OP_CARRIER_F9  OP_CARRIER_G4  OP_CARRIER_HA  OP_CARRIER_MQ  \\\n",
       "0                 0.0            0.0            0.0            0.0   \n",
       "1                 0.0            0.0            0.0            0.0   \n",
       "2                 0.0            0.0            0.0            0.0   \n",
       "3                 0.0            0.0            0.0            0.0   \n",
       "4                 0.0            0.0            0.0            0.0   \n",
       "...               ...            ...            ...            ...   \n",
       "717944            0.0            0.0            0.0            0.0   \n",
       "717945            0.0            0.0            0.0            0.0   \n",
       "717946            0.0            0.0            0.0            0.0   \n",
       "717947            0.0            0.0            0.0            0.0   \n",
       "717948            0.0            0.0            0.0            0.0   \n",
       "\n",
       "        OP_CARRIER_NK  OP_CARRIER_OH  OP_CARRIER_OO  OP_CARRIER_UA  \\\n",
       "0                 0.0            0.0            0.0            0.0   \n",
       "1                 0.0            0.0            0.0            0.0   \n",
       "2                 0.0            0.0            0.0            0.0   \n",
       "3                 0.0            0.0            0.0            0.0   \n",
       "4                 0.0            0.0            0.0            0.0   \n",
       "...               ...            ...            ...            ...   \n",
       "717944            0.0            0.0            0.0            0.0   \n",
       "717945            0.0            0.0            0.0            0.0   \n",
       "717946            0.0            0.0            0.0            0.0   \n",
       "717947            0.0            0.0            0.0            0.0   \n",
       "717948            0.0            0.0            0.0            0.0   \n",
       "\n",
       "        OP_CARRIER_WN  OP_CARRIER_YV  OP_CARRIER_YX  DEP_DEL15_0.0  \\\n",
       "0                 0.0            0.0            0.0            1.0   \n",
       "1                 0.0            0.0            0.0            1.0   \n",
       "2                 0.0            0.0            0.0            1.0   \n",
       "3                 0.0            0.0            0.0            1.0   \n",
       "4                 0.0            0.0            0.0            1.0   \n",
       "...               ...            ...            ...            ...   \n",
       "717944            0.0            0.0            0.0            0.0   \n",
       "717945            0.0            0.0            0.0            0.0   \n",
       "717946            0.0            0.0            0.0            1.0   \n",
       "717947            0.0            0.0            0.0            0.0   \n",
       "717948            0.0            0.0            0.0            1.0   \n",
       "\n",
       "        DEP_DEL15_1.0  DEP_TIME_BLK_0001-0559  DEP_TIME_BLK_0600-0659  \\\n",
       "0                 0.0                     0.0                     1.0   \n",
       "1                 0.0                     0.0                     0.0   \n",
       "2                 0.0                     0.0                     0.0   \n",
       "3                 0.0                     0.0                     0.0   \n",
       "4                 0.0                     0.0                     0.0   \n",
       "...               ...                     ...                     ...   \n",
       "717944            1.0                     0.0                     0.0   \n",
       "717945            1.0                     0.0                     0.0   \n",
       "717946            0.0                     0.0                     0.0   \n",
       "717947            1.0                     0.0                     0.0   \n",
       "717948            0.0                     0.0                     0.0   \n",
       "\n",
       "        DEP_TIME_BLK_0700-0759  DEP_TIME_BLK_0800-0859  \\\n",
       "0                          0.0                     0.0   \n",
       "1                          0.0                     0.0   \n",
       "2                          0.0                     0.0   \n",
       "3                          0.0                     0.0   \n",
       "4                          0.0                     0.0   \n",
       "...                        ...                     ...   \n",
       "717944                     0.0                     0.0   \n",
       "717945                     0.0                     0.0   \n",
       "717946                     0.0                     0.0   \n",
       "717947                     0.0                     0.0   \n",
       "717948                     0.0                     0.0   \n",
       "\n",
       "        DEP_TIME_BLK_0900-0959  DEP_TIME_BLK_1000-1059  \\\n",
       "0                          0.0                     0.0   \n",
       "1                          0.0                     0.0   \n",
       "2                          0.0                     0.0   \n",
       "3                          0.0                     0.0   \n",
       "4                          0.0                     0.0   \n",
       "...                        ...                     ...   \n",
       "717944                     0.0                     0.0   \n",
       "717945                     0.0                     0.0   \n",
       "717946                     0.0                     0.0   \n",
       "717947                     0.0                     0.0   \n",
       "717948                     0.0                     0.0   \n",
       "\n",
       "        DEP_TIME_BLK_1100-1159  DEP_TIME_BLK_1200-1259  \\\n",
       "0                          0.0                     0.0   \n",
       "1                          0.0                     0.0   \n",
       "2                          0.0                     1.0   \n",
       "3                          0.0                     0.0   \n",
       "4                          0.0                     0.0   \n",
       "...                        ...                     ...   \n",
       "717944                     0.0                     0.0   \n",
       "717945                     0.0                     0.0   \n",
       "717946                     0.0                     0.0   \n",
       "717947                     1.0                     0.0   \n",
       "717948                     0.0                     0.0   \n",
       "\n",
       "        DEP_TIME_BLK_1300-1359  DEP_TIME_BLK_1400-1459  \\\n",
       "0                          0.0                     0.0   \n",
       "1                          0.0                     1.0   \n",
       "2                          0.0                     0.0   \n",
       "3                          0.0                     0.0   \n",
       "4                          0.0                     0.0   \n",
       "...                        ...                     ...   \n",
       "717944                     0.0                     0.0   \n",
       "717945                     0.0                     0.0   \n",
       "717946                     0.0                     0.0   \n",
       "717947                     0.0                     0.0   \n",
       "717948                     0.0                     0.0   \n",
       "\n",
       "        DEP_TIME_BLK_1500-1559  DEP_TIME_BLK_1600-1659  \\\n",
       "0                          0.0                     0.0   \n",
       "1                          0.0                     0.0   \n",
       "2                          0.0                     0.0   \n",
       "3                          1.0                     0.0   \n",
       "4                          0.0                     0.0   \n",
       "...                        ...                     ...   \n",
       "717944                     0.0                     0.0   \n",
       "717945                     0.0                     0.0   \n",
       "717946                     0.0                     0.0   \n",
       "717947                     0.0                     0.0   \n",
       "717948                     0.0                     0.0   \n",
       "\n",
       "        DEP_TIME_BLK_1700-1759  DEP_TIME_BLK_1800-1859  \\\n",
       "0                          0.0                     0.0   \n",
       "1                          0.0                     0.0   \n",
       "2                          0.0                     0.0   \n",
       "3                          0.0                     0.0   \n",
       "4                          0.0                     0.0   \n",
       "...                        ...                     ...   \n",
       "717944                     1.0                     0.0   \n",
       "717945                     0.0                     0.0   \n",
       "717946                     1.0                     0.0   \n",
       "717947                     0.0                     0.0   \n",
       "717948                     0.0                     0.0   \n",
       "\n",
       "        DEP_TIME_BLK_1900-1959  DEP_TIME_BLK_2000-2059  \\\n",
       "0                          0.0                     0.0   \n",
       "1                          0.0                     0.0   \n",
       "2                          0.0                     0.0   \n",
       "3                          0.0                     0.0   \n",
       "4                          1.0                     0.0   \n",
       "...                        ...                     ...   \n",
       "717944                     0.0                     0.0   \n",
       "717945                     1.0                     0.0   \n",
       "717946                     0.0                     0.0   \n",
       "717947                     0.0                     0.0   \n",
       "717948                     0.0                     0.0   \n",
       "\n",
       "        DEP_TIME_BLK_2100-2159  DEP_TIME_BLK_2200-2259  \\\n",
       "0                          0.0                     0.0   \n",
       "1                          0.0                     0.0   \n",
       "2                          0.0                     0.0   \n",
       "3                          0.0                     0.0   \n",
       "4                          0.0                     0.0   \n",
       "...                        ...                     ...   \n",
       "717944                     0.0                     0.0   \n",
       "717945                     0.0                     0.0   \n",
       "717946                     0.0                     0.0   \n",
       "717947                     0.0                     0.0   \n",
       "717948                     1.0                     0.0   \n",
       "\n",
       "        DEP_TIME_BLK_2300-2359  ORIGIN_CAT_0  ORIGIN_CAT_1  ORIGIN_CAT_2  \\\n",
       "0                          0.0           0.0           0.0           1.0   \n",
       "1                          0.0           0.0           0.0           1.0   \n",
       "2                          0.0           0.0           0.0           1.0   \n",
       "3                          0.0           0.0           0.0           1.0   \n",
       "4                          0.0           0.0           0.0           1.0   \n",
       "...                        ...           ...           ...           ...   \n",
       "717944                     0.0           0.0           0.0           0.0   \n",
       "717945                     0.0           0.0           0.0           0.0   \n",
       "717946                     0.0           0.0           0.0           0.0   \n",
       "717947                     0.0           0.0           0.0           0.0   \n",
       "717948                     0.0           0.0           0.0           1.0   \n",
       "\n",
       "        ORIGIN_CAT_3  ORIGIN_CAT_4  ORIGIN_CAT_5  ORIGIN_CAT_6  ORIGIN_CAT_7  \\\n",
       "0                0.0           0.0           0.0           0.0           0.0   \n",
       "1                0.0           0.0           0.0           0.0           0.0   \n",
       "2                0.0           0.0           0.0           0.0           0.0   \n",
       "3                0.0           0.0           0.0           0.0           0.0   \n",
       "4                0.0           0.0           0.0           0.0           0.0   \n",
       "...              ...           ...           ...           ...           ...   \n",
       "717944           0.0           1.0           0.0           0.0           0.0   \n",
       "717945           1.0           0.0           0.0           0.0           0.0   \n",
       "717946           1.0           0.0           0.0           0.0           0.0   \n",
       "717947           1.0           0.0           0.0           0.0           0.0   \n",
       "717948           0.0           0.0           0.0           0.0           0.0   \n",
       "\n",
       "        DEST_CAT_0  DEST_CAT_1  DEST_CAT_2  DEST_CAT_3  DEST_CAT_4  \\\n",
       "0              0.0         0.0         1.0         0.0         0.0   \n",
       "1              0.0         0.0         0.0         1.0         0.0   \n",
       "2              0.0         0.0         0.0         1.0         0.0   \n",
       "3              0.0         0.0         1.0         0.0         0.0   \n",
       "4              0.0         0.0         1.0         0.0         0.0   \n",
       "...            ...         ...         ...         ...         ...   \n",
       "717944         0.0         0.0         0.0         1.0         0.0   \n",
       "717945         0.0         0.0         0.0         0.0         0.0   \n",
       "717946         0.0         0.0         0.0         1.0         0.0   \n",
       "717947         0.0         0.0         0.0         0.0         0.0   \n",
       "717948         0.0         0.0         0.0         1.0         0.0   \n",
       "\n",
       "        DEST_CAT_5  DEST_CAT_6  DEST_CAT_7  \n",
       "0              0.0         0.0         0.0  \n",
       "1              0.0         0.0         0.0  \n",
       "2              0.0         0.0         0.0  \n",
       "3              0.0         0.0         0.0  \n",
       "4              0.0         0.0         0.0  \n",
       "...            ...         ...         ...  \n",
       "717944         0.0         0.0         0.0  \n",
       "717945         1.0         0.0         0.0  \n",
       "717946         0.0         0.0         0.0  \n",
       "717947         1.0         0.0         0.0  \n",
       "717948         0.0         0.0         0.0  \n",
       "\n",
       "[699138 rows x 70 columns]"
      ]
     },
     "execution_count": 87,
     "metadata": {},
     "output_type": "execute_result"
    }
   ],
   "source": [
    "train_inputs"
   ]
  },
  {
   "cell_type": "code",
   "execution_count": 88,
   "id": "65e67349",
   "metadata": {},
   "outputs": [
    {
     "data": {
      "application/javascript": [
       "window.require && require([\"base/js/namespace\"],function(Jupyter){Jupyter.notebook.save_checkpoint()})"
      ],
      "text/plain": [
       "<IPython.core.display.Javascript object>"
      ]
     },
     "metadata": {},
     "output_type": "display_data"
    },
    {
     "name": "stdout",
     "output_type": "stream",
     "text": [
      "[jovian] Updating notebook \"choudhuryritu12/flight-delay-detection\" on https://jovian.com/\u001b[0m\n",
      "[jovian] Committed successfully! https://jovian.com/choudhuryritu12/flight-delay-detection\u001b[0m\n"
     ]
    },
    {
     "data": {
      "text/plain": [
       "'https://jovian.com/choudhuryritu12/flight-delay-detection'"
      ]
     },
     "execution_count": 88,
     "metadata": {},
     "output_type": "execute_result"
    }
   ],
   "source": [
    "jovian.commit()"
   ]
  },
  {
   "cell_type": "code",
   "execution_count": 89,
   "id": "b8cb7121",
   "metadata": {},
   "outputs": [],
   "source": [
    "X_train = train_inputs[numeric_cols + encoded_cols]\n",
    "X_val = val_inputs[numeric_cols + encoded_cols]\n",
    "X_test = test_inputs[numeric_cols + encoded_cols]"
   ]
  },
  {
   "cell_type": "markdown",
   "id": "4c19a450",
   "metadata": {},
   "source": [
    "## Models for Prediction"
   ]
  },
  {
   "cell_type": "code",
   "execution_count": 90,
   "id": "4b54b8cb",
   "metadata": {},
   "outputs": [],
   "source": [
    "from sklearn.metrics import accuracy_score, classification_report, confusion_matrix, roc_auc_score"
   ]
  },
  {
   "cell_type": "markdown",
   "id": "7122fbd4",
   "metadata": {},
   "source": [
    "Here we will asses performance of models by accuracy_score (how accurate is the model in predicting classes correctly against its labels) and roc_auc_score (which is the are under Receiver Operating Characteristic Curve (ROC AUC) from prediction scores). This roc_auc_score measures separability of classes, that is how well the model is distinguishing classes. A maximum value for this score of 1 indicates model is perfectly distinguishing classes and a min 0 indicates model is worst. For datasets like the current one with different proportion of positive and negative classes, this metric is a very good estimate of models. our aim will be to maximize both accuracy_score and roc_auc_score."
   ]
  },
  {
   "cell_type": "code",
   "execution_count": 91,
   "id": "8a190f94",
   "metadata": {},
   "outputs": [],
   "source": [
    "# function to check performance of a model\n",
    "def model_performance(model, X_train, y_train, X_val, y_val):\n",
    "  model.fit(X_train, y_train)\n",
    "  train_preds = model.predict(X_train)\n",
    "  val_preds = model.predict(X_val)\n",
    "  train_accuracy = accuracy_score(y_train, train_preds)\n",
    "  val_accuracy = accuracy_score(y_val, val_preds)\n",
    "  print('Train set accuracy: {:.2f}%'.format(train_accuracy*100))\n",
    "  print('Validation set Accuracy: {:.2f}%'.format(val_accuracy* 100))\n",
    "  print('Validation Classification report: \\n', classification_report(y_val, val_preds))\n",
    "  print('roc auc score: {:.2f}'.format(roc_auc_score(y_val, val_preds)))\n",
    "  conf_matrix =  confusion_matrix(y_val, val_preds, normalize = 'true')\n",
    "  plt.figure()\n",
    "  plt.title('Validation Confusion Matrix')\n",
    "  sns.heatmap(conf_matrix, annot = True)"
   ]
  },
  {
   "cell_type": "markdown",
   "id": "1432af9d",
   "metadata": {},
   "source": [
    "## Logistic Regression"
   ]
  },
  {
   "cell_type": "code",
   "execution_count": 93,
   "id": "651965eb",
   "metadata": {},
   "outputs": [],
   "source": [
    "from sklearn.linear_model import LogisticRegression"
   ]
  },
  {
   "cell_type": "code",
   "execution_count": 94,
   "id": "82243fa1",
   "metadata": {},
   "outputs": [],
   "source": [
    "model_lr = LogisticRegression(solver = 'liblinear', random_state = 42)"
   ]
  },
  {
   "cell_type": "code",
   "execution_count": 95,
   "id": "c8017595",
   "metadata": {},
   "outputs": [
    {
     "name": "stdout",
     "output_type": "stream",
     "text": [
      "Train set accuracy: 91.66%\n",
      "Validation set Accuracy: 92.78%\n",
      "Validation Classification report: \n",
      "               precision    recall  f1-score   support\n",
      "\n",
      "         0.0       0.95      0.96      0.96    196493\n",
      "         1.0       0.78      0.75      0.76     36553\n",
      "\n",
      "    accuracy                           0.93    233046\n",
      "   macro avg       0.87      0.85      0.86    233046\n",
      "weighted avg       0.93      0.93      0.93    233046\n",
      "\n",
      "roc auc score: 0.85\n"
     ]
    },
    {
     "data": {
      "image/png": "[encoded data removed]",
      "text/plain": [
       "<Figure size 1000x600 with 2 Axes>"
      ]
     },
     "metadata": {
      "needs_background": "light"
     },
     "output_type": "display_data"
    }
   ],
   "source": [
    "model_performance(model_lr, X_train, train_targets, X_val, val_targets)"
   ]
  },
  {
   "cell_type": "markdown",
   "id": "d746e5fa",
   "metadata": {},
   "source": [
    "The basic logistic regression model is able to give an accuracy of 92.78% on validation set. Let's compare this performance with a dump model."
   ]
  },
  {
   "cell_type": "code",
   "execution_count": 96,
   "id": "584274a3",
   "metadata": {},
   "outputs": [],
   "source": [
    "# dumb model\n",
    "def all_ok_model(inputs):\n",
    "  return np.full(len(inputs), 0)"
   ]
  },
  {
   "cell_type": "code",
   "execution_count": 97,
   "id": "bce9b93f",
   "metadata": {},
   "outputs": [
    {
     "name": "stdout",
     "output_type": "stream",
     "text": [
      "Dump model Validation Accuracy: 84.32%\n"
     ]
    }
   ],
   "source": [
    "print('Dump model Validation Accuracy: {:.2f}%'.format(accuracy_score(all_ok_model(val_targets), val_targets)*100))"
   ]
  },
  {
   "cell_type": "markdown",
   "id": "c945e5ec",
   "metadata": {},
   "source": [
    "Logistic Regression's validation accuracy is much better that dumb model's validation accuracy of 84.32%.\n",
    "\n",
    "### Hyperparameter tuning for Logistic Regression"
   ]
  },
  {
   "cell_type": "code",
   "execution_count": 98,
   "id": "27ea4be4",
   "metadata": {},
   "outputs": [],
   "source": [
    "# function to quickly evaluate effect of different hyperparameters\n",
    "def test_params_lr(**params):\n",
    "    model = LogisticRegression(random_state=42, **params).fit(X_train, train_targets)\n",
    "    train_accuracy = model.score(X_train, train_targets)\n",
    "    val_accuracy = model.score(X_val, val_targets)\n",
    "    roc_auc_score_lr = roc_auc_score(val_targets, model.predict(X_val))\n",
    "    print('Train set accuracy: {:.2f}%'.format(train_accuracy*100))\n",
    "    print('Validation set Accuracy: {:.2f}%'.format(val_accuracy* 100))\n",
    "    print('roc auc score: {:.2f}'.format(roc_auc_score_lr))"
   ]
  },
  {
   "cell_type": "markdown",
   "id": "70b0babe",
   "metadata": {},
   "source": [
    "Let's try different solvers."
   ]
  },
  {
   "cell_type": "code",
   "execution_count": 99,
   "id": "6a3e7daf",
   "metadata": {},
   "outputs": [
    {
     "name": "stdout",
     "output_type": "stream",
     "text": [
      "Train set accuracy: 91.66%\n",
      "Validation set Accuracy: 92.78%\n",
      "roc auc score: 0.85\n"
     ]
    }
   ],
   "source": [
    "test_params_lr(solver = 'sag')"
   ]
  },
  {
   "cell_type": "code",
   "execution_count": 100,
   "id": "b2f602ec",
   "metadata": {},
   "outputs": [
    {
     "name": "stdout",
     "output_type": "stream",
     "text": [
      "Train set accuracy: 91.66%\n",
      "Validation set Accuracy: 92.78%\n",
      "roc auc score: 0.85\n"
     ]
    }
   ],
   "source": [
    "test_params_lr(max_iter = 500, solver = 'lbfgs') #not coverged in 100 iterations"
   ]
  },
  {
   "cell_type": "code",
   "execution_count": 101,
   "id": "083ad75e",
   "metadata": {},
   "outputs": [
    {
     "name": "stdout",
     "output_type": "stream",
     "text": [
      "Train set accuracy: 91.66%\n",
      "Validation set Accuracy: 92.78%\n",
      "roc auc score: 0.85\n"
     ]
    }
   ],
   "source": [
    "test_params_lr(max_iter = 250, solver = 'liblinear')"
   ]
  },
  {
   "cell_type": "code",
   "execution_count": 102,
   "id": "6c69c49b",
   "metadata": {},
   "outputs": [
    {
     "name": "stdout",
     "output_type": "stream",
     "text": [
      "Train set accuracy: 91.66%\n",
      "Validation set Accuracy: 92.78%\n",
      "roc auc score: 0.85\n"
     ]
    }
   ],
   "source": [
    "test_params_lr(max_iter = 500, solver = 'liblinear')"
   ]
  },
  {
   "cell_type": "code",
   "execution_count": 103,
   "id": "a25070ee",
   "metadata": {},
   "outputs": [
    {
     "name": "stdout",
     "output_type": "stream",
     "text": [
      "Train set accuracy: 91.66%\n",
      "Validation set Accuracy: 92.78%\n",
      "roc auc score: 0.85\n"
     ]
    }
   ],
   "source": [
    "test_params_lr(max_iter = 1000, solver = 'liblinear')"
   ]
  },
  {
   "cell_type": "markdown",
   "id": "61817605",
   "metadata": {},
   "source": [
    "No improvement is seen with changing these hyperparameters, let's keep the default model as best and explore other algorithms."
   ]
  },
  {
   "cell_type": "code",
   "execution_count": 104,
   "id": "a75279b0",
   "metadata": {},
   "outputs": [
    {
     "data": {
      "application/javascript": [
       "window.require && require([\"base/js/namespace\"],function(Jupyter){Jupyter.notebook.save_checkpoint()})"
      ],
      "text/plain": [
       "<IPython.core.display.Javascript object>"
      ]
     },
     "metadata": {},
     "output_type": "display_data"
    },
    {
     "name": "stdout",
     "output_type": "stream",
     "text": [
      "[jovian] Updating notebook \"choudhuryritu12/flight-delay-detection\" on https://jovian.com/\u001b[0m\n",
      "[jovian] Committed successfully! https://jovian.com/choudhuryritu12/flight-delay-detection\u001b[0m\n"
     ]
    },
    {
     "data": {
      "text/plain": [
       "'https://jovian.com/choudhuryritu12/flight-delay-detection'"
      ]
     },
     "execution_count": 104,
     "metadata": {},
     "output_type": "execute_result"
    }
   ],
   "source": [
    "jovian.commit()"
   ]
  },
  {
   "cell_type": "markdown",
   "id": "4380829d",
   "metadata": {},
   "source": [
    "## Decision Tree Classifier"
   ]
  },
  {
   "cell_type": "code",
   "execution_count": 105,
   "id": "e115b827",
   "metadata": {},
   "outputs": [],
   "source": [
    "from sklearn.tree import DecisionTreeClassifier"
   ]
  },
  {
   "cell_type": "code",
   "execution_count": 106,
   "id": "ad12f96a",
   "metadata": {},
   "outputs": [],
   "source": [
    "model_dtc = DecisionTreeClassifier(random_state = 42)"
   ]
  },
  {
   "cell_type": "code",
   "execution_count": 107,
   "id": "59cbca10",
   "metadata": {},
   "outputs": [
    {
     "name": "stdout",
     "output_type": "stream",
     "text": [
      "Train set accuracy: 100.00%\n",
      "Validation set Accuracy: 87.32%\n",
      "Validation Classification report: \n",
      "               precision    recall  f1-score   support\n",
      "\n",
      "         0.0       0.93      0.92      0.92    196493\n",
      "         1.0       0.59      0.64      0.61     36553\n",
      "\n",
      "    accuracy                           0.87    233046\n",
      "   macro avg       0.76      0.78      0.77    233046\n",
      "weighted avg       0.88      0.87      0.88    233046\n",
      "\n",
      "roc auc score: 0.78\n"
     ]
    },
    {
     "data": {
      "image/png": "[encoded data removed]",
      "text/plain": [
       "<Figure size 1000x600 with 2 Axes>"
      ]
     },
     "metadata": {
      "needs_background": "light"
     },
     "output_type": "display_data"
    }
   ],
   "source": [
    "model_performance(model_dtc, X_train, train_targets, X_val, val_targets)"
   ]
  },
  {
   "cell_type": "markdown",
   "id": "4d469013",
   "metadata": {},
   "source": [
    "The basic Decision Tree Classifier is clearly overfitting the training data(train accuracy is 100%) and validation accuracy is less than that of Logistic Regression model we have seen earlier."
   ]
  },
  {
   "cell_type": "code",
   "execution_count": 108,
   "id": "b10d0b31",
   "metadata": {},
   "outputs": [
    {
     "data": {
      "application/javascript": [
       "window.require && require([\"base/js/namespace\"],function(Jupyter){Jupyter.notebook.save_checkpoint()})"
      ],
      "text/plain": [
       "<IPython.core.display.Javascript object>"
      ]
     },
     "metadata": {},
     "output_type": "display_data"
    },
    {
     "name": "stdout",
     "output_type": "stream",
     "text": [
      "[jovian] Updating notebook \"choudhuryritu12/flight-delay-detection\" on https://jovian.com/\u001b[0m\n",
      "[jovian] Committed successfully! https://jovian.com/choudhuryritu12/flight-delay-detection\u001b[0m\n"
     ]
    },
    {
     "data": {
      "text/plain": [
       "'https://jovian.com/choudhuryritu12/flight-delay-detection'"
      ]
     },
     "execution_count": 108,
     "metadata": {},
     "output_type": "execute_result"
    }
   ],
   "source": [
    "jovian.commit()"
   ]
  },
  {
   "cell_type": "markdown",
   "id": "cce95737",
   "metadata": {},
   "source": [
    "### Hyperparameter tuning for Decision Tree Classifier"
   ]
  },
  {
   "cell_type": "code",
   "execution_count": 109,
   "id": "21bdb5b7",
   "metadata": {},
   "outputs": [],
   "source": [
    "# function to quickly evaluate effect of different hyperparameters\n",
    "def test_params_dtc(**params):\n",
    "    model = DecisionTreeClassifier(random_state=42, **params).fit(X_train, train_targets)\n",
    "    train_accuracy = model.score(X_train, train_targets)\n",
    "    val_accuracy = model.score(X_val, val_targets)\n",
    "    roc_auc_score_lr = roc_auc_score(val_targets, model.predict(X_val))\n",
    "    print('Train set accuracy: {:.2f}%'.format(train_accuracy*100))\n",
    "    print('Validation set Accuracy: {:.2f}%'.format(val_accuracy* 100))\n",
    "    print('roc auc score: {:.2f}'.format(roc_auc_score_lr))"
   ]
  },
  {
   "cell_type": "markdown",
   "id": "5071e92f",
   "metadata": {},
   "source": [
    "We can first look at different max_depth values."
   ]
  },
  {
   "cell_type": "code",
   "execution_count": 110,
   "id": "e037839c",
   "metadata": {},
   "outputs": [
    {
     "name": "stdout",
     "output_type": "stream",
     "text": [
      "Train set accuracy: 91.75%\n",
      "Validation set Accuracy: 92.85%\n",
      "roc auc score: 0.86\n"
     ]
    }
   ],
   "source": [
    "test_params_dtc(max_depth = 5)"
   ]
  },
  {
   "cell_type": "code",
   "execution_count": 111,
   "id": "ec4df954",
   "metadata": {},
   "outputs": [
    {
     "name": "stdout",
     "output_type": "stream",
     "text": [
      "Train set accuracy: 91.78%\n",
      "Validation set Accuracy: 92.86%\n",
      "roc auc score: 0.86\n"
     ]
    }
   ],
   "source": [
    "\n",
    "test_params_dtc(max_depth = 7)"
   ]
  },
  {
   "cell_type": "code",
   "execution_count": 112,
   "id": "52bac0a4",
   "metadata": {},
   "outputs": [
    {
     "name": "stdout",
     "output_type": "stream",
     "text": [
      "Train set accuracy: 91.82%\n",
      "Validation set Accuracy: 92.80%\n",
      "roc auc score: 0.85\n"
     ]
    }
   ],
   "source": [
    "test_params_dtc(max_depth = 8)"
   ]
  },
  {
   "cell_type": "code",
   "execution_count": 113,
   "id": "0eaebabd",
   "metadata": {},
   "outputs": [
    {
     "name": "stdout",
     "output_type": "stream",
     "text": [
      "Train set accuracy: 92.19%\n",
      "Validation set Accuracy: 92.53%\n",
      "roc auc score: 0.84\n"
     ]
    }
   ],
   "source": [
    "test_params_dtc(max_depth = 12)"
   ]
  },
  {
   "cell_type": "markdown",
   "id": "a115cb30",
   "metadata": {},
   "source": [
    "The max_depth = 7 seems to be the best value and model is not overfitting.\n",
    "\n",
    "Now we can look at max_leaf_nodes."
   ]
  },
  {
   "cell_type": "code",
   "execution_count": 114,
   "id": "f2843302",
   "metadata": {},
   "outputs": [
    {
     "name": "stdout",
     "output_type": "stream",
     "text": [
      "Train set accuracy: 91.76%\n",
      "Validation set Accuracy: 92.86%\n",
      "roc auc score: 0.86\n"
     ]
    }
   ],
   "source": [
    "\n",
    "test_params_dtc(max_leaf_nodes = 32)"
   ]
  },
  {
   "cell_type": "code",
   "execution_count": 115,
   "id": "932c3cf8",
   "metadata": {},
   "outputs": [
    {
     "name": "stdout",
     "output_type": "stream",
     "text": [
      "Train set accuracy: 91.78%\n",
      "Validation set Accuracy: 92.89%\n",
      "roc auc score: 0.86\n"
     ]
    }
   ],
   "source": [
    "\n",
    "test_params_dtc(max_leaf_nodes = 64)"
   ]
  },
  {
   "cell_type": "code",
   "execution_count": 116,
   "id": "0d0ee8fb",
   "metadata": {},
   "outputs": [
    {
     "name": "stdout",
     "output_type": "stream",
     "text": [
      "Train set accuracy: 91.81%\n",
      "Validation set Accuracy: 92.91%\n",
      "roc auc score: 0.85\n"
     ]
    }
   ],
   "source": [
    "\n",
    "test_params_dtc(max_leaf_nodes = 128)"
   ]
  },
  {
   "cell_type": "code",
   "execution_count": 117,
   "id": "17fc0406",
   "metadata": {},
   "outputs": [
    {
     "name": "stdout",
     "output_type": "stream",
     "text": [
      "Train set accuracy: 91.86%\n",
      "Validation set Accuracy: 92.67%\n",
      "roc auc score: 0.85\n"
     ]
    }
   ],
   "source": [
    "\n",
    "test_params_dtc(max_leaf_nodes = 256)"
   ]
  },
  {
   "cell_type": "markdown",
   "id": "9c0589d8",
   "metadata": {},
   "source": [
    "128 number of leaf nodes is found as best number and more importantly the model is not overfitting."
   ]
  },
  {
   "cell_type": "code",
   "execution_count": 118,
   "id": "69ca0465",
   "metadata": {},
   "outputs": [
    {
     "data": {
      "application/javascript": [
       "window.require && require([\"base/js/namespace\"],function(Jupyter){Jupyter.notebook.save_checkpoint()})"
      ],
      "text/plain": [
       "<IPython.core.display.Javascript object>"
      ]
     },
     "metadata": {},
     "output_type": "display_data"
    },
    {
     "name": "stdout",
     "output_type": "stream",
     "text": [
      "[jovian] Updating notebook \"choudhuryritu12/flight-delay-detection\" on https://jovian.com/\u001b[0m\n",
      "[jovian] Committed successfully! https://jovian.com/choudhuryritu12/flight-delay-detection\u001b[0m\n"
     ]
    },
    {
     "data": {
      "text/plain": [
       "'https://jovian.com/choudhuryritu12/flight-delay-detection'"
      ]
     },
     "execution_count": 118,
     "metadata": {},
     "output_type": "execute_result"
    }
   ],
   "source": [
    "jovian.commit()\n"
   ]
  },
  {
   "cell_type": "markdown",
   "id": "dbc4d002",
   "metadata": {},
   "source": [
    "We can also check for some values for min_samples_split and min_samples_leaf."
   ]
  },
  {
   "cell_type": "code",
   "execution_count": 120,
   "id": "7e07829b",
   "metadata": {},
   "outputs": [
    {
     "name": "stdout",
     "output_type": "stream",
     "text": [
      "Train set accuracy: 91.78%\n",
      "Validation set Accuracy: 92.86%\n",
      "roc auc score: 0.86\n"
     ]
    }
   ],
   "source": [
    "test_params_dtc(max_depth = 7, min_samples_split = 4)"
   ]
  },
  {
   "cell_type": "code",
   "execution_count": 121,
   "id": "c63ca5b3",
   "metadata": {},
   "outputs": [
    {
     "name": "stdout",
     "output_type": "stream",
     "text": [
      "Train set accuracy: 91.78%\n",
      "Validation set Accuracy: 92.86%\n",
      "roc auc score: 0.86\n"
     ]
    }
   ],
   "source": [
    "test_params_dtc(max_depth = 7, min_samples_split = 6)"
   ]
  },
  {
   "cell_type": "code",
   "execution_count": 122,
   "id": "10a65f9c",
   "metadata": {},
   "outputs": [
    {
     "name": "stdout",
     "output_type": "stream",
     "text": [
      "Train set accuracy: 91.78%\n",
      "Validation set Accuracy: 92.86%\n",
      "roc auc score: 0.86\n"
     ]
    }
   ],
   "source": [
    "test_params_dtc(max_depth = 7, min_samples_split = 20)"
   ]
  },
  {
   "cell_type": "code",
   "execution_count": 126,
   "id": "eb24ca7d",
   "metadata": {},
   "outputs": [
    {
     "name": "stdout",
     "output_type": "stream",
     "text": [
      "Train set accuracy: 91.78%\n",
      "Validation set Accuracy: 92.86%\n",
      "roc auc score: 0.86\n"
     ]
    }
   ],
   "source": [
    "test_params_dtc(max_depth = 7, min_samples_leaf = 2)"
   ]
  },
  {
   "cell_type": "code",
   "execution_count": 127,
   "id": "623f72a6",
   "metadata": {},
   "outputs": [
    {
     "name": "stdout",
     "output_type": "stream",
     "text": [
      "Train set accuracy: 91.78%\n",
      "Validation set Accuracy: 92.87%\n",
      "roc auc score: 0.86\n"
     ]
    }
   ],
   "source": [
    "test_params_dtc(max_depth = 7, min_samples_leaf = 5)"
   ]
  },
  {
   "cell_type": "code",
   "execution_count": 128,
   "id": "64b69bb9",
   "metadata": {},
   "outputs": [
    {
     "name": "stdout",
     "output_type": "stream",
     "text": [
      "Train set accuracy: 91.78%\n",
      "Validation set Accuracy: 92.87%\n",
      "roc auc score: 0.86\n"
     ]
    }
   ],
   "source": [
    "test_params_dtc(max_depth = 7, min_samples_leaf = 8)"
   ]
  },
  {
   "cell_type": "code",
   "execution_count": 129,
   "id": "72e867b9",
   "metadata": {},
   "outputs": [
    {
     "name": "stdout",
     "output_type": "stream",
     "text": [
      "Train set accuracy: 91.78%\n",
      "Validation set Accuracy: 92.86%\n",
      "roc auc score: 0.86\n"
     ]
    }
   ],
   "source": [
    "test_params_dtc(max_depth = 7, min_samples_leaf = 20)"
   ]
  },
  {
   "cell_type": "markdown",
   "id": "87cbda85",
   "metadata": {},
   "source": [
    "Since these two does not seems to have much impact with a good max_depth value, we can now try to get best model by tuning these hyperparameters."
   ]
  },
  {
   "cell_type": "code",
   "execution_count": 130,
   "id": "24bb23c8",
   "metadata": {},
   "outputs": [
    {
     "name": "stdout",
     "output_type": "stream",
     "text": [
      "Train set accuracy: 91.76%\n",
      "Validation set Accuracy: 92.86%\n",
      "roc auc score: 0.86\n"
     ]
    }
   ],
   "source": [
    "test_params_dtc(max_depth = 7, max_leaf_nodes = 64)\n"
   ]
  },
  {
   "cell_type": "code",
   "execution_count": 131,
   "id": "d8991f82",
   "metadata": {},
   "outputs": [
    {
     "name": "stdout",
     "output_type": "stream",
     "text": [
      "Train set accuracy: 91.78%\n",
      "Validation set Accuracy: 92.86%\n",
      "roc auc score: 0.86\n"
     ]
    }
   ],
   "source": [
    "\n",
    "test_params_dtc(max_depth = 7, max_leaf_nodes = 128)"
   ]
  },
  {
   "cell_type": "code",
   "execution_count": 132,
   "id": "345fab6e",
   "metadata": {},
   "outputs": [
    {
     "name": "stdout",
     "output_type": "stream",
     "text": [
      "Train set accuracy: 91.78%\n",
      "Validation set Accuracy: 92.86%\n",
      "roc auc score: 0.86\n"
     ]
    }
   ],
   "source": [
    "\n",
    "test_params_dtc(max_depth = 7, max_leaf_nodes = 256)"
   ]
  },
  {
   "cell_type": "code",
   "execution_count": 133,
   "id": "c65c8ca5",
   "metadata": {},
   "outputs": [
    {
     "name": "stdout",
     "output_type": "stream",
     "text": [
      "Train set accuracy: 91.76%\n",
      "Validation set Accuracy: 92.86%\n",
      "roc auc score: 0.86\n"
     ]
    }
   ],
   "source": [
    "\n",
    "test_params_dtc(max_depth = 8, max_leaf_nodes = 64)"
   ]
  },
  {
   "cell_type": "code",
   "execution_count": 134,
   "id": "9afe0ac2",
   "metadata": {},
   "outputs": [
    {
     "name": "stdout",
     "output_type": "stream",
     "text": [
      "Train set accuracy: 91.79%\n",
      "Validation set Accuracy: 92.85%\n",
      "roc auc score: 0.86\n"
     ]
    }
   ],
   "source": [
    "\n",
    "test_params_dtc(max_depth = 8, max_leaf_nodes = 128)"
   ]
  },
  {
   "cell_type": "code",
   "execution_count": 135,
   "id": "f7d2775a",
   "metadata": {},
   "outputs": [
    {
     "name": "stdout",
     "output_type": "stream",
     "text": [
      "Train set accuracy: 91.78%\n",
      "Validation set Accuracy: 92.86%\n",
      "roc auc score: 0.86\n"
     ]
    }
   ],
   "source": [
    "test_params_dtc(max_depth = 7, max_leaf_nodes = 128, min_samples_leaf = 4)"
   ]
  },
  {
   "cell_type": "code",
   "execution_count": 136,
   "id": "9aa58edc",
   "metadata": {},
   "outputs": [
    {
     "name": "stdout",
     "output_type": "stream",
     "text": [
      "Train set accuracy: 91.78%\n",
      "Validation set Accuracy: 92.87%\n",
      "roc auc score: 0.86\n"
     ]
    }
   ],
   "source": [
    "test_params_dtc(max_depth = 7, max_leaf_nodes = 128, min_samples_leaf = 5)"
   ]
  },
  {
   "cell_type": "markdown",
   "id": "fd0dc71d",
   "metadata": {},
   "source": [
    "So we now select our best decision tree classifier model as follows."
   ]
  },
  {
   "cell_type": "code",
   "execution_count": 137,
   "id": "38a61a02",
   "metadata": {},
   "outputs": [],
   "source": [
    "model_dtc_best = DecisionTreeClassifier(max_depth = 7, max_leaf_nodes = 128, min_samples_leaf = 5, random_state=42)\n"
   ]
  },
  {
   "cell_type": "code",
   "execution_count": 138,
   "id": "9da3ff2d",
   "metadata": {},
   "outputs": [
    {
     "name": "stdout",
     "output_type": "stream",
     "text": [
      "Train set accuracy: 91.78%\n",
      "Validation set Accuracy: 92.87%\n",
      "Validation Classification report: \n",
      "               precision    recall  f1-score   support\n",
      "\n",
      "         0.0       0.95      0.96      0.96    196493\n",
      "         1.0       0.78      0.75      0.77     36553\n",
      "\n",
      "    accuracy                           0.93    233046\n",
      "   macro avg       0.87      0.86      0.86    233046\n",
      "weighted avg       0.93      0.93      0.93    233046\n",
      "\n",
      "roc auc score: 0.86\n"
     ]
    },
    {
     "data": {
      "image/png": "[encoded data removed]",
      "text/plain": [
       "<Figure size 1000x600 with 2 Axes>"
      ]
     },
     "metadata": {
      "needs_background": "light"
     },
     "output_type": "display_data"
    }
   ],
   "source": [
    "model_performance(model_dtc_best, X_train, train_targets, X_val, val_targets)"
   ]
  },
  {
   "cell_type": "markdown",
   "id": "b0766afa",
   "metadata": {},
   "source": [
    "From Logistic Regression our validation has increased slightly and we got a minor increase in roc_auc_score as well. Now we may have a look at feature importance of Decision Tree Classifier."
   ]
  },
  {
   "cell_type": "code",
   "execution_count": 139,
   "id": "07792ea2",
   "metadata": {},
   "outputs": [
    {
     "data": {
      "image/png": "[encoded data removed]",
      "text/plain": [
       "<Figure size 1000x600 with 1 Axes>"
      ]
     },
     "metadata": {
      "needs_background": "light"
     },
     "output_type": "display_data"
    }
   ],
   "source": [
    "importance_df = pd.DataFrame({\n",
    "    'feature': X_train.columns,\n",
    "    'importance': model_dtc_best.feature_importances_\n",
    "})\n",
    "sns.barplot(x = 'importance', y = 'feature', data = importance_df.sort_values('importance', ascending = False).head(10));"
   ]
  },
  {
   "cell_type": "markdown",
   "id": "0012b340",
   "metadata": {},
   "source": [
    "Since we can observe a very high influence of 'DEP_DEL15' on prediction, we will look at the performance of another baseline model which predicts delay at arrival same as delay at departure column."
   ]
  },
  {
   "cell_type": "code",
   "execution_count": 140,
   "id": "68e38068",
   "metadata": {},
   "outputs": [
    {
     "data": {
      "text/plain": [
       "717949    0.0\n",
       "717950    0.0\n",
       "717951    0.0\n",
       "717952    0.0\n",
       "717953    0.0\n",
       "         ... \n",
       "956581    0.0\n",
       "956582    0.0\n",
       "956583    0.0\n",
       "956584    0.0\n",
       "956585    0.0\n",
       "Name: DEP_DEL15, Length: 233046, dtype: float64"
      ]
     },
     "execution_count": 140,
     "metadata": {},
     "output_type": "execute_result"
    }
   ],
   "source": [
    "arr_preds_based_on_dep_delay = val_df['DEP_DEL15']\n",
    "arr_preds_based_on_dep_delay"
   ]
  },
  {
   "cell_type": "code",
   "execution_count": 141,
   "id": "f782dfc3",
   "metadata": {},
   "outputs": [
    {
     "data": {
      "text/plain": [
       "0.9285548775778173"
      ]
     },
     "execution_count": 141,
     "metadata": {},
     "output_type": "execute_result"
    }
   ],
   "source": [
    "accuracy_score(val_targets, arr_preds_based_on_dep_delay)\n"
   ]
  },
  {
   "cell_type": "code",
   "execution_count": 142,
   "id": "653fd848",
   "metadata": {},
   "outputs": [
    {
     "data": {
      "text/plain": [
       "0.857224332675879"
      ]
     },
     "execution_count": 142,
     "metadata": {},
     "output_type": "execute_result"
    }
   ],
   "source": [
    "roc_auc_score(val_targets, arr_preds_based_on_dep_delay)\n"
   ]
  },
  {
   "cell_type": "code",
   "execution_count": 143,
   "id": "7205eab4",
   "metadata": {},
   "outputs": [
    {
     "data": {
      "image/png": "[encoded data removed]",
      "text/plain": [
       "<Figure size 1000x600 with 2 Axes>"
      ]
     },
     "metadata": {
      "needs_background": "light"
     },
     "output_type": "display_data"
    }
   ],
   "source": [
    " conf_matrix_arr_based_on_dep_delay =  confusion_matrix(val_targets, arr_preds_based_on_dep_delay, normalize = 'true')\n",
    " plt.figure()\n",
    " plt.title('Validation Confusion Matrix for Arrival delay prediction based on Departure delay')\n",
    " sns.heatmap(conf_matrix_arr_based_on_dep_delay, annot = True);"
   ]
  },
  {
   "cell_type": "markdown",
   "id": "146a7fc8",
   "metadata": {},
   "source": [
    "As above results suggests our Decision Tree Classifier gives almost same performance to the model that just copying the departure delay column. We need to check more algorithms to outperform this baseline model."
   ]
  },
  {
   "cell_type": "markdown",
   "id": "27f1f3e1",
   "metadata": {},
   "source": [
    "### Random Forest Classifier"
   ]
  },
  {
   "cell_type": "code",
   "execution_count": 145,
   "id": "321207c8",
   "metadata": {},
   "outputs": [],
   "source": [
    "from sklearn.ensemble import RandomForestClassifier"
   ]
  },
  {
   "cell_type": "code",
   "execution_count": 146,
   "id": "0b764d5f",
   "metadata": {},
   "outputs": [],
   "source": [
    "model = RandomForestClassifier(n_jobs = -1, random_state = 42)"
   ]
  },
  {
   "cell_type": "code",
   "execution_count": 147,
   "id": "92fda56c",
   "metadata": {},
   "outputs": [
    {
     "name": "stdout",
     "output_type": "stream",
     "text": [
      "Train set accuracy: 99.99%\n",
      "Validation set Accuracy: 92.42%\n",
      "Validation Classification report: \n",
      "               precision    recall  f1-score   support\n",
      "\n",
      "         0.0       0.95      0.96      0.96    196493\n",
      "         1.0       0.78      0.72      0.75     36553\n",
      "\n",
      "    accuracy                           0.92    233046\n",
      "   macro avg       0.86      0.84      0.85    233046\n",
      "weighted avg       0.92      0.92      0.92    233046\n",
      "\n",
      "roc auc score: 0.84\n"
     ]
    },
    {
     "data": {
      "image/png": "[encoded data removed]",
      "text/plain": [
       "<Figure size 1000x600 with 2 Axes>"
      ]
     },
     "metadata": {
      "needs_background": "light"
     },
     "output_type": "display_data"
    }
   ],
   "source": [
    "\n",
    "model_performance(model, X_train, train_targets, X_val, val_targets)"
   ]
  },
  {
   "cell_type": "markdown",
   "id": "2d765972",
   "metadata": {},
   "source": [
    "The default configuration of Random Forest is not good compared to our best Decision Tree model, and we need to search for optimum hyperparameters."
   ]
  },
  {
   "cell_type": "markdown",
   "id": "1b9e49ec",
   "metadata": {},
   "source": [
    "#### Hyperparameter Tuning for Random Forest Classifier"
   ]
  },
  {
   "cell_type": "code",
   "execution_count": 148,
   "id": "219e075b",
   "metadata": {},
   "outputs": [],
   "source": [
    "# function to quickly evaluate effect of different hyperparameters\n",
    "def test_params_rfc(**params):\n",
    "    model = RandomForestClassifier(n_jobs = -1, random_state = 42, **params).fit(X_train, train_targets)\n",
    "    train_accuracy = model.score(X_train, train_targets)\n",
    "    val_accuracy = model.score(X_val, val_targets)\n",
    "    roc_auc_score_lr = roc_auc_score(val_targets, model.predict(X_val))\n",
    "    print('Train set accuracy: {:.2f}%'.format(train_accuracy*100))\n",
    "    print('Validation set Accuracy: {:.2f}%'.format(val_accuracy* 100))\n",
    "    print('roc auc score: {:.2f}'.format(roc_auc_score_lr))"
   ]
  },
  {
   "cell_type": "markdown",
   "id": "91b307ef",
   "metadata": {},
   "source": [
    "Let's look at influence of number of estimators."
   ]
  },
  {
   "cell_type": "code",
   "execution_count": 149,
   "id": "937f74c7",
   "metadata": {},
   "outputs": [
    {
     "name": "stdout",
     "output_type": "stream",
     "text": [
      "Train set accuracy: 98.54%\n",
      "Validation set Accuracy: 91.35%\n",
      "roc auc score: 0.82\n"
     ]
    }
   ],
   "source": [
    "test_params_rfc(n_estimators = 5)"
   ]
  },
  {
   "cell_type": "code",
   "execution_count": 150,
   "id": "3d41c5f7",
   "metadata": {},
   "outputs": [
    {
     "name": "stdout",
     "output_type": "stream",
     "text": [
      "Train set accuracy: 99.54%\n",
      "Validation set Accuracy: 92.26%\n",
      "roc auc score: 0.83\n"
     ]
    }
   ],
   "source": [
    "test_params_rfc(n_estimators = 20)"
   ]
  },
  {
   "cell_type": "code",
   "execution_count": 152,
   "id": "86daf64b",
   "metadata": {},
   "outputs": [
    {
     "name": "stdout",
     "output_type": "stream",
     "text": [
      "Train set accuracy: 99.87%\n",
      "Validation set Accuracy: 92.31%\n",
      "roc auc score: 0.84\n"
     ]
    }
   ],
   "source": [
    "test_params_rfc(n_estimators = 35)"
   ]
  },
  {
   "cell_type": "code",
   "execution_count": 153,
   "id": "f952c25f",
   "metadata": {},
   "outputs": [
    {
     "name": "stdout",
     "output_type": "stream",
     "text": [
      "Train set accuracy: 99.92%\n",
      "Validation set Accuracy: 92.38%\n",
      "roc auc score: 0.84\n"
     ]
    }
   ],
   "source": [
    "test_params_rfc(n_estimators = 50)"
   ]
  },
  {
   "cell_type": "markdown",
   "id": "526e581e",
   "metadata": {},
   "source": [
    "Now we can check what effect max_depth can make.\n"
   ]
  },
  {
   "cell_type": "code",
   "execution_count": 154,
   "id": "65ed2efd",
   "metadata": {},
   "outputs": [
    {
     "name": "stdout",
     "output_type": "stream",
     "text": [
      "Train set accuracy: 91.73%\n",
      "Validation set Accuracy: 92.83%\n",
      "roc auc score: 0.86\n"
     ]
    }
   ],
   "source": [
    "\n",
    "test_params_rfc(n_estimators = 20, max_depth = 5)"
   ]
  },
  {
   "cell_type": "code",
   "execution_count": 155,
   "id": "ed19d388",
   "metadata": {},
   "outputs": [
    {
     "name": "stdout",
     "output_type": "stream",
     "text": [
      "Train set accuracy: 91.75%\n",
      "Validation set Accuracy: 92.85%\n",
      "roc auc score: 0.86\n"
     ]
    }
   ],
   "source": [
    "test_params_rfc(n_estimators = 20, max_depth = 8)"
   ]
  },
  {
   "cell_type": "code",
   "execution_count": 156,
   "id": "271e680f",
   "metadata": {},
   "outputs": [
    {
     "name": "stdout",
     "output_type": "stream",
     "text": [
      "Train set accuracy: 91.75%\n",
      "Validation set Accuracy: 92.86%\n",
      "roc auc score: 0.86\n"
     ]
    }
   ],
   "source": [
    "test_params_rfc(n_estimators = 20, max_depth = 7)"
   ]
  },
  {
   "cell_type": "markdown",
   "id": "aad97b66",
   "metadata": {},
   "source": [
    "Let's also check effect of max_leaf_nodes."
   ]
  },
  {
   "cell_type": "code",
   "execution_count": 157,
   "id": "9c8d2856",
   "metadata": {},
   "outputs": [
    {
     "name": "stdout",
     "output_type": "stream",
     "text": [
      "Train set accuracy: 91.74%\n",
      "Validation set Accuracy: 92.84%\n",
      "roc auc score: 0.86\n"
     ]
    }
   ],
   "source": [
    "test_params_rfc(n_estimators = 20, max_leaf_nodes = 32)"
   ]
  },
  {
   "cell_type": "code",
   "execution_count": 158,
   "id": "5503d1e4",
   "metadata": {},
   "outputs": [
    {
     "name": "stdout",
     "output_type": "stream",
     "text": [
      "Train set accuracy: 91.75%\n",
      "Validation set Accuracy: 92.86%\n",
      "roc auc score: 0.86\n"
     ]
    }
   ],
   "source": [
    "test_params_rfc(n_estimators = 20, max_leaf_nodes = 64)"
   ]
  },
  {
   "cell_type": "code",
   "execution_count": 159,
   "id": "4d50f70f",
   "metadata": {},
   "outputs": [
    {
     "name": "stdout",
     "output_type": "stream",
     "text": [
      "Train set accuracy: 91.75%\n",
      "Validation set Accuracy: 92.86%\n",
      "roc auc score: 0.86\n"
     ]
    }
   ],
   "source": [
    "test_params_rfc(n_estimators = 20, max_leaf_nodes = 128)"
   ]
  },
  {
   "cell_type": "code",
   "execution_count": 160,
   "id": "1b8716f5",
   "metadata": {},
   "outputs": [
    {
     "name": "stdout",
     "output_type": "stream",
     "text": [
      "Train set accuracy: 91.75%\n",
      "Validation set Accuracy: 92.86%\n",
      "roc auc score: 0.86\n"
     ]
    }
   ],
   "source": [
    "test_params_rfc(n_estimators = 20, max_leaf_nodes = 256)"
   ]
  },
  {
   "cell_type": "markdown",
   "id": "b54f1427",
   "metadata": {},
   "source": [
    "Now we will check min_samples_leaf and its effect."
   ]
  },
  {
   "cell_type": "code",
   "execution_count": 162,
   "id": "fc3dbd69",
   "metadata": {},
   "outputs": [
    {
     "name": "stdout",
     "output_type": "stream",
     "text": [
      "Train set accuracy: 93.90%\n",
      "Validation set Accuracy: 92.84%\n",
      "roc auc score: 0.85\n"
     ]
    }
   ],
   "source": [
    "test_params_rfc(n_estimators = 20, min_samples_leaf = 2)"
   ]
  },
  {
   "cell_type": "code",
   "execution_count": 163,
   "id": "11bd3092",
   "metadata": {},
   "outputs": [
    {
     "name": "stdout",
     "output_type": "stream",
     "text": [
      "Train set accuracy: 92.39%\n",
      "Validation set Accuracy: 92.87%\n",
      "roc auc score: 0.85\n"
     ]
    }
   ],
   "source": [
    "test_params_rfc(n_estimators = 20, min_samples_leaf = 4)"
   ]
  },
  {
   "cell_type": "code",
   "execution_count": 164,
   "id": "447ff18c",
   "metadata": {},
   "outputs": [
    {
     "name": "stdout",
     "output_type": "stream",
     "text": [
      "Train set accuracy: 91.94%\n",
      "Validation set Accuracy: 92.88%\n",
      "roc auc score: 0.86\n"
     ]
    }
   ],
   "source": [
    "test_params_rfc(n_estimators = 20, min_samples_leaf = 8)"
   ]
  },
  {
   "cell_type": "markdown",
   "id": "0ca2631f",
   "metadata": {},
   "source": [
    "It would be helpful if we check effect of hyperparameter min_samples_split."
   ]
  },
  {
   "cell_type": "code",
   "execution_count": 165,
   "id": "363580d0",
   "metadata": {},
   "outputs": [
    {
     "name": "stdout",
     "output_type": "stream",
     "text": [
      "Train set accuracy: 94.12%\n",
      "Validation set Accuracy: 92.79%\n",
      "roc auc score: 0.85\n"
     ]
    }
   ],
   "source": [
    "test_params_rfc(n_estimators = 20, min_samples_split = 8)"
   ]
  },
  {
   "cell_type": "code",
   "execution_count": 166,
   "id": "3ad3a80c",
   "metadata": {},
   "outputs": [
    {
     "name": "stdout",
     "output_type": "stream",
     "text": [
      "Train set accuracy: 91.99%\n",
      "Validation set Accuracy: 92.87%\n",
      "roc auc score: 0.86\n"
     ]
    }
   ],
   "source": [
    "test_params_rfc(n_estimators = 20, min_samples_split = 50)"
   ]
  },
  {
   "cell_type": "code",
   "execution_count": 167,
   "id": "bff9b518",
   "metadata": {},
   "outputs": [
    {
     "name": "stdout",
     "output_type": "stream",
     "text": [
      "Train set accuracy: 92.37%\n",
      "Validation set Accuracy: 92.87%\n",
      "roc auc score: 0.85\n"
     ]
    }
   ],
   "source": [
    "test_params_rfc(n_estimators = 20, min_samples_split = 25)"
   ]
  },
  {
   "cell_type": "code",
   "execution_count": 168,
   "id": "669f6d80",
   "metadata": {},
   "outputs": [],
   "source": [
    "model_rfc_best = RandomForestClassifier(n_jobs = -1, random_state = 42, n_estimators = 20, min_samples_leaf = 8)"
   ]
  },
  {
   "cell_type": "code",
   "execution_count": 169,
   "id": "4bb7f7c9",
   "metadata": {},
   "outputs": [
    {
     "name": "stdout",
     "output_type": "stream",
     "text": [
      "Train set accuracy: 91.94%\n",
      "Validation set Accuracy: 92.88%\n",
      "Validation Classification report: \n",
      "               precision    recall  f1-score   support\n",
      "\n",
      "         0.0       0.95      0.96      0.96    196493\n",
      "         1.0       0.79      0.75      0.77     36553\n",
      "\n",
      "    accuracy                           0.93    233046\n",
      "   macro avg       0.87      0.86      0.86    233046\n",
      "weighted avg       0.93      0.93      0.93    233046\n",
      "\n",
      "roc auc score: 0.86\n"
     ]
    },
    {
     "data": {
      "image/png": "[encoded data removed]",
      "text/plain": [
       "<Figure size 1000x600 with 2 Axes>"
      ]
     },
     "metadata": {
      "needs_background": "light"
     },
     "output_type": "display_data"
    }
   ],
   "source": [
    "model_performance(model_rfc_best, X_train, train_targets, X_val, val_targets)"
   ]
  },
  {
   "cell_type": "markdown",
   "id": "10435624",
   "metadata": {},
   "source": [
    "We could only able to achieve a marginal increase in performance compared to model that copies departure delays."
   ]
  },
  {
   "cell_type": "code",
   "execution_count": 170,
   "id": "da734863",
   "metadata": {},
   "outputs": [
    {
     "data": {
      "image/png": "[encoded data removed]",
      "text/plain": [
       "<Figure size 1000x600 with 1 Axes>"
      ]
     },
     "metadata": {
      "needs_background": "light"
     },
     "output_type": "display_data"
    }
   ],
   "source": [
    "importance_df = pd.DataFrame({\n",
    "    'feature': X_train.columns,\n",
    "    'importance': model_rfc_best.feature_importances_\n",
    "})\n",
    "sns.barplot(x = 'importance', y = 'feature', data = importance_df.sort_values('importance', ascending = False).head(10));"
   ]
  },
  {
   "cell_type": "markdown",
   "id": "3df48ec5",
   "metadata": {},
   "source": [
    "By examining the feature importance we can understand that the Random Forest model is best as it depends on many features for prediction unlike Decision Tree model which mostly depends on one feature. we can hope our Random Forest will perform better to unknown data."
   ]
  },
  {
   "cell_type": "code",
   "execution_count": 171,
   "id": "3e0a19be",
   "metadata": {},
   "outputs": [
    {
     "data": {
      "application/javascript": [
       "window.require && require([\"base/js/namespace\"],function(Jupyter){Jupyter.notebook.save_checkpoint()})"
      ],
      "text/plain": [
       "<IPython.core.display.Javascript object>"
      ]
     },
     "metadata": {},
     "output_type": "display_data"
    },
    {
     "name": "stdout",
     "output_type": "stream",
     "text": [
      "[jovian] Updating notebook \"choudhuryritu12/flight-delay-detection\" on https://jovian.com/\u001b[0m\n",
      "[jovian] Committed successfully! https://jovian.com/choudhuryritu12/flight-delay-detection\u001b[0m\n"
     ]
    },
    {
     "data": {
      "text/plain": [
       "'https://jovian.com/choudhuryritu12/flight-delay-detection'"
      ]
     },
     "execution_count": 171,
     "metadata": {},
     "output_type": "execute_result"
    }
   ],
   "source": [
    "jovian.commit()"
   ]
  },
  {
   "cell_type": "markdown",
   "id": "0081164b",
   "metadata": {},
   "source": [
    "## XGBoost Classifier\n"
   ]
  },
  {
   "cell_type": "code",
   "execution_count": 172,
   "id": "cae1cc77",
   "metadata": {},
   "outputs": [],
   "source": [
    "from xgboost import XGBClassifier"
   ]
  },
  {
   "cell_type": "code",
   "execution_count": 173,
   "id": "733a8a6f",
   "metadata": {},
   "outputs": [],
   "source": [
    "model = XGBClassifier(random_state=42, n_jobs = -1,use_label_encoder=False, eval_metric = 'logloss')"
   ]
  },
  {
   "cell_type": "code",
   "execution_count": 174,
   "id": "60813ca3",
   "metadata": {},
   "outputs": [
    {
     "name": "stdout",
     "output_type": "stream",
     "text": [
      "Train set accuracy: 92.25%\n",
      "Validation set Accuracy: 92.96%\n",
      "Validation Classification report: \n",
      "               precision    recall  f1-score   support\n",
      "\n",
      "         0.0       0.95      0.97      0.96    196493\n",
      "         1.0       0.81      0.72      0.76     36553\n",
      "\n",
      "    accuracy                           0.93    233046\n",
      "   macro avg       0.88      0.84      0.86    233046\n",
      "weighted avg       0.93      0.93      0.93    233046\n",
      "\n",
      "roc auc score: 0.84\n"
     ]
    },
    {
     "data": {
      "image/png": "[encoded data removed]",
      "text/plain": [
       "<Figure size 1000x600 with 2 Axes>"
      ]
     },
     "metadata": {
      "needs_background": "light"
     },
     "output_type": "display_data"
    }
   ],
   "source": [
    "model_performance(model, X_train, train_targets, X_val, val_targets)"
   ]
  },
  {
   "cell_type": "markdown",
   "id": "35d1a89a",
   "metadata": {},
   "source": [
    "From the above performance data we can see that clearly performance on validation set is increased but the roc_auc_score is decreased."
   ]
  },
  {
   "cell_type": "markdown",
   "id": "be978829",
   "metadata": {},
   "source": [
    "### Hyperparameter Tuning for XGBClassifier"
   ]
  },
  {
   "cell_type": "code",
   "execution_count": 175,
   "id": "ac16b69f",
   "metadata": {},
   "outputs": [],
   "source": [
    "# function to quickly evaluate effect of different hyperparameters\n",
    "def test_params_xgbc(**params):\n",
    "    model = XGBClassifier(random_state=42, n_jobs = -1,use_label_encoder=False, eval_metric = 'logloss', **params).fit(X_train, train_targets)\n",
    "    train_accuracy = model.score(X_train, train_targets)\n",
    "    val_accuracy = model.score(X_val, val_targets)\n",
    "    roc_auc_score_lr = roc_auc_score(val_targets, model.predict(X_val))\n",
    "    print('Train set accuracy: {:.2f}%'.format(train_accuracy*100))\n",
    "    print('Validation set Accuracy: {:.2f}%'.format(val_accuracy* 100))\n",
    "    print('roc auc score: {:.2f}'.format(roc_auc_score_lr))"
   ]
  },
  {
   "cell_type": "markdown",
   "id": "e834052c",
   "metadata": {},
   "source": [
    "Let's check effect of number of estimators."
   ]
  },
  {
   "cell_type": "code",
   "execution_count": 176,
   "id": "f6d68953",
   "metadata": {},
   "outputs": [
    {
     "name": "stdout",
     "output_type": "stream",
     "text": [
      "Train set accuracy: 91.79%\n",
      "Validation set Accuracy: 92.88%\n",
      "roc auc score: 0.86\n"
     ]
    }
   ],
   "source": [
    "test_params_xgbc(n_estimators = 10)"
   ]
  },
  {
   "cell_type": "code",
   "execution_count": 177,
   "id": "4bc093b9",
   "metadata": {},
   "outputs": [
    {
     "name": "stdout",
     "output_type": "stream",
     "text": [
      "Train set accuracy: 91.87%\n",
      "Validation set Accuracy: 92.90%\n",
      "roc auc score: 0.85\n"
     ]
    }
   ],
   "source": [
    "test_params_xgbc(n_estimators = 20)"
   ]
  },
  {
   "cell_type": "code",
   "execution_count": 178,
   "id": "b2cf241b",
   "metadata": {},
   "outputs": [
    {
     "name": "stdout",
     "output_type": "stream",
     "text": [
      "Train set accuracy: 91.92%\n",
      "Validation set Accuracy: 92.92%\n",
      "roc auc score: 0.85\n"
     ]
    }
   ],
   "source": [
    "\n",
    "test_params_xgbc(n_estimators = 30)"
   ]
  },
  {
   "cell_type": "code",
   "execution_count": 179,
   "id": "48d63b8b",
   "metadata": {},
   "outputs": [
    {
     "name": "stdout",
     "output_type": "stream",
     "text": [
      "Train set accuracy: 92.05%\n",
      "Validation set Accuracy: 92.94%\n",
      "roc auc score: 0.85\n"
     ]
    }
   ],
   "source": [
    "test_params_xgbc(n_estimators = 50)"
   ]
  },
  {
   "cell_type": "markdown",
   "id": "04999837",
   "metadata": {},
   "source": [
    "Now let's check max_depth."
   ]
  },
  {
   "cell_type": "code",
   "execution_count": 180,
   "id": "a3f31bc0",
   "metadata": {},
   "outputs": [
    {
     "name": "stdout",
     "output_type": "stream",
     "text": [
      "Train set accuracy: 91.76%\n",
      "Validation set Accuracy: 92.86%\n",
      "roc auc score: 0.86\n"
     ]
    }
   ],
   "source": [
    "test_params_xgbc(n_estimators = 10, max_depth = 5)"
   ]
  },
  {
   "cell_type": "code",
   "execution_count": 181,
   "id": "9677520c",
   "metadata": {},
   "outputs": [
    {
     "name": "stdout",
     "output_type": "stream",
     "text": [
      "Train set accuracy: 92.13%\n",
      "Validation set Accuracy: 92.89%\n",
      "roc auc score: 0.85\n"
     ]
    }
   ],
   "source": [
    "test_params_xgbc(n_estimators = 10, max_depth = 10)"
   ]
  },
  {
   "cell_type": "code",
   "execution_count": 182,
   "id": "3e1958fa",
   "metadata": {},
   "outputs": [
    {
     "name": "stdout",
     "output_type": "stream",
     "text": [
      "Train set accuracy: 94.55%\n",
      "Validation set Accuracy: 92.57%\n",
      "roc auc score: 0.83\n"
     ]
    }
   ],
   "source": [
    "test_params_xgbc(n_estimators = 10, max_depth = 20)"
   ]
  },
  {
   "cell_type": "markdown",
   "id": "9999fb17",
   "metadata": {},
   "source": [
    "We can also explore learning_rate's effect on predictions."
   ]
  },
  {
   "cell_type": "code",
   "execution_count": 184,
   "id": "d16ffa64",
   "metadata": {},
   "outputs": [
    {
     "name": "stdout",
     "output_type": "stream",
     "text": [
      "Train set accuracy: 91.78%\n",
      "Validation set Accuracy: 92.85%\n",
      "roc auc score: 0.86\n"
     ]
    }
   ],
   "source": [
    "test_params_xgbc(n_estimators = 10, learning_rate = 0.2)"
   ]
  },
  {
   "cell_type": "code",
   "execution_count": 185,
   "id": "0f1dfe63",
   "metadata": {},
   "outputs": [
    {
     "name": "stdout",
     "output_type": "stream",
     "text": [
      "Train set accuracy: 91.79%\n",
      "Validation set Accuracy: 92.88%\n",
      "roc auc score: 0.86\n"
     ]
    }
   ],
   "source": [
    "test_params_xgbc(n_estimators = 10, learning_rate = 0.3)"
   ]
  },
  {
   "cell_type": "code",
   "execution_count": 186,
   "id": "9069edf4",
   "metadata": {},
   "outputs": [
    {
     "name": "stdout",
     "output_type": "stream",
     "text": [
      "Train set accuracy: 91.84%\n",
      "Validation set Accuracy: 92.89%\n",
      "roc auc score: 0.86\n"
     ]
    }
   ],
   "source": [
    "test_params_xgbc(n_estimators = 10, learning_rate = 0.4)"
   ]
  },
  {
   "cell_type": "code",
   "execution_count": 187,
   "id": "c700237e",
   "metadata": {},
   "outputs": [
    {
     "name": "stdout",
     "output_type": "stream",
     "text": [
      "Train set accuracy: 91.87%\n",
      "Validation set Accuracy: 92.80%\n",
      "roc auc score: 0.85\n"
     ]
    }
   ],
   "source": [
    "test_params_xgbc(n_estimators = 10, learning_rate = 0.5)"
   ]
  },
  {
   "cell_type": "code",
   "execution_count": 188,
   "id": "2639bd88",
   "metadata": {},
   "outputs": [
    {
     "name": "stdout",
     "output_type": "stream",
     "text": [
      "Train set accuracy: 92.13%\n",
      "Validation set Accuracy: 92.96%\n",
      "roc auc score: 0.85\n"
     ]
    }
   ],
   "source": [
    "test_params_xgbc(n_estimators = 40, max_depth = 7, learning_rate = 0.3)"
   ]
  },
  {
   "cell_type": "code",
   "execution_count": 189,
   "id": "8882fb72",
   "metadata": {},
   "outputs": [
    {
     "name": "stdout",
     "output_type": "stream",
     "text": [
      "Train set accuracy: 92.20%\n",
      "Validation set Accuracy: 92.95%\n",
      "roc auc score: 0.85\n"
     ]
    }
   ],
   "source": [
    "test_params_xgbc(n_estimators = 50, max_depth = 7, learning_rate = 0.3)"
   ]
  },
  {
   "cell_type": "code",
   "execution_count": 192,
   "id": "d8604778",
   "metadata": {},
   "outputs": [
    {
     "name": "stdout",
     "output_type": "stream",
     "text": [
      "Train set accuracy: 92.20%\n",
      "Validation set Accuracy: 92.95%\n",
      "Validation Classification report: \n",
      "               precision    recall  f1-score   support\n",
      "\n",
      "         0.0       0.95      0.97      0.96    196493\n",
      "         1.0       0.81      0.73      0.76     36553\n",
      "\n",
      "    accuracy                           0.93    233046\n",
      "   macro avg       0.88      0.85      0.86    233046\n",
      "weighted avg       0.93      0.93      0.93    233046\n",
      "\n",
      "roc auc score: 0.85\n"
     ]
    },
    {
     "data": {
      "image/png": "[encoded data removed]",
      "text/plain": [
       "<Figure size 1000x600 with 2 Axes>"
      ]
     },
     "metadata": {
      "needs_background": "light"
     },
     "output_type": "display_data"
    }
   ],
   "source": [
    "model_xgbc_best = XGBClassifier(n_estimators = 50, max_depth = 7, learning_rate = 0.3, random_state=42, n_jobs = -1,use_label_encoder=False, eval_metric = 'logloss')\n",
    "model_performance(model_xgbc_best, X_train, train_targets, X_val, val_targets)"
   ]
  },
  {
   "cell_type": "markdown",
   "id": "24004fc2",
   "metadata": {},
   "source": [
    "With gradient boosting algorithm of XGBoost we could achieve better accuracy on validation set, but for the highest of accuracy model, roc_auc_score is less compared to earlier models. For this reason we will select one more best model from XGBoost classifier to checck performance on test data."
   ]
  },
  {
   "cell_type": "code",
   "execution_count": 193,
   "id": "e3d2c373",
   "metadata": {},
   "outputs": [
    {
     "name": "stdout",
     "output_type": "stream",
     "text": [
      "Train set accuracy: 91.84%\n",
      "Validation set Accuracy: 92.89%\n",
      "Validation Classification report: \n",
      "               precision    recall  f1-score   support\n",
      "\n",
      "         0.0       0.95      0.96      0.96    196493\n",
      "         1.0       0.79      0.75      0.77     36553\n",
      "\n",
      "    accuracy                           0.93    233046\n",
      "   macro avg       0.87      0.86      0.86    233046\n",
      "weighted avg       0.93      0.93      0.93    233046\n",
      "\n",
      "roc auc score: 0.86\n"
     ]
    },
    {
     "data": {
      "image/png": "[encoded data removed]",
      "text/plain": [
       "<Figure size 1000x600 with 2 Axes>"
      ]
     },
     "metadata": {
      "needs_background": "light"
     },
     "output_type": "display_data"
    }
   ],
   "source": [
    "model_xgbc_best2 = XGBClassifier(n_estimators = 10, learning_rate = 0.4, random_state=42, n_jobs = -1,use_label_encoder=False, eval_metric = 'logloss')\n",
    "model_performance(model_xgbc_best2, X_train, train_targets, X_val, val_targets)"
   ]
  },
  {
   "cell_type": "code",
   "execution_count": 194,
   "id": "56ebcf10",
   "metadata": {},
   "outputs": [
    {
     "data": {
      "application/javascript": [
       "window.require && require([\"base/js/namespace\"],function(Jupyter){Jupyter.notebook.save_checkpoint()})"
      ],
      "text/plain": [
       "<IPython.core.display.Javascript object>"
      ]
     },
     "metadata": {},
     "output_type": "display_data"
    },
    {
     "name": "stdout",
     "output_type": "stream",
     "text": [
      "[jovian] Updating notebook \"choudhuryritu12/flight-delay-detection\" on https://jovian.com/\u001b[0m\n",
      "[jovian] Committed successfully! https://jovian.com/choudhuryritu12/flight-delay-detection\u001b[0m\n"
     ]
    },
    {
     "data": {
      "text/plain": [
       "'https://jovian.com/choudhuryritu12/flight-delay-detection'"
      ]
     },
     "execution_count": 194,
     "metadata": {},
     "output_type": "execute_result"
    }
   ],
   "source": [
    "jovian.commit()"
   ]
  },
  {
   "cell_type": "markdown",
   "id": "0fa1981c",
   "metadata": {},
   "source": [
    "### Making Predictions on New Inputs\n",
    "To predict delay on arrival for a single input (details of a single trip) we can write a function as follows. The two dictionaries, origin_cat_dict and dest_cat_dict are used for getting corresponding category for origin and destination airports."
   ]
  },
  {
   "cell_type": "code",
   "execution_count": 195,
   "id": "268c28ef",
   "metadata": {},
   "outputs": [],
   "source": [
    "# function to predict sample input\n",
    "def predict_input(model, single_input):\n",
    "    input_df = pd.DataFrame([single_input])\n",
    "    input_df['ORIGIN_CAT'] = origin_cat_dict[single_input['ORIGIN']]\n",
    "    input_df['DEST_CAT'] = dest_cat_dict[single_input['DEST']]\n",
    "    input_df[numeric_cols] = scaler.transform(input_df[numeric_cols])\n",
    "    input_df[encoded_cols] = encoder.transform(input_df[categorical_cols])\n",
    "    X_input = input_df[numeric_cols + encoded_cols]\n",
    "    pred = model.predict(X_input)[0]\n",
    "    prob = model.predict_proba(X_input)[0][list(model.classes_).index(pred)]\n",
    "    return pred, prob"
   ]
  },
  {
   "cell_type": "markdown",
   "id": "3d71a089",
   "metadata": {},
   "source": [
    "A single input by the name new_input is shown below."
   ]
  },
  {
   "cell_type": "code",
   "execution_count": 196,
   "id": "9c531c89",
   "metadata": {},
   "outputs": [],
   "source": [
    "new_input = {'DAY_OF_MONTH': 3,\n",
    "             'DAY_OF_WEEK': 2,\n",
    "             'OP_CARRIER': '9E',\n",
    "             'ORIGIN': 'ATL',\n",
    "             'DEST': 'LGA',\n",
    "             'DEP_TIME': 1225.0,\n",
    "             'DEP_DEL15': 0.0,\n",
    "             'DEP_TIME_BLK': '1200-1259',\n",
    "             'DISTANCE': 578.0 }"
   ]
  },
  {
   "cell_type": "markdown",
   "id": "d2235430",
   "metadata": {},
   "source": [
    "We use above function for prediction of arrival delay for the given input. We will use the logistic regression model named model_lr."
   ]
  },
  {
   "cell_type": "code",
   "execution_count": 197,
   "id": "95873986",
   "metadata": {},
   "outputs": [
    {
     "data": {
      "text/plain": [
       "(0.0, 0.9451725795050653)"
      ]
     },
     "execution_count": 197,
     "metadata": {},
     "output_type": "execute_result"
    }
   ],
   "source": [
    "predict_input(model_lr, new_input)"
   ]
  },
  {
   "cell_type": "markdown",
   "id": "6bab8b76",
   "metadata": {},
   "source": [
    "The model is predicting no delay (indicated by 0.0) with 0.94 probability."
   ]
  },
  {
   "cell_type": "code",
   "execution_count": 198,
   "id": "b8027347",
   "metadata": {},
   "outputs": [
    {
     "data": {
      "application/javascript": [
       "window.require && require([\"base/js/namespace\"],function(Jupyter){Jupyter.notebook.save_checkpoint()})"
      ],
      "text/plain": [
       "<IPython.core.display.Javascript object>"
      ]
     },
     "metadata": {},
     "output_type": "display_data"
    },
    {
     "name": "stdout",
     "output_type": "stream",
     "text": [
      "[jovian] Updating notebook \"choudhuryritu12/flight-delay-detection\" on https://jovian.com/\u001b[0m\n",
      "[jovian] Committed successfully! https://jovian.com/choudhuryritu12/flight-delay-detection\u001b[0m\n"
     ]
    },
    {
     "data": {
      "text/plain": [
       "'https://jovian.com/choudhuryritu12/flight-delay-detection'"
      ]
     },
     "execution_count": 198,
     "metadata": {},
     "output_type": "execute_result"
    }
   ],
   "source": [
    "jovian.commit()"
   ]
  },
  {
   "cell_type": "markdown",
   "id": "9f70719a",
   "metadata": {},
   "source": [
    "### Compare different models on Test Data"
   ]
  },
  {
   "cell_type": "code",
   "execution_count": 199,
   "id": "3e181484",
   "metadata": {},
   "outputs": [],
   "source": [
    "model_lr = LogisticRegression(solver = 'liblinear', random_state = 42)\n",
    "model_dtc_best = DecisionTreeClassifier(max_depth = 7, max_leaf_nodes = 128, min_samples_leaf = 5, random_state=42)\n",
    "model_rfc_best = RandomForestClassifier(n_jobs = -1, random_state = 42, n_estimators = 20, min_samples_leaf = 8)\n",
    "model_xgbc_best = XGBClassifier(n_estimators = 50, max_depth = 7, learning_rate = 0.3, random_state=42, n_jobs = -1,\n",
    "                                use_label_encoder=False, eval_metric = 'logloss')\n",
    "model_xgbc_best2 = XGBClassifier(n_estimators = 10, learning_rate = 0.4, random_state=42, n_jobs = -1,use_label_encoder=False, eval_metric = 'logloss')\n"
   ]
  },
  {
   "cell_type": "code",
   "execution_count": 200,
   "id": "c0d57ba9",
   "metadata": {},
   "outputs": [],
   "source": [
    "models = [model_lr, model_dtc_best, model_rfc_best, model_xgbc_best, model_xgbc_best2]\n",
    "accuracy_scores = []\n",
    "roc_auc_scores = []\n"
   ]
  },
  {
   "cell_type": "code",
   "execution_count": 201,
   "id": "c96cdf1a",
   "metadata": {},
   "outputs": [],
   "source": [
    "for model in models:\n",
    "  model.fit(X_train, train_targets)\n",
    "  test_preds = model.predict(X_test)\n",
    "  test_accuracy = accuracy_score(test_targets, test_preds)\n",
    "  roc_auc_score_test = roc_auc_score(test_targets, test_preds)\n",
    "  accuracy_scores.append(round(test_accuracy*100, 2))\n",
    "  roc_auc_scores.append(round(roc_auc_score_test, 3))\n"
   ]
  },
  {
   "cell_type": "code",
   "execution_count": 202,
   "id": "1b9b59c7",
   "metadata": {},
   "outputs": [],
   "source": [
    "test_results_df = pd.DataFrame({\n",
    "    'Model' : ['Logistic Regression', 'Decision Tree Classifier', 'Random Forest Classifier', 'XGBoost Classifier_1', 'XGBoost Classifier_2'],\n",
    "    'Accuracy': accuracy_scores,\n",
    "    'roc_auc_score': roc_auc_scores\n",
    "})"
   ]
  },
  {
   "cell_type": "code",
   "execution_count": 203,
   "id": "48ba0e8c",
   "metadata": {},
   "outputs": [
    {
     "data": {
      "text/html": [
       "<div>\n",
       "<style scoped>\n",
       "    .dataframe tbody tr th:only-of-type {\n",
       "        vertical-align: middle;\n",
       "    }\n",
       "\n",
       "    .dataframe tbody tr th {\n",
       "        vertical-align: top;\n",
       "    }\n",
       "\n",
       "    .dataframe thead th {\n",
       "        text-align: right;\n",
       "    }\n",
       "</style>\n",
       "<table border=\"1\" class=\"dataframe\">\n",
       "  <thead>\n",
       "    <tr style=\"text-align: right;\">\n",
       "      <th></th>\n",
       "      <th>Model</th>\n",
       "      <th>Accuracy</th>\n",
       "      <th>roc_auc_score</th>\n",
       "    </tr>\n",
       "  </thead>\n",
       "  <tbody>\n",
       "    <tr>\n",
       "      <th>0</th>\n",
       "      <td>Logistic Regression</td>\n",
       "      <td>94.22</td>\n",
       "      <td>0.849</td>\n",
       "    </tr>\n",
       "    <tr>\n",
       "      <th>1</th>\n",
       "      <td>Decision Tree Classifier</td>\n",
       "      <td>94.25</td>\n",
       "      <td>0.850</td>\n",
       "    </tr>\n",
       "    <tr>\n",
       "      <th>2</th>\n",
       "      <td>Random Forest Classifier</td>\n",
       "      <td>94.25</td>\n",
       "      <td>0.850</td>\n",
       "    </tr>\n",
       "    <tr>\n",
       "      <th>3</th>\n",
       "      <td>XGBoost Classifier_1</td>\n",
       "      <td>94.39</td>\n",
       "      <td>0.843</td>\n",
       "    </tr>\n",
       "    <tr>\n",
       "      <th>4</th>\n",
       "      <td>XGBoost Classifier_2</td>\n",
       "      <td>94.28</td>\n",
       "      <td>0.849</td>\n",
       "    </tr>\n",
       "  </tbody>\n",
       "</table>\n",
       "</div>"
      ],
      "text/plain": [
       "                      Model  Accuracy  roc_auc_score\n",
       "0       Logistic Regression     94.22          0.849\n",
       "1  Decision Tree Classifier     94.25          0.850\n",
       "2  Random Forest Classifier     94.25          0.850\n",
       "3      XGBoost Classifier_1     94.39          0.843\n",
       "4      XGBoost Classifier_2     94.28          0.849"
      ]
     },
     "execution_count": 203,
     "metadata": {},
     "output_type": "execute_result"
    }
   ],
   "source": [
    "test_results_df\n"
   ]
  },
  {
   "cell_type": "markdown",
   "id": "fb299186",
   "metadata": {},
   "source": [
    "Let's also add the model which predicts arrival delay purely by copying departure delay to the above dataframe to compare with our models."
   ]
  },
  {
   "cell_type": "code",
   "execution_count": 204,
   "id": "77edbe60",
   "metadata": {},
   "outputs": [],
   "source": [
    "test_dep_delay = test_df['DEP_DEL15']"
   ]
  },
  {
   "cell_type": "code",
   "execution_count": 205,
   "id": "d0b07853",
   "metadata": {},
   "outputs": [],
   "source": [
    "accuracy_copy_model = round(accuracy_score(test_targets, test_dep_delay)*100, 2)\n"
   ]
  },
  {
   "cell_type": "code",
   "execution_count": 206,
   "id": "814a2e4b",
   "metadata": {},
   "outputs": [],
   "source": [
    "roc_auc_copy_model = round(roc_auc_score(test_targets, test_dep_delay), 3)\n"
   ]
  },
  {
   "cell_type": "code",
   "execution_count": 207,
   "id": "6ebe6deb",
   "metadata": {},
   "outputs": [],
   "source": [
    "test_results_df.loc[5] = ['Departure Delay Copy Model', accuracy_copy_model, roc_auc_copy_model]\n"
   ]
  },
  {
   "cell_type": "code",
   "execution_count": 208,
   "id": "b4905eda",
   "metadata": {},
   "outputs": [
    {
     "data": {
      "text/html": [
       "<div>\n",
       "<style scoped>\n",
       "    .dataframe tbody tr th:only-of-type {\n",
       "        vertical-align: middle;\n",
       "    }\n",
       "\n",
       "    .dataframe tbody tr th {\n",
       "        vertical-align: top;\n",
       "    }\n",
       "\n",
       "    .dataframe thead th {\n",
       "        text-align: right;\n",
       "    }\n",
       "</style>\n",
       "<table border=\"1\" class=\"dataframe\">\n",
       "  <thead>\n",
       "    <tr style=\"text-align: right;\">\n",
       "      <th></th>\n",
       "      <th>Model</th>\n",
       "      <th>Accuracy</th>\n",
       "      <th>roc_auc_score</th>\n",
       "    </tr>\n",
       "  </thead>\n",
       "  <tbody>\n",
       "    <tr>\n",
       "      <th>0</th>\n",
       "      <td>Logistic Regression</td>\n",
       "      <td>94.22</td>\n",
       "      <td>0.849</td>\n",
       "    </tr>\n",
       "    <tr>\n",
       "      <th>1</th>\n",
       "      <td>Decision Tree Classifier</td>\n",
       "      <td>94.25</td>\n",
       "      <td>0.850</td>\n",
       "    </tr>\n",
       "    <tr>\n",
       "      <th>2</th>\n",
       "      <td>Random Forest Classifier</td>\n",
       "      <td>94.25</td>\n",
       "      <td>0.850</td>\n",
       "    </tr>\n",
       "    <tr>\n",
       "      <th>3</th>\n",
       "      <td>XGBoost Classifier_1</td>\n",
       "      <td>94.39</td>\n",
       "      <td>0.843</td>\n",
       "    </tr>\n",
       "    <tr>\n",
       "      <th>4</th>\n",
       "      <td>XGBoost Classifier_2</td>\n",
       "      <td>94.28</td>\n",
       "      <td>0.849</td>\n",
       "    </tr>\n",
       "    <tr>\n",
       "      <th>5</th>\n",
       "      <td>Departure Delay Copy Model</td>\n",
       "      <td>94.24</td>\n",
       "      <td>0.850</td>\n",
       "    </tr>\n",
       "  </tbody>\n",
       "</table>\n",
       "</div>"
      ],
      "text/plain": [
       "                        Model  Accuracy  roc_auc_score\n",
       "0         Logistic Regression     94.22          0.849\n",
       "1    Decision Tree Classifier     94.25          0.850\n",
       "2    Random Forest Classifier     94.25          0.850\n",
       "3        XGBoost Classifier_1     94.39          0.843\n",
       "4        XGBoost Classifier_2     94.28          0.849\n",
       "5  Departure Delay Copy Model     94.24          0.850"
      ]
     },
     "execution_count": 208,
     "metadata": {},
     "output_type": "execute_result"
    }
   ],
   "source": [
    "test_results_df"
   ]
  },
  {
   "cell_type": "markdown",
   "id": "93b7873c",
   "metadata": {},
   "source": [
    "It turns out that the XGBoost classifier model performs the best in terms of accuracy compared to other models.And this model loses roc_auc_score by a small value compared to others."
   ]
  },
  {
   "cell_type": "markdown",
   "id": "6ecb7167",
   "metadata": {},
   "source": [
    "### Saving and Loading Trained Models\n",
    "Now we will save check performance of our best model and save the model weights and other required items for future use,"
   ]
  },
  {
   "cell_type": "code",
   "execution_count": 209,
   "id": "4210d7e9",
   "metadata": {},
   "outputs": [
    {
     "data": {
      "text/html": [
       "<style>#sk-container-id-2 {color: black;}#sk-container-id-2 pre{padding: 0;}#sk-container-id-2 div.sk-toggleable {background-color: white;}#sk-container-id-2 label.sk-toggleable__label {cursor: pointer;display: block;width: 100%;margin-bottom: 0;padding: 0.3em;box-sizing: border-box;text-align: center;}#sk-container-id-2 label.sk-toggleable__label-arrow:before {content: \"▸\";float: left;margin-right: 0.25em;color: #696969;}#sk-container-id-2 label.sk-toggleable__label-arrow:hover:before {color: black;}#sk-container-id-2 div.sk-estimator:hover label.sk-toggleable__label-arrow:before {color: black;}#sk-container-id-2 div.sk-toggleable__content {max-height: 0;max-width: 0;overflow: hidden;text-align: left;background-color: #f0f8ff;}#sk-container-id-2 div.sk-toggleable__content pre {margin: 0.2em;color: black;border-radius: 0.25em;background-color: #f0f8ff;}#sk-container-id-2 input.sk-toggleable__control:checked~div.sk-toggleable__content {max-height: 200px;max-width: 100%;overflow: auto;}#sk-container-id-2 input.sk-toggleable__control:checked~label.sk-toggleable__label-arrow:before {content: \"▾\";}#sk-container-id-2 div.sk-estimator input.sk-toggleable__control:checked~label.sk-toggleable__label {background-color: #d4ebff;}#sk-container-id-2 div.sk-label input.sk-toggleable__control:checked~label.sk-toggleable__label {background-color: #d4ebff;}#sk-container-id-2 input.sk-hidden--visually {border: 0;clip: rect(1px 1px 1px 1px);clip: rect(1px, 1px, 1px, 1px);height: 1px;margin: -1px;overflow: hidden;padding: 0;position: absolute;width: 1px;}#sk-container-id-2 div.sk-estimator {font-family: monospace;background-color: #f0f8ff;border: 1px dotted black;border-radius: 0.25em;box-sizing: border-box;margin-bottom: 0.5em;}#sk-container-id-2 div.sk-estimator:hover {background-color: #d4ebff;}#sk-container-id-2 div.sk-parallel-item::after {content: \"\";width: 100%;border-bottom: 1px solid gray;flex-grow: 1;}#sk-container-id-2 div.sk-label:hover label.sk-toggleable__label {background-color: #d4ebff;}#sk-container-id-2 div.sk-serial::before {content: \"\";position: absolute;border-left: 1px solid gray;box-sizing: border-box;top: 0;bottom: 0;left: 50%;z-index: 0;}#sk-container-id-2 div.sk-serial {display: flex;flex-direction: column;align-items: center;background-color: white;padding-right: 0.2em;padding-left: 0.2em;position: relative;}#sk-container-id-2 div.sk-item {position: relative;z-index: 1;}#sk-container-id-2 div.sk-parallel {display: flex;align-items: stretch;justify-content: center;background-color: white;position: relative;}#sk-container-id-2 div.sk-item::before, #sk-container-id-2 div.sk-parallel-item::before {content: \"\";position: absolute;border-left: 1px solid gray;box-sizing: border-box;top: 0;bottom: 0;left: 50%;z-index: -1;}#sk-container-id-2 div.sk-parallel-item {display: flex;flex-direction: column;z-index: 1;position: relative;background-color: white;}#sk-container-id-2 div.sk-parallel-item:first-child::after {align-self: flex-end;width: 50%;}#sk-container-id-2 div.sk-parallel-item:last-child::after {align-self: flex-start;width: 50%;}#sk-container-id-2 div.sk-parallel-item:only-child::after {width: 0;}#sk-container-id-2 div.sk-dashed-wrapped {border: 1px dashed gray;margin: 0 0.4em 0.5em 0.4em;box-sizing: border-box;padding-bottom: 0.4em;background-color: white;}#sk-container-id-2 div.sk-label label {font-family: monospace;font-weight: bold;display: inline-block;line-height: 1.2em;}#sk-container-id-2 div.sk-label-container {text-align: center;}#sk-container-id-2 div.sk-container {/* jupyter's `normalize.less` sets `[hidden] { display: none; }` but bootstrap.min.css set `[hidden] { display: none !important; }` so we also need the `!important` here to be able to override the default hidden behavior on the sphinx rendered scikit-learn.org. See: https://github.com/scikit-learn/scikit-learn/issues/21755 */display: inline-block !important;position: relative;}#sk-container-id-2 div.sk-text-repr-fallback {display: none;}</style><div id=\"sk-container-id-2\" class=\"sk-top-container\"><div class=\"sk-text-repr-fallback\"><pre>XGBClassifier(base_score=None, booster=None, callbacks=None,\n",
       "              colsample_bylevel=None, colsample_bynode=None,\n",
       "              colsample_bytree=None, device=None, early_stopping_rounds=None,\n",
       "              enable_categorical=False, eval_metric=&#x27;logloss&#x27;,\n",
       "              feature_types=None, gamma=None, grow_policy=None,\n",
       "              importance_type=None, interaction_constraints=None,\n",
       "              learning_rate=0.3, max_bin=None, max_cat_threshold=None,\n",
       "              max_cat_to_onehot=None, max_delta_step=None, max_depth=7,\n",
       "              max_leaves=None, min_child_weight=None, missing=nan,\n",
       "              monotone_constraints=None, multi_strategy=None, n_estimators=50,\n",
       "              n_jobs=-1, num_parallel_tree=None, random_state=42, ...)</pre><b>In a Jupyter environment, please rerun this cell to show the HTML representation or trust the notebook. <br />On GitHub, the HTML representation is unable to render, please try loading this page with nbviewer.org.</b></div><div class=\"sk-container\" hidden><div class=\"sk-item\"><div class=\"sk-estimator sk-toggleable\"><input class=\"sk-toggleable__control sk-hidden--visually\" id=\"sk-estimator-id-2\" type=\"checkbox\" checked><label for=\"sk-estimator-id-2\" class=\"sk-toggleable__label sk-toggleable__label-arrow\">XGBClassifier</label><div class=\"sk-toggleable__content\"><pre>XGBClassifier(base_score=None, booster=None, callbacks=None,\n",
       "              colsample_bylevel=None, colsample_bynode=None,\n",
       "              colsample_bytree=None, device=None, early_stopping_rounds=None,\n",
       "              enable_categorical=False, eval_metric=&#x27;logloss&#x27;,\n",
       "              feature_types=None, gamma=None, grow_policy=None,\n",
       "              importance_type=None, interaction_constraints=None,\n",
       "              learning_rate=0.3, max_bin=None, max_cat_threshold=None,\n",
       "              max_cat_to_onehot=None, max_delta_step=None, max_depth=7,\n",
       "              max_leaves=None, min_child_weight=None, missing=nan,\n",
       "              monotone_constraints=None, multi_strategy=None, n_estimators=50,\n",
       "              n_jobs=-1, num_parallel_tree=None, random_state=42, ...)</pre></div></div></div></div></div>"
      ],
      "text/plain": [
       "XGBClassifier(base_score=None, booster=None, callbacks=None,\n",
       "              colsample_bylevel=None, colsample_bynode=None,\n",
       "              colsample_bytree=None, device=None, early_stopping_rounds=None,\n",
       "              enable_categorical=False, eval_metric='logloss',\n",
       "              feature_types=None, gamma=None, grow_policy=None,\n",
       "              importance_type=None, interaction_constraints=None,\n",
       "              learning_rate=0.3, max_bin=None, max_cat_threshold=None,\n",
       "              max_cat_to_onehot=None, max_delta_step=None, max_depth=7,\n",
       "              max_leaves=None, min_child_weight=None, missing=nan,\n",
       "              monotone_constraints=None, multi_strategy=None, n_estimators=50,\n",
       "              n_jobs=-1, num_parallel_tree=None, random_state=42, ...)"
      ]
     },
     "execution_count": 209,
     "metadata": {},
     "output_type": "execute_result"
    }
   ],
   "source": [
    "model_best = XGBClassifier(n_estimators = 50, max_depth = 7, learning_rate = 0.3, random_state=42, n_jobs = -1,\n",
    "                                use_label_encoder=False, eval_metric = 'logloss')\n",
    "model_best.fit(X_train, train_targets)"
   ]
  },
  {
   "cell_type": "code",
   "execution_count": 210,
   "id": "087b4799",
   "metadata": {},
   "outputs": [
    {
     "name": "stdout",
     "output_type": "stream",
     "text": [
      "Train set Accuracy: 92.20%\n",
      "Validation set Accuracy: 92.95%\n",
      "Test set Accuracy: 94.39%\n",
      "roc auc score on Test data: 0.84\n"
     ]
    },
    {
     "data": {
      "image/png": "[encoded data removed]",
      "text/plain": [
       "<Figure size 1000x600 with 2 Axes>"
      ]
     },
     "metadata": {
      "needs_background": "light"
     },
     "output_type": "display_data"
    }
   ],
   "source": [
    "train_preds = model_best.predict(X_train)\n",
    "val_preds = model_best.predict(X_val)\n",
    "test_preds = model_best.predict(X_test)\n",
    "train_accuracy = accuracy_score(train_targets, train_preds)\n",
    "val_accuracy = accuracy_score(val_targets, val_preds)\n",
    "test_accuracy = accuracy_score(test_targets, test_preds)\n",
    "print('Train set Accuracy: {:.2f}%'.format(train_accuracy*100))\n",
    "print('Validation set Accuracy: {:.2f}%'.format(val_accuracy* 100))\n",
    "print('Test set Accuracy: {:.2f}%'.format(test_accuracy* 100))\n",
    "print('roc auc score on Test data: {:.2f}'.format(roc_auc_score(test_targets, test_preds)))\n",
    "conf_matrix =  confusion_matrix(test_targets, test_preds, normalize = 'true')\n",
    "plt.figure()\n",
    "plt.title('Test Confusion Matrix')\n",
    "sns.heatmap(conf_matrix, annot = True);"
   ]
  },
  {
   "cell_type": "markdown",
   "id": "a250eb28",
   "metadata": {},
   "source": [
    "We can use the joblib module to save and load Python objects on the disk.\n",
    "\n"
   ]
  },
  {
   "cell_type": "code",
   "execution_count": 211,
   "id": "73d4f3f7",
   "metadata": {},
   "outputs": [],
   "source": [
    "import joblib\n"
   ]
  },
  {
   "cell_type": "code",
   "execution_count": 212,
   "id": "b5c77178",
   "metadata": {},
   "outputs": [],
   "source": [
    "flight_arrival_delay_prediction = {\n",
    "    'model': model_best,\n",
    "    'origin_cat': origin_cat_dict,\n",
    "    'dest_cat': dest_cat_dict,\n",
    "    'scaler': scaler,\n",
    "    'encoder': encoder,\n",
    "    'input_cols': input_cols,\n",
    "    'target_col': target_col,\n",
    "    'numeric_cols': numeric_cols,\n",
    "    'categorical_cols': categorical_cols,\n",
    "    'encoded_cols': encoded_cols\n",
    "}"
   ]
  },
  {
   "cell_type": "code",
   "execution_count": 213,
   "id": "7d464a84",
   "metadata": {},
   "outputs": [
    {
     "data": {
      "text/plain": [
       "['flight_arrival_delay_prediction.joblib']"
      ]
     },
     "execution_count": 213,
     "metadata": {},
     "output_type": "execute_result"
    }
   ],
   "source": [
    "joblib.dump(flight_arrival_delay_prediction, 'flight_arrival_delay_prediction.joblib')"
   ]
  },
  {
   "cell_type": "markdown",
   "id": "9ae95198",
   "metadata": {},
   "source": [
    "Now let's load this model and check on new_input"
   ]
  },
  {
   "cell_type": "code",
   "execution_count": 214,
   "id": "96a6f2b8",
   "metadata": {},
   "outputs": [
    {
     "data": {
      "text/plain": [
       "(0, 0.9774562)"
      ]
     },
     "execution_count": 214,
     "metadata": {},
     "output_type": "execute_result"
    }
   ],
   "source": [
    "flight_delay_2 = joblib.load('flight_arrival_delay_prediction.joblib')\n",
    "predict_input(flight_delay_2['model'], new_input)"
   ]
  },
  {
   "cell_type": "markdown",
   "id": "25231c3c",
   "metadata": {},
   "source": [
    "So our loaded best model is predicting no delay on arrival airport for single input with 0.95 probability.\n",
    "\n"
   ]
  },
  {
   "cell_type": "code",
   "execution_count": 215,
   "id": "33a33478",
   "metadata": {},
   "outputs": [
    {
     "data": {
      "application/javascript": [
       "window.require && require([\"base/js/namespace\"],function(Jupyter){Jupyter.notebook.save_checkpoint()})"
      ],
      "text/plain": [
       "<IPython.core.display.Javascript object>"
      ]
     },
     "metadata": {},
     "output_type": "display_data"
    },
    {
     "name": "stdout",
     "output_type": "stream",
     "text": [
      "[jovian] Updating notebook \"choudhuryritu12/flight-delay-detection\" on https://jovian.com/\u001b[0m\n",
      "[jovian] Committed successfully! https://jovian.com/choudhuryritu12/flight-delay-detection\u001b[0m\n"
     ]
    },
    {
     "data": {
      "text/plain": [
       "'https://jovian.com/choudhuryritu12/flight-delay-detection'"
      ]
     },
     "execution_count": 215,
     "metadata": {},
     "output_type": "execute_result"
    }
   ],
   "source": [
    "jovian.commit()"
   ]
  },
  {
   "cell_type": "code",
   "execution_count": null,
   "id": "bb49116f",
   "metadata": {},
   "outputs": [],
   "source": []
  }
 ],
 "metadata": {
  "kernelspec": {
   "display_name": "Python 3 (ipykernel)",
   "language": "python",
   "name": "python3"
  },
  "language_info": {
   "codemirror_mode": {
    "name": "ipython",
    "version": 3
   },
   "file_extension": ".py",
   "mimetype": "text/x-python",
   "name": "python",
   "nbconvert_exporter": "python",
   "pygments_lexer": "ipython3",
   "version": "3.11.1"
  }
 },
 "nbformat": 4,
 "nbformat_minor": 5
}
